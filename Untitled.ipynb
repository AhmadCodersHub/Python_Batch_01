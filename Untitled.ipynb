{
 "cells": [
  {
   "cell_type": "code",
   "execution_count": null,
   "id": "06230772-8fe3-4e94-9367-98073647a14a",
   "metadata": {},
   "outputs": [],
   "source": []
  },
  {
   "cell_type": "code",
   "execution_count": 31,
   "id": "f81d2497-015e-4654-b103-090c38d46743",
   "metadata": {},
   "outputs": [],
   "source": [
    "random_text = 'This fruit(Apple) price is 10.50 JBP.'\n",
    "\n",
    "# furit_name = 'Orange'\n",
    "# furit_price = '50'\n",
    "# currency = 'pkr'"
   ]
  },
  {
   "cell_type": "code",
   "execution_count": 32,
   "id": "0863068d-ebdc-4d26-b6e1-cb6cd891d7ee",
   "metadata": {},
   "outputs": [],
   "source": [
    "split_text = random_text.split(' ')\n",
    "furit_name_text = split_text[1]\n",
    "fruit_name = furit_name_text.replace('fruit(','').replace(')','')\n",
    "float_price = float(split_text[-2])\n",
    "furit_price = int(float_price)\n",
    "currency_text = split_text[-1]\n",
    "currency = currency_text.replace('.','').lower()"
   ]
  },
  {
   "cell_type": "code",
   "execution_count": 34,
   "id": "4461ecd0-f0ef-4808-a753-93a57335685e",
   "metadata": {},
   "outputs": [
    {
     "data": {
      "text/plain": [
       "['This', 'fruit(Apple)', 'price', 'is', '1000000000000.50', 'JBP.']"
      ]
     },
     "execution_count": 34,
     "metadata": {},
     "output_type": "execute_result"
    }
   ],
   "source": [
    "split_text"
   ]
  },
  {
   "cell_type": "code",
   "execution_count": 33,
   "id": "520bc1f3-ed42-4bbf-8d52-b63c65e53ea4",
   "metadata": {},
   "outputs": [
    {
     "name": "stdout",
     "output_type": "stream",
     "text": [
      "Apple\n",
      "1000000000000\n",
      "jbp\n"
     ]
    }
   ],
   "source": [
    "print(fruit_name)\n",
    "print(furit_price)\n",
    "print(currency)"
   ]
  },
  {
   "cell_type": "code",
   "execution_count": 22,
   "id": "fc1c963b-9b5d-43e8-906a-49fdba00345c",
   "metadata": {},
   "outputs": [
    {
     "data": {
      "text/plain": [
       "['This', 'fruit(Banana)', 'price', 'is', '60.05', 'Pkr.']"
      ]
     },
     "execution_count": 22,
     "metadata": {},
     "output_type": "execute_result"
    }
   ],
   "source": [
    "split_text"
   ]
  },
  {
   "cell_type": "code",
   "execution_count": 3,
   "id": "80f54704-267c-4941-aaf1-264b337a7dfa",
   "metadata": {},
   "outputs": [
    {
     "name": "stdout",
     "output_type": "stream",
     "text": [
      "furit\n",
      "50.99\n",
      "pkr\n"
     ]
    }
   ],
   "source": [
    "# areeba \n",
    "random_text = 'furit'\n",
    "print(random_text)\n",
    "random_text = '50.99'\n",
    "print(random_text)\n",
    "currency = 'pkr'\n",
    "print(currency)"
   ]
  },
  {
   "cell_type": "code",
   "execution_count": 5,
   "id": "b48e3e1f-9414-49bd-877c-c6eea7076e8a",
   "metadata": {},
   "outputs": [
    {
     "name": "stdout",
     "output_type": "stream",
     "text": [
      "\n",
      "\n",
      "\n"
     ]
    }
   ],
   "source": [
    "# ayesha\n",
    "text = random_text[10:16]\n",
    "text_2 = text[-4:-1]\n",
    "text_3 = text_2[-10:-8]\n",
    "print(text_3)\n",
    "print(text_2)\n",
    "print(text)\n"
   ]
  },
  {
   "cell_type": "code",
   "execution_count": null,
   "id": "a1fafe86",
   "metadata": {},
   "outputs": [],
   "source": []
  },
  {
   "cell_type": "code",
   "execution_count": null,
   "id": "9c52249d",
   "metadata": {},
   "outputs": [],
   "source": []
  },
  {
   "cell_type": "code",
   "execution_count": null,
   "id": "7840a6af",
   "metadata": {},
   "outputs": [],
   "source": []
  },
  {
   "cell_type": "code",
   "execution_count": null,
   "id": "02471d40",
   "metadata": {},
   "outputs": [],
   "source": []
  },
  {
   "cell_type": "code",
   "execution_count": 4,
   "id": "ccba0b94",
   "metadata": {},
   "outputs": [],
   "source": [
    "hour = 6.7\n",
    "per_hour_drinks_liters = 0.5"
   ]
  },
  {
   "cell_type": "code",
   "execution_count": 5,
   "id": "c655e846",
   "metadata": {},
   "outputs": [
    {
     "data": {
      "text/plain": [
       "3"
      ]
     },
     "execution_count": 5,
     "metadata": {},
     "output_type": "execute_result"
    }
   ],
   "source": [
    "int(per_hour_drinks_liters * hour)"
   ]
  },
  {
   "cell_type": "code",
   "execution_count": 4,
   "id": "983530c7",
   "metadata": {},
   "outputs": [
    {
     "data": {
      "text/plain": [
       "64"
      ]
     },
     "execution_count": 4,
     "metadata": {},
     "output_type": "execute_result"
    }
   ],
   "source": [
    "8 ** 2"
   ]
  }
 ],
 "metadata": {
  "kernelspec": {
   "display_name": "Python 3",
   "language": "python",
   "name": "python3"
  },
  "language_info": {
   "codemirror_mode": {
    "name": "ipython",
    "version": 3
   },
   "file_extension": ".py",
   "mimetype": "text/x-python",
   "name": "python",
   "nbconvert_exporter": "python",
   "pygments_lexer": "ipython3",
   "version": "3.12.4"
  }
 },
 "nbformat": 4,
 "nbformat_minor": 5
}
