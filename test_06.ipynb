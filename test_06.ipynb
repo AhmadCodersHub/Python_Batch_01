{
 "cells": [
  {
   "cell_type": "code",
   "execution_count": 2,
   "id": "a6a6ce36-5a2c-406f-8fc4-b1fc4017cc65",
   "metadata": {},
   "outputs": [
    {
     "name": "stdout",
     "output_type": "stream",
     "text": [
      "[3]\n"
     ]
    }
   ],
   "source": [
    "num_range = range(3,6,9)\n",
    "print(list(num_range))"
   ]
  },
  {
   "cell_type": "code",
   "execution_count": null,
   "id": "d9d86c0c-8150-479a-b57a-697a6c9eac9d",
   "metadata": {},
   "outputs": [
    {
     "name": "stdout",
     "output_type": "stream",
     "text": [
      "[3, 5, 7]\n"
     ]
    }
   ],
   "source": [
    "num_range = range(3,9,2)\n",
    "print(list(num_range)) "
   ]
  },
  {
   "cell_type": "code",
   "execution_count": null,
   "id": "7030d214-eb02-4452-83b4-7f1f85a26c06",
   "metadata": {},
   "outputs": [
    {
     "name": "stdout",
     "output_type": "stream",
     "text": [
      "[1, 2, 3, 4, 4, 5, 6, 'name', 'ali', 'orange']\n"
     ]
    }
   ],
   "source": [
    "number_list = [1,2,3,4,4,5,6,'name','ali','orange']\n",
    "print(number_list) "
   ]
  },
  {
   "cell_type": "code",
   "execution_count": null,
   "id": "7f640aa7-40d4-40bf-a9c8-d8424d181731",
   "metadata": {},
   "outputs": [
    {
     "name": "stdout",
     "output_type": "stream",
     "text": [
      "(1, 2, 3, 4, 4, 5)\n"
     ]
    }
   ],
   "source": [
    "number_of_tuple = (1,2,3,4,4,5)\n",
    "print(number_of_tuple) "
   ]
  }
 ],
 "metadata": {
  "kernelspec": {
   "display_name": "Python 3 (ipykernel)",
   "language": "python",
   "name": "python3"
  },
  "language_info": {
   "codemirror_mode": {
    "name": "ipython",
    "version": 3
   },
   "file_extension": ".py",
   "mimetype": "text/x-python",
   "name": "python",
   "nbconvert_exporter": "python",
   "pygments_lexer": "ipython3",
   "version": "3.12.4"
  }
 },
 "nbformat": 4,
 "nbformat_minor": 5
}
