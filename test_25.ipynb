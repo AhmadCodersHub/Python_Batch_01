{
 "cells": [
  {
   "cell_type": "code",
   "execution_count": null,
   "id": "f30ef70a-bb22-426a-beb5-27e96a3f953e",
   "metadata": {},
   "outputs": [],
   "source": []
  },
  {
   "cell_type": "code",
   "execution_count": 3,
   "id": "6b61bceb-2907-4ad9-a423-4f905f3c2523",
   "metadata": {},
   "outputs": [],
   "source": [
    "txt = \"Hello Iam Here.\"\n",
    "\n",
    "# print(answer)\n",
    "# Hello I'am here!"
   ]
  },
  {
   "cell_type": "code",
   "execution_count": 4,
   "id": "28f27d5d-92c7-4c39-b6a4-af2d007b71c5",
   "metadata": {},
   "outputs": [
    {
     "name": "stdout",
     "output_type": "stream",
     "text": [
      "Hello I'am here!\n"
     ]
    }
   ],
   "source": [
    "txt_1 = txt.replace('Iam',\"I'am\").replace('Here.','here!')\n",
    "answer = txt_1\n",
    "print(answer)"
   ]
  },
  {
   "cell_type": "code",
   "execution_count": null,
   "id": "e40c8ef5-366d-4d18-9859-b973fd964782",
   "metadata": {},
   "outputs": [],
   "source": []
  },
  {
   "cell_type": "code",
   "execution_count": 12,
   "id": "9ec42566-7f12-4c23-b940-136d06fb7c69",
   "metadata": {},
   "outputs": [],
   "source": [
    "list_of_children = ['On Time','Late','On Time']\n",
    "# print(result)\n",
    "# True"
   ]
  },
  {
   "cell_type": "code",
   "execution_count": 7,
   "id": "1de79d39-8b1b-4894-9362-ef348adf5ed3",
   "metadata": {},
   "outputs": [
    {
     "ename": "AttributeError",
     "evalue": "'list' object has no attribute 'endswith'",
     "output_type": "error",
     "traceback": [
      "\u001b[1;31m---------------------------------------------------------------------------\u001b[0m",
      "\u001b[1;31mAttributeError\u001b[0m                            Traceback (most recent call last)",
      "Cell \u001b[1;32mIn[7], line 1\u001b[0m\n\u001b[1;32m----> 1\u001b[0m result \u001b[38;5;241m=\u001b[39m \u001b[43mlist_of_children\u001b[49m\u001b[38;5;241;43m.\u001b[39;49m\u001b[43mendswith\u001b[49m(\u001b[38;5;124m'\u001b[39m\u001b[38;5;124mLate\u001b[39m\u001b[38;5;124m'\u001b[39m)\n\u001b[0;32m      2\u001b[0m \u001b[38;5;28mprint\u001b[39m(result)\n",
      "\u001b[1;31mAttributeError\u001b[0m: 'list' object has no attribute 'endswith'"
     ]
    }
   ],
   "source": [
    "result = list_of_children.endswith('Late')\n",
    "print(result)"
   ]
  },
  {
   "cell_type": "code",
   "execution_count": 13,
   "id": "d00997ce-9869-49c3-88b7-c1a0475f05d8",
   "metadata": {},
   "outputs": [
    {
     "name": "stdout",
     "output_type": "stream",
     "text": [
      "True\n"
     ]
    }
   ],
   "source": [
    "last_children = list_of_children[-1]\n",
    "result = last_children == 'On Time'\n",
    "print(result)"
   ]
  },
  {
   "cell_type": "code",
   "execution_count": null,
   "id": "3a1c8f01-0b18-4b62-a7d2-14ca3ace5bf0",
   "metadata": {},
   "outputs": [],
   "source": []
  },
  {
   "cell_type": "code",
   "execution_count": 14,
   "id": "991db6f3-7061-4c4b-8101-a1d78e3ac9ed",
   "metadata": {},
   "outputs": [
    {
     "data": {
      "text/plain": [
       "False"
      ]
     },
     "execution_count": 14,
     "metadata": {},
     "output_type": "execute_result"
    }
   ],
   "source": [
    "9 > 11"
   ]
  },
  {
   "cell_type": "code",
   "execution_count": 15,
   "id": "036ed07e-2546-4749-8945-d70bc6b5893b",
   "metadata": {},
   "outputs": [
    {
     "data": {
      "text/plain": [
       "True"
      ]
     },
     "execution_count": 15,
     "metadata": {},
     "output_type": "execute_result"
    }
   ],
   "source": [
    "10 == 10 and 11 != 10 and 5==5"
   ]
  },
  {
   "cell_type": "code",
   "execution_count": null,
   "id": "71e9a320-18cb-49a1-a18b-dae98c10de16",
   "metadata": {},
   "outputs": [],
   "source": []
  }
 ],
 "metadata": {
  "kernelspec": {
   "display_name": "Python 3 (ipykernel)",
   "language": "python",
   "name": "python3"
  },
  "language_info": {
   "codemirror_mode": {
    "name": "ipython",
    "version": 3
   },
   "file_extension": ".py",
   "mimetype": "text/x-python",
   "name": "python",
   "nbconvert_exporter": "python",
   "pygments_lexer": "ipython3",
   "version": "3.12.4"
  }
 },
 "nbformat": 4,
 "nbformat_minor": 5
}
