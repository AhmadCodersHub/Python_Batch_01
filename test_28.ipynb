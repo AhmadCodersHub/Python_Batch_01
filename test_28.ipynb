{
 "cells": [
  {
   "cell_type": "code",
   "execution_count": 5,
   "id": "6cea1430-d844-48a1-86c5-a06fcb837431",
   "metadata": {},
   "outputs": [],
   "source": [
    "furit_list = ['Apple','Banana','Apple']\n",
    "# furit_list.remove('Apple')"
   ]
  },
  {
   "cell_type": "code",
   "execution_count": 3,
   "id": "5751b92e-1292-4938-90fc-ccd755c8f9d6",
   "metadata": {},
   "outputs": [
    {
     "name": "stdout",
     "output_type": "stream",
     "text": [
      "['Banana', 'Apple']\n"
     ]
    }
   ],
   "source": [
    "furit_list"
   ]
  },
  {
   "cell_type": "code",
   "execution_count": 4,
   "id": "ca809eda-ddd2-40ab-acfe-57b84b1f93a1",
   "metadata": {},
   "outputs": [
    {
     "data": {
      "text/plain": [
       "'Banana'"
      ]
     },
     "execution_count": 4,
     "metadata": {},
     "output_type": "execute_result"
    }
   ],
   "source": [
    "furit_list.pop(-2)"
   ]
  },
  {
   "cell_type": "code",
   "execution_count": 6,
   "id": "cdeca4de-6d05-4ba0-96d7-505bfdc13f91",
   "metadata": {},
   "outputs": [],
   "source": [
    "del furit_list[-2]"
   ]
  },
  {
   "cell_type": "code",
   "execution_count": 7,
   "id": "2b0eff36-0a9f-4f98-8c39-a082b9a42a1b",
   "metadata": {},
   "outputs": [
    {
     "data": {
      "text/plain": [
       "['Apple', 'Apple']"
      ]
     },
     "execution_count": 7,
     "metadata": {},
     "output_type": "execute_result"
    }
   ],
   "source": [
    "furit_list"
   ]
  },
  {
   "cell_type": "code",
   "execution_count": null,
   "id": "415cc422-1097-4603-bcf2-4ccfa874c3af",
   "metadata": {},
   "outputs": [],
   "source": []
  },
  {
   "cell_type": "code",
   "execution_count": 8,
   "id": "39bee5c8-b7fc-49e3-a4c1-e24eee45d482",
   "metadata": {},
   "outputs": [],
   "source": [
    "furit_list = ['Orange','Cherry','Apple','Banana','Apple']"
   ]
  },
  {
   "cell_type": "code",
   "execution_count": 9,
   "id": "421d7221-450b-415e-8a2c-6e237ebcf7eb",
   "metadata": {},
   "outputs": [],
   "source": [
    "furit_list.sort()"
   ]
  },
  {
   "cell_type": "code",
   "execution_count": 10,
   "id": "161f7c12-61d4-4019-a7e7-57ecc4e3ae98",
   "metadata": {},
   "outputs": [
    {
     "name": "stdout",
     "output_type": "stream",
     "text": [
      "['Apple', 'Apple', 'Banana', 'Cherry', 'Orange']\n"
     ]
    }
   ],
   "source": [
    "print(furit_list)"
   ]
  },
  {
   "cell_type": "code",
   "execution_count": 11,
   "id": "7d41c851-8b9e-457f-b74e-3068631c9ce8",
   "metadata": {},
   "outputs": [],
   "source": [
    "furit_list.reverse()"
   ]
  },
  {
   "cell_type": "code",
   "execution_count": 14,
   "id": "205dfba8-59bc-4062-be76-56b1d87918d6",
   "metadata": {},
   "outputs": [
    {
     "name": "stdout",
     "output_type": "stream",
     "text": [
      "['Orange', 'Cherry', 'Banana', 'Apple', 'Apple']\n"
     ]
    }
   ],
   "source": [
    "print(furit_list)"
   ]
  },
  {
   "cell_type": "code",
   "execution_count": 15,
   "id": "7e809dc0-87ba-417c-b39a-668f9166c8de",
   "metadata": {},
   "outputs": [
    {
     "data": {
      "text/plain": [
       "['Apple', 'Apple', 'Banana', 'Cherry', 'Orange']"
      ]
     },
     "execution_count": 15,
     "metadata": {},
     "output_type": "execute_result"
    }
   ],
   "source": [
    "furit_list[::-1]"
   ]
  }
 ],
 "metadata": {
  "kernelspec": {
   "display_name": "Python 3 (ipykernel)",
   "language": "python",
   "name": "python3"
  },
  "language_info": {
   "codemirror_mode": {
    "name": "ipython",
    "version": 3
   },
   "file_extension": ".py",
   "mimetype": "text/x-python",
   "name": "python",
   "nbconvert_exporter": "python",
   "pygments_lexer": "ipython3",
   "version": "3.12.4"
  }
 },
 "nbformat": 4,
 "nbformat_minor": 5
}
