{
 "cells": [
  {
   "cell_type": "markdown",
   "id": "489c68bd-f051-49e6-87e6-da96309f9046",
   "metadata": {},
   "source": [
    "### Python Casting"
   ]
  },
  {
   "cell_type": "code",
   "execution_count": 1,
   "id": "217b8bde-1591-4922-a58e-dfdb07d8e292",
   "metadata": {},
   "outputs": [],
   "source": [
    "number = 9"
   ]
  },
  {
   "cell_type": "code",
   "execution_count": 2,
   "id": "353c6a7f-8c29-4dc6-ad70-7529a8b3ec9e",
   "metadata": {},
   "outputs": [
    {
     "name": "stdout",
     "output_type": "stream",
     "text": [
      "9\n"
     ]
    }
   ],
   "source": [
    "print(number)"
   ]
  },
  {
   "cell_type": "code",
   "execution_count": 6,
   "id": "3fc91335-b619-493f-924c-6ee35e11284a",
   "metadata": {},
   "outputs": [
    {
     "name": "stdout",
     "output_type": "stream",
     "text": [
      "<class 'int'>\n"
     ]
    }
   ],
   "source": [
    "print(type(number))"
   ]
  },
  {
   "cell_type": "code",
   "execution_count": 4,
   "id": "f76a0332-a62e-4134-a793-36d58414698e",
   "metadata": {},
   "outputs": [
    {
     "name": "stdout",
     "output_type": "stream",
     "text": [
      "9\n"
     ]
    }
   ],
   "source": [
    "str_num = str(number)\n",
    "\n",
    "print(str_num)"
   ]
  },
  {
   "cell_type": "code",
   "execution_count": 5,
   "id": "979843ad-1d88-4edf-b7ca-4cc049c367ea",
   "metadata": {},
   "outputs": [
    {
     "name": "stdout",
     "output_type": "stream",
     "text": [
      "<class 'str'>\n"
     ]
    }
   ],
   "source": [
    "print(type(str_num))"
   ]
  },
  {
   "cell_type": "code",
   "execution_count": null,
   "id": "78d13df0-754d-4e3f-b811-b72b8b713122",
   "metadata": {},
   "outputs": [],
   "source": []
  },
  {
   "cell_type": "code",
   "execution_count": 7,
   "id": "7c3d1852-0634-4009-b3fd-52aba1791af0",
   "metadata": {},
   "outputs": [],
   "source": [
    "float_var = float(number)"
   ]
  },
  {
   "cell_type": "code",
   "execution_count": 8,
   "id": "47ef41dd-87b0-4b5c-90a0-a24bc9d7dd6e",
   "metadata": {},
   "outputs": [
    {
     "name": "stdout",
     "output_type": "stream",
     "text": [
      "9.0\n"
     ]
    }
   ],
   "source": [
    "print(float_var)"
   ]
  },
  {
   "cell_type": "code",
   "execution_count": 9,
   "id": "3f2a83a4-fa04-493b-be63-4408d13009e1",
   "metadata": {},
   "outputs": [
    {
     "name": "stdout",
     "output_type": "stream",
     "text": [
      "<class 'float'>\n"
     ]
    }
   ],
   "source": [
    "print(type(float_var))"
   ]
  },
  {
   "cell_type": "code",
   "execution_count": 10,
   "id": "143fd2b8-70d0-42cb-b6ce-629ceb92f8a3",
   "metadata": {},
   "outputs": [
    {
     "name": "stdout",
     "output_type": "stream",
     "text": [
      "<class 'int'>\n"
     ]
    }
   ],
   "source": [
    "print(type(int(str_num)))"
   ]
  }
 ],
 "metadata": {
  "kernelspec": {
   "display_name": "Python 3 (ipykernel)",
   "language": "python",
   "name": "python3"
  },
  "language_info": {
   "codemirror_mode": {
    "name": "ipython",
    "version": 3
   },
   "file_extension": ".py",
   "mimetype": "text/x-python",
   "name": "python",
   "nbconvert_exporter": "python",
   "pygments_lexer": "ipython3",
   "version": "3.12.4"
  }
 },
 "nbformat": 4,
 "nbformat_minor": 5
}
