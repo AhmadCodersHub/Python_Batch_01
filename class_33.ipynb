{
 "cells": [
  {
   "cell_type": "markdown",
   "id": "0cae12f1-4899-49df-8df5-7919048e64bd",
   "metadata": {},
   "source": [
    "### Python Dictionaries"
   ]
  },
  {
   "cell_type": "code",
   "execution_count": 17,
   "id": "6130d92c-2cb3-45ec-b1ef-90a753c8312f",
   "metadata": {},
   "outputs": [],
   "source": [
    "thisdict = {\n",
    "  \"brand\": \"Ford\",\n",
    "  \"model\": \"Mustang\",\n",
    "  \"year\": 1964\n",
    "}"
   ]
  },
  {
   "cell_type": "code",
   "execution_count": 5,
   "id": "f2035ed4-f257-437a-ac49-7117e3b8fdd9",
   "metadata": {},
   "outputs": [],
   "source": [
    "# dict accessing"
   ]
  },
  {
   "cell_type": "code",
   "execution_count": 21,
   "id": "7bab24a5-de0b-48d3-b69a-64be9b4731a7",
   "metadata": {},
   "outputs": [],
   "source": [
    "# 1 method"
   ]
  },
  {
   "cell_type": "code",
   "execution_count": 19,
   "id": "c4179434-10c7-427f-8b8a-bbdef1cc771e",
   "metadata": {},
   "outputs": [
    {
     "name": "stdout",
     "output_type": "stream",
     "text": [
      "Ford\n"
     ]
    }
   ],
   "source": [
    "brand = thisdict['brand']\n",
    "print(brand)"
   ]
  },
  {
   "cell_type": "code",
   "execution_count": 20,
   "id": "12811e72-be7e-439b-a52e-63ba878bf8bf",
   "metadata": {},
   "outputs": [],
   "source": [
    "# 2nd method"
   ]
  },
  {
   "cell_type": "code",
   "execution_count": 54,
   "id": "17351278-740e-4dbb-a446-a9b2ce9ddf7e",
   "metadata": {},
   "outputs": [],
   "source": [
    "thisdict = {\n",
    "  \"brand\": \"Ford\",\n",
    "  \"model\": \"Mustang\",\n",
    "  \"year\": 1964,\n",
    "    \"color\": 'black',\n",
    "} "
   ]
  },
  {
   "cell_type": "code",
   "execution_count": 35,
   "id": "72c0f0e4-5fbe-4dad-b310-e52fe10db902",
   "metadata": {},
   "outputs": [],
   "source": [
    "# color = thisdict['color']\n",
    "# print(color)"
   ]
  },
  {
   "cell_type": "code",
   "execution_count": 56,
   "id": "7a86b9c6-6255-47ea-9eee-566bd759f138",
   "metadata": {},
   "outputs": [
    {
     "data": {
      "text/plain": [
       "'black'"
      ]
     },
     "execution_count": 56,
     "metadata": {},
     "output_type": "execute_result"
    }
   ],
   "source": [
    "color = thisdict.get('color','')\n",
    "color"
   ]
  },
  {
   "cell_type": "code",
   "execution_count": 40,
   "id": "7dec1a62-6c81-446c-ba76-2282da962cca",
   "metadata": {},
   "outputs": [
    {
     "name": "stdout",
     "output_type": "stream",
     "text": [
      "4\n"
     ]
    }
   ],
   "source": [
    "# len()\n",
    "\n",
    "print(len(thisdict))"
   ]
  },
  {
   "cell_type": "code",
   "execution_count": 41,
   "id": "950aefd3-318e-4719-bd3e-f4adcef8baf7",
   "metadata": {},
   "outputs": [
    {
     "name": "stdout",
     "output_type": "stream",
     "text": [
      "['brand', 'model', 'year', 'color']\n"
     ]
    }
   ],
   "source": [
    "# .keys()\n",
    "\n",
    "all_keys = list(thisdict.keys())\n",
    "print(all_keys) "
   ]
  },
  {
   "cell_type": "code",
   "execution_count": 42,
   "id": "8f4d932f-e511-4674-a4eb-e63a1738e445",
   "metadata": {},
   "outputs": [],
   "source": [
    "# .values()"
   ]
  },
  {
   "cell_type": "code",
   "execution_count": 43,
   "id": "79f93dbf-85ea-497d-85ab-19762d6127cf",
   "metadata": {},
   "outputs": [
    {
     "name": "stdout",
     "output_type": "stream",
     "text": [
      "['Ford', 'Mustang', 1964, 'black']\n"
     ]
    }
   ],
   "source": [
    "all_values = list(thisdict.values())\n",
    "print(all_values) "
   ]
  }
 ],
 "metadata": {
  "kernelspec": {
   "display_name": "Python 3 (ipykernel)",
   "language": "python",
   "name": "python3"
  },
  "language_info": {
   "codemirror_mode": {
    "name": "ipython",
    "version": 3
   },
   "file_extension": ".py",
   "mimetype": "text/x-python",
   "name": "python",
   "nbconvert_exporter": "python",
   "pygments_lexer": "ipython3",
   "version": "3.12.4"
  }
 },
 "nbformat": 4,
 "nbformat_minor": 5
}
