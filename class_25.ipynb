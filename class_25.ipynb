{
 "cells": [
  {
   "cell_type": "markdown",
   "id": "3c0e04b1-4657-4102-b169-f6af11e82bc1",
   "metadata": {},
   "source": [
    "### Python Membership Operators"
   ]
  },
  {
   "cell_type": "code",
   "execution_count": 1,
   "id": "b91d04c9-a51d-42be-bd8c-3cdc02f632a7",
   "metadata": {},
   "outputs": [],
   "source": [
    "# in"
   ]
  },
  {
   "cell_type": "code",
   "execution_count": 2,
   "id": "90a71228-3b50-4eed-8ab4-05cd3ef1a96e",
   "metadata": {},
   "outputs": [
    {
     "data": {
      "text/plain": [
       "True"
      ]
     },
     "execution_count": 2,
     "metadata": {},
     "output_type": "execute_result"
    }
   ],
   "source": [
    "'apple' in 'This is a furit(apple).'"
   ]
  },
  {
   "cell_type": "code",
   "execution_count": 3,
   "id": "109ad322-2bd2-464e-a0a6-058e16d43e32",
   "metadata": {},
   "outputs": [
    {
     "data": {
      "text/plain": [
       "True"
      ]
     },
     "execution_count": 3,
     "metadata": {},
     "output_type": "execute_result"
    }
   ],
   "source": [
    "list_of_furit = ['apple','banana','mango']\n",
    "'apple' in list_of_furit"
   ]
  },
  {
   "cell_type": "code",
   "execution_count": null,
   "id": "0f83d310-8563-4a25-a8fd-d4f3431178ba",
   "metadata": {},
   "outputs": [],
   "source": []
  },
  {
   "cell_type": "code",
   "execution_count": null,
   "id": "0e0a59a7-1437-407f-8f36-d77cb7ac2119",
   "metadata": {},
   "outputs": [],
   "source": [
    "# not in"
   ]
  },
  {
   "cell_type": "code",
   "execution_count": 6,
   "id": "0de43091-7ac2-4482-b973-0d933bd37b14",
   "metadata": {},
   "outputs": [
    {
     "data": {
      "text/plain": [
       "True"
      ]
     },
     "execution_count": 6,
     "metadata": {},
     "output_type": "execute_result"
    }
   ],
   "source": [
    "list_of_furit = ['apple','banana','mango']\n",
    "'appless' not in list_of_furit"
   ]
  }
 ],
 "metadata": {
  "kernelspec": {
   "display_name": "Python 3 (ipykernel)",
   "language": "python",
   "name": "python3"
  },
  "language_info": {
   "codemirror_mode": {
    "name": "ipython",
    "version": 3
   },
   "file_extension": ".py",
   "mimetype": "text/x-python",
   "name": "python",
   "nbconvert_exporter": "python",
   "pygments_lexer": "ipython3",
   "version": "3.12.4"
  }
 },
 "nbformat": 4,
 "nbformat_minor": 5
}
