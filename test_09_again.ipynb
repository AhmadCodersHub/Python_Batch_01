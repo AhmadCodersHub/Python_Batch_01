{
 "cells": [
  {
   "cell_type": "code",
   "execution_count": 5,
   "id": "17c21168-5610-4172-a4ed-5bc9ff9ccd18",
   "metadata": {},
   "outputs": [
    {
     "name": "stdout",
     "output_type": "stream",
     "text": [
      "0.1234\n"
     ]
    }
   ],
   "source": [
    "number = 0.1234\n",
    "\n",
    "result = float(number)\n",
    "print(result)"
   ]
  },
  {
   "cell_type": "code",
   "execution_count": null,
   "id": "1fed21d7-b189-4d00-9b48-0a550cff30ed",
   "metadata": {},
   "outputs": [],
   "source": [
    "# ayesha\n",
    "0.1234"
   ]
  },
  {
   "cell_type": "code",
   "execution_count": null,
   "id": "d1f55802-1b3d-47ba-9f5d-2e79f46035f1",
   "metadata": {},
   "outputs": [],
   "source": [
    "# areeba\n",
    "float"
   ]
  },
  {
   "cell_type": "code",
   "execution_count": 6,
   "id": "64504b2a-4e4c-4cc9-819a-d8c429cdbbdc",
   "metadata": {},
   "outputs": [
    {
     "name": "stdout",
     "output_type": "stream",
     "text": [
      "0.1234\n"
     ]
    }
   ],
   "source": [
    "num_1 = \"34'5\"\n",
    "num_2 = 36\n",
    "num_3 = 'car'\n",
    "\n",
    "final_result = int(number)\n",
    "\n",
    "print(result)"
   ]
  },
  {
   "cell_type": "code",
   "execution_count": null,
   "id": "f8f24f60-a400-4b55-983f-e2f69e233f0e",
   "metadata": {},
   "outputs": [],
   "source": [
    "# areeba \n",
    "36"
   ]
  },
  {
   "cell_type": "code",
   "execution_count": null,
   "id": "1d8a1625-b07b-4e69-aeb1-30a3a18fcf8e",
   "metadata": {},
   "outputs": [],
   "source": [
    "# ayesha\n",
    "36"
   ]
  },
  {
   "cell_type": "code",
   "execution_count": 7,
   "id": "c29ca45f-0280-40f6-ae19-8f5b681a086a",
   "metadata": {},
   "outputs": [
    {
     "name": "stdout",
     "output_type": "stream",
     "text": [
      "34'5\n"
     ]
    }
   ],
   "source": [
    "number_1 = str(num_1)\n",
    "\n",
    "print(number_1)"
   ]
  },
  {
   "cell_type": "code",
   "execution_count": null,
   "id": "3627d59f-a259-433e-8560-2ad15bbaa595",
   "metadata": {},
   "outputs": [],
   "source": [
    "# areeba\n",
    "\"34'5\""
   ]
  },
  {
   "cell_type": "code",
   "execution_count": null,
   "id": "c3438ee6-62ae-49dc-9629-45ba1352fc88",
   "metadata": {},
   "outputs": [],
   "source": [
    "# ayesha\n",
    "\"34'5\""
   ]
  },
  {
   "cell_type": "code",
   "execution_count": 9,
   "id": "60db73ce-02c7-476c-8502-b9cad09a1ecb",
   "metadata": {},
   "outputs": [
    {
     "data": {
      "text/plain": [
       "-1"
      ]
     },
     "execution_count": 9,
     "metadata": {},
     "output_type": "execute_result"
    }
   ],
   "source": [
    "str_num = '-1'\n",
    "int(str_num)"
   ]
  },
  {
   "cell_type": "code",
   "execution_count": 8,
   "id": "a7259572-7325-4b17-9a36-72652b99d663",
   "metadata": {},
   "outputs": [
    {
     "ename": "ValueError",
     "evalue": "invalid literal for int() with base 10: '[12345678]'",
     "output_type": "error",
     "traceback": [
      "\u001b[1;31m---------------------------------------------------------------------------\u001b[0m",
      "\u001b[1;31mValueError\u001b[0m                                Traceback (most recent call last)",
      "Cell \u001b[1;32mIn[8], line 3\u001b[0m\n\u001b[0;32m      1\u001b[0m str_numbers \u001b[38;5;241m=\u001b[39m \u001b[38;5;124m'\u001b[39m\u001b[38;5;124m[12345678]\u001b[39m\u001b[38;5;124m'\u001b[39m\n\u001b[1;32m----> 3\u001b[0m int_numbers \u001b[38;5;241m=\u001b[39m \u001b[38;5;28;43mint\u001b[39;49m\u001b[43m(\u001b[49m\u001b[43mstr_numbers\u001b[49m\u001b[43m)\u001b[49m\n\u001b[0;32m      5\u001b[0m \u001b[38;5;28mprint\u001b[39m(int_numbers)\n",
      "\u001b[1;31mValueError\u001b[0m: invalid literal for int() with base 10: '[12345678]'"
     ]
    }
   ],
   "source": [
    "str_numbers = '[12345678]'\n",
    "\n",
    "int_numbers = int(str_numbers)\n",
    "\n",
    "print(int_numbers)"
   ]
  },
  {
   "cell_type": "code",
   "execution_count": null,
   "id": "dfdf9aef-390f-41f4-9fe0-273ec8b8375d",
   "metadata": {},
   "outputs": [],
   "source": [
    "# ayesha\n",
    "\n",
    "'12345678'"
   ]
  },
  {
   "cell_type": "code",
   "execution_count": null,
   "id": "c1c295e9-b59b-466b-bfb4-d7414a569aec",
   "metadata": {},
   "outputs": [],
   "source": [
    "# areeba\n",
    "\n",
    "12345678"
   ]
  },
  {
   "cell_type": "code",
   "execution_count": null,
   "id": "c42e0cce-2172-49ab-b154-867baec015a6",
   "metadata": {},
   "outputs": [],
   "source": []
  }
 ],
 "metadata": {
  "kernelspec": {
   "display_name": "Python 3 (ipykernel)",
   "language": "python",
   "name": "python3"
  },
  "language_info": {
   "codemirror_mode": {
    "name": "ipython",
    "version": 3
   },
   "file_extension": ".py",
   "mimetype": "text/x-python",
   "name": "python",
   "nbconvert_exporter": "python",
   "pygments_lexer": "ipython3",
   "version": "3.12.4"
  }
 },
 "nbformat": 4,
 "nbformat_minor": 5
}
