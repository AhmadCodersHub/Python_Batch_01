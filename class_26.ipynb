{
 "cells": [
  {
   "cell_type": "markdown",
   "id": "03032631-a002-497c-a119-1ad90712e0c7",
   "metadata": {},
   "source": [
    "## List "
   ]
  },
  {
   "cell_type": "markdown",
   "id": "df74e489-0d70-4653-af11-bbbe1b9f235f",
   "metadata": {},
   "source": [
    "#### The list() Constructor"
   ]
  },
  {
   "cell_type": "code",
   "execution_count": 3,
   "id": "c2e901d6-65ab-4acf-b1a5-6d4a303c16be",
   "metadata": {},
   "outputs": [],
   "source": [
    "# list() "
   ]
  },
  {
   "cell_type": "code",
   "execution_count": 10,
   "id": "58d23906-9d8d-4533-9965-67eb03bae709",
   "metadata": {},
   "outputs": [
    {
     "name": "stdout",
     "output_type": "stream",
     "text": [
      "Apple\n",
      "Banana\n",
      "Orange\n",
      "Mango\n"
     ]
    }
   ],
   "source": [
    "string_of_furits = 'Apple\\nBanana\\nOrange\\nMango'\n",
    "print(string_of_furits)"
   ]
  },
  {
   "cell_type": "code",
   "execution_count": 11,
   "id": "beac7a92-7fa3-46a0-9e77-10c4d829503d",
   "metadata": {},
   "outputs": [
    {
     "name": "stdout",
     "output_type": "stream",
     "text": [
      "['A', 'p', 'p', 'l', 'e', '\\n', 'B', 'a', 'n', 'a', 'n', 'a', '\\n', 'O', 'r', 'a', 'n', 'g', 'e', '\\n', 'M', 'a', 'n', 'g', 'o']\n"
     ]
    }
   ],
   "source": [
    "list_of_furits = list(string_of_furits)\n",
    "print(list_of_furits)"
   ]
  },
  {
   "cell_type": "code",
   "execution_count": 17,
   "id": "0c3a7808-c96c-4b84-96ba-a52b8be528fe",
   "metadata": {},
   "outputs": [
    {
     "data": {
      "text/plain": [
       "['1', '2', '3', '4', '5', '6', '7', '8', '9']"
      ]
     },
     "execution_count": 17,
     "metadata": {},
     "output_type": "execute_result"
    }
   ],
   "source": [
    "string_of_numbers = '123456789'\n",
    "list(string_of_numbers)"
   ]
  },
  {
   "cell_type": "code",
   "execution_count": 20,
   "id": "29f4233c-7d16-46ce-aca4-28014f6067dd",
   "metadata": {},
   "outputs": [
    {
     "data": {
      "text/plain": [
       "['123456789']"
      ]
     },
     "execution_count": 20,
     "metadata": {},
     "output_type": "execute_result"
    }
   ],
   "source": [
    "string_of_numbers.split()"
   ]
  },
  {
   "cell_type": "code",
   "execution_count": 23,
   "id": "55f99d43-45f9-4c5a-9ef8-6a7f26514931",
   "metadata": {},
   "outputs": [
    {
     "data": {
      "text/plain": [
       "['Apple', 'Banana', 'Orange', 'Mango']"
      ]
     },
     "execution_count": 23,
     "metadata": {},
     "output_type": "execute_result"
    }
   ],
   "source": [
    "items = ('Apple','Banana','Orange','Mango')\n",
    "list(items)"
   ]
  },
  {
   "cell_type": "code",
   "execution_count": 30,
   "id": "af95b4ac-4ff1-49d6-bc55-b36fd6e8ebd5",
   "metadata": {},
   "outputs": [],
   "source": [
    "# dict_of_person = {'name':'ali','age':20}"
   ]
  },
  {
   "cell_type": "code",
   "execution_count": 9,
   "id": "35306262-50ab-42ea-8fb4-624191d711aa",
   "metadata": {},
   "outputs": [
    {
     "data": {
      "text/plain": [
       "int"
      ]
     },
     "execution_count": 9,
     "metadata": {},
     "output_type": "execute_result"
    }
   ],
   "source": [
    "price = 19.67\n",
    "\n",
    "price_in_integer = int(price) \n",
    "type(price_in_integer)"
   ]
  },
  {
   "cell_type": "code",
   "execution_count": null,
   "id": "ad309a61-223e-44e5-b227-c12545a0450e",
   "metadata": {},
   "outputs": [],
   "source": []
  },
  {
   "cell_type": "code",
   "execution_count": null,
   "id": "9f1ff258-fc74-437d-bd73-0a013ecf52e6",
   "metadata": {},
   "outputs": [],
   "source": []
  },
  {
   "cell_type": "code",
   "execution_count": null,
   "id": "da1dc2a2-46b0-4100-9d51-bed28f58d5f5",
   "metadata": {},
   "outputs": [],
   "source": []
  },
  {
   "cell_type": "code",
   "execution_count": null,
   "id": "7c1630b9-1428-4a8b-a821-bdc25e794009",
   "metadata": {},
   "outputs": [],
   "source": []
  }
 ],
 "metadata": {
  "kernelspec": {
   "display_name": "Python 3 (ipykernel)",
   "language": "python",
   "name": "python3"
  },
  "language_info": {
   "codemirror_mode": {
    "name": "ipython",
    "version": 3
   },
   "file_extension": ".py",
   "mimetype": "text/x-python",
   "name": "python",
   "nbconvert_exporter": "python",
   "pygments_lexer": "ipython3",
   "version": "3.12.4"
  }
 },
 "nbformat": 4,
 "nbformat_minor": 5
}
