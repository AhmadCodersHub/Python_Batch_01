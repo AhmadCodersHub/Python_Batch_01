{
 "cells": [
  {
   "cell_type": "code",
   "execution_count": 1,
   "id": "57691d8f-16fc-4e59-8fbc-e6fb38c9c702",
   "metadata": {},
   "outputs": [
    {
     "name": "stdout",
     "output_type": "stream",
     "text": [
      "{'ali': 5, 'ayesha': 3}\n"
     ]
    }
   ],
   "source": [
    "student_dict = {'ali':5,'ayesha':3}\n",
    "print(student_dict)"
   ]
  },
  {
   "cell_type": "code",
   "execution_count": null,
   "id": "6fc081e4-6d3c-49ab-8f4d-4e41e8861707",
   "metadata": {},
   "outputs": [],
   "source": [
    "person_deatils = {\n",
    "    'name':'ali',\n",
    "    'class':8,\n",
    "    'roll no':6\n",
    "}"
   ]
  },
  {
   "cell_type": "code",
   "execution_count": null,
   "id": "416b74b7-9ee3-4c37-b161-218d5829586c",
   "metadata": {},
   "outputs": [],
   "source": [
    "person_details_list = ['ali',8,6]"
   ]
  }
 ],
 "metadata": {
  "kernelspec": {
   "display_name": "Python 3 (ipykernel)",
   "language": "python",
   "name": "python3"
  },
  "language_info": {
   "codemirror_mode": {
    "name": "ipython",
    "version": 3
   },
   "file_extension": ".py",
   "mimetype": "text/x-python",
   "name": "python",
   "nbconvert_exporter": "python",
   "pygments_lexer": "ipython3",
   "version": "3.12.4"
  }
 },
 "nbformat": 4,
 "nbformat_minor": 5
}
