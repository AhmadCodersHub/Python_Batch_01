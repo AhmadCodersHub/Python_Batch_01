{
 "cells": [
  {
   "cell_type": "markdown",
   "id": "05377528-ef28-4691-b5a8-5d656f695d6d",
   "metadata": {},
   "source": [
    "### String Methods"
   ]
  },
  {
   "cell_type": "markdown",
   "id": "742f7ee4-2036-4ec3-b7fc-6a73bdd200d9",
   "metadata": {},
   "source": [
    "strip()\n",
    "lower()\n",
    "title()\n",
    "upper()\n",
    "split()\n",
    "replace()"
   ]
  },
  {
   "cell_type": "code",
   "execution_count": 12,
   "id": "57115728-ae57-40bd-86c7-c0309af23a1b",
   "metadata": {},
   "outputs": [
    {
     "data": {
      "text/plain": [
       "0"
      ]
     },
     "execution_count": 12,
     "metadata": {},
     "output_type": "execute_result"
    }
   ],
   "source": [
    "# count()\n",
    "text = 'This is a book.'\n",
    "\n",
    "text.count('books')"
   ]
  },
  {
   "cell_type": "code",
   "execution_count": 8,
   "id": "0040c99b-e7d9-4974-8e3d-6ea54e783ef4",
   "metadata": {},
   "outputs": [
    {
     "name": "stdout",
     "output_type": "stream",
     "text": [
      "Ali\n"
     ]
    }
   ],
   "source": [
    "# capitalize()\n",
    "name = 'ali'\n",
    "print(name.capitalize())"
   ]
  },
  {
   "cell_type": "code",
   "execution_count": 13,
   "id": "aecdc8c6-e953-49f5-8e7b-d04346b35685",
   "metadata": {},
   "outputs": [
    {
     "data": {
      "text/plain": [
       "-1"
      ]
     },
     "execution_count": 13,
     "metadata": {},
     "output_type": "execute_result"
    }
   ],
   "source": [
    "# find()\n",
    "\n",
    "text = 'This is a book.'\n",
    "text.find('iss')"
   ]
  },
  {
   "cell_type": "code",
   "execution_count": 16,
   "id": "276e0b30-b427-4503-b23d-076348a5eecd",
   "metadata": {},
   "outputs": [
    {
     "data": {
      "text/plain": [
       "8"
      ]
     },
     "execution_count": 16,
     "metadata": {},
     "output_type": "execute_result"
    }
   ],
   "source": [
    "# index()\n",
    "text = 'This is a book.'\n",
    "\n",
    "text.index('a')"
   ]
  },
  {
   "cell_type": "code",
   "execution_count": 23,
   "id": "f4668e70-6564-4c51-9b8e-8746864c13d1",
   "metadata": {},
   "outputs": [
    {
     "data": {
      "text/plain": [
       "True"
      ]
     },
     "execution_count": 23,
     "metadata": {},
     "output_type": "execute_result"
    }
   ],
   "source": [
    "# isalpha()\n",
    "name = 'ali'\n",
    "name.isalpha()"
   ]
  },
  {
   "cell_type": "code",
   "execution_count": 20,
   "id": "1b33087e-28ba-4220-9b33-8517d8b40c8c",
   "metadata": {},
   "outputs": [
    {
     "data": {
      "text/plain": [
       "False"
      ]
     },
     "execution_count": 20,
     "metadata": {},
     "output_type": "execute_result"
    }
   ],
   "source": [
    "name_2 = 'Ali Raza'\n",
    "name_2.isalpha()"
   ]
  },
  {
   "cell_type": "code",
   "execution_count": 25,
   "id": "d05857a5-8c07-47fa-817a-b9c8da5c0ac7",
   "metadata": {},
   "outputs": [
    {
     "data": {
      "text/plain": [
       "True"
      ]
     },
     "execution_count": 25,
     "metadata": {},
     "output_type": "execute_result"
    }
   ],
   "source": [
    "# isdigit()\n",
    "str_numbers = '12345341324223'\n",
    "str_numbers.isdigit()"
   ]
  }
 ],
 "metadata": {
  "kernelspec": {
   "display_name": "Python 3 (ipykernel)",
   "language": "python",
   "name": "python3"
  },
  "language_info": {
   "codemirror_mode": {
    "name": "ipython",
    "version": 3
   },
   "file_extension": ".py",
   "mimetype": "text/x-python",
   "name": "python",
   "nbconvert_exporter": "python",
   "pygments_lexer": "ipython3",
   "version": "3.12.4"
  }
 },
 "nbformat": 4,
 "nbformat_minor": 5
}
