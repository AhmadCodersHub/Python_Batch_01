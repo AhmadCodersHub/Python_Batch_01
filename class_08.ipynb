{
 "cells": [
  {
   "cell_type": "code",
   "execution_count": 1,
   "id": "d8a54d4c-83a6-4662-b201-f8be65f12ed8",
   "metadata": {},
   "outputs": [],
   "source": [
    "# bool\n",
    "# True\n",
    "# False"
   ]
  },
  {
   "cell_type": "code",
   "execution_count": 4,
   "id": "4c828c68-4e5d-4d95-b2bc-f97d3682c63a",
   "metadata": {},
   "outputs": [
    {
     "name": "stdout",
     "output_type": "stream",
     "text": [
      "True\n"
     ]
    }
   ],
   "source": [
    "true_value = True\n",
    "print(true_value)\n",
    "print(True)"
   ]
  },
  {
   "cell_type": "code",
   "execution_count": 5,
   "id": "a1220a84-7867-427e-8d51-1d2a62b80176",
   "metadata": {},
   "outputs": [
    {
     "name": "stdout",
     "output_type": "stream",
     "text": [
      "False\n",
      "False\n"
     ]
    }
   ],
   "source": [
    "false_value = False\n",
    "print(false_value)\n",
    "print(False)"
   ]
  },
  {
   "cell_type": "code",
   "execution_count": 6,
   "id": "cfd4fcd0-a16b-4592-9dba-55bae8214be0",
   "metadata": {},
   "outputs": [
    {
     "data": {
      "text/plain": [
       "bool"
      ]
     },
     "execution_count": 6,
     "metadata": {},
     "output_type": "execute_result"
    }
   ],
   "source": [
    "type(false_value)"
   ]
  },
  {
   "cell_type": "code",
   "execution_count": 7,
   "id": "560a5241-bb87-46f5-aee2-6823dc3da96f",
   "metadata": {},
   "outputs": [],
   "source": [
    "# Nonetype"
   ]
  },
  {
   "cell_type": "code",
   "execution_count": 9,
   "id": "fbcae032-482c-4716-97fc-a6a75dcb7410",
   "metadata": {},
   "outputs": [
    {
     "name": "stdout",
     "output_type": "stream",
     "text": [
      "None\n"
     ]
    }
   ],
   "source": [
    "num_1 = None\n",
    "print(num_1)"
   ]
  },
  {
   "cell_type": "code",
   "execution_count": 10,
   "id": "d155e4a6-df6d-4b32-a535-4868d041382f",
   "metadata": {},
   "outputs": [
    {
     "data": {
      "text/plain": [
       "NoneType"
      ]
     },
     "execution_count": 10,
     "metadata": {},
     "output_type": "execute_result"
    }
   ],
   "source": [
    "type(num_1)"
   ]
  },
  {
   "cell_type": "code",
   "execution_count": 11,
   "id": "4deb3327-f35b-46c9-a328-3e74ddad7b77",
   "metadata": {},
   "outputs": [
    {
     "name": "stdout",
     "output_type": "stream",
     "text": [
      "9\n"
     ]
    }
   ],
   "source": [
    "num_1 = 9\n",
    "print(num_1)"
   ]
  }
 ],
 "metadata": {
  "kernelspec": {
   "display_name": "Python 3 (ipykernel)",
   "language": "python",
   "name": "python3"
  },
  "language_info": {
   "codemirror_mode": {
    "name": "ipython",
    "version": 3
   },
   "file_extension": ".py",
   "mimetype": "text/x-python",
   "name": "python",
   "nbconvert_exporter": "python",
   "pygments_lexer": "ipython3",
   "version": "3.12.4"
  }
 },
 "nbformat": 4,
 "nbformat_minor": 5
}
