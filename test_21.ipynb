{
 "cells": [
  {
   "cell_type": "code",
   "execution_count": 7,
   "id": "0054f3e4-89f4-4fae-a35a-1f71c89e86c3",
   "metadata": {},
   "outputs": [],
   "source": [
    "txt = 'This             is                a                   car'\n",
    "\n",
    "# print(answer)\n",
    "# 'This is a car.'"
   ]
  },
  {
   "cell_type": "code",
   "execution_count": 6,
   "id": "42c7d3ae-def6-49d3-a261-2e9c6682819e",
   "metadata": {},
   "outputs": [
    {
     "name": "stdout",
     "output_type": "stream",
     "text": [
      "This             is                a                   car\n"
     ]
    }
   ],
   "source": [
    "# areeba\n",
    "txt_1 =  txt.strip()\n",
    "print(txt_1)"
   ]
  },
  {
   "cell_type": "code",
   "execution_count": 3,
   "id": "05e82e3a-d901-4684-9e22-40f2b16471bf",
   "metadata": {},
   "outputs": [
    {
     "name": "stdout",
     "output_type": "stream",
     "text": [
      "This             is                a                   car\n"
     ]
    }
   ],
   "source": [
    "# ayesha\n",
    "text = txt.strip()\n",
    "print(text)"
   ]
  },
  {
   "cell_type": "code",
   "execution_count": 13,
   "id": "4a438747-3769-4cc6-8428-b94ed11258ab",
   "metadata": {},
   "outputs": [
    {
     "name": "stdout",
     "output_type": "stream",
     "text": [
      "This is a car.\n"
     ]
    }
   ],
   "source": [
    "# method 1\n",
    "split_text = txt.split()\n",
    "join_str = ' '.join(split_text)\n",
    "# answer = join_str + '.'\n",
    "answer = f'{join_str}.'\n",
    "print(answer)"
   ]
  },
  {
   "cell_type": "code",
   "execution_count": null,
   "id": "416ae612-2af2-4006-80e7-c397030138c5",
   "metadata": {},
   "outputs": [],
   "source": []
  },
  {
   "cell_type": "code",
   "execution_count": 21,
   "id": "8c1d8f77-9ab2-4f51-a996-16c83c086a67",
   "metadata": {},
   "outputs": [],
   "source": [
    "random_text = 'This is a Book'\n",
    "check_last_word = 'Book'\n",
    "\n",
    "# print(result)\n",
    "# True"
   ]
  },
  {
   "cell_type": "code",
   "execution_count": 19,
   "id": "cded14fd-b8b2-4f1c-b1bc-9d0ba93e4f74",
   "metadata": {},
   "outputs": [
    {
     "ename": "NameError",
     "evalue": "name 'endwith' is not defined",
     "output_type": "error",
     "traceback": [
      "\u001b[1;31m---------------------------------------------------------------------------\u001b[0m",
      "\u001b[1;31mNameError\u001b[0m                                 Traceback (most recent call last)",
      "Cell \u001b[1;32mIn[19], line 2\u001b[0m\n\u001b[0;32m      1\u001b[0m \u001b[38;5;66;03m# areeba\u001b[39;00m\n\u001b[1;32m----> 2\u001b[0m random_text \u001b[38;5;241m=\u001b[39m \u001b[43mendwith\u001b[49m(\u001b[38;5;124m'\u001b[39m\u001b[38;5;124mCar\u001b[39m\u001b[38;5;124m'\u001b[39m)\n\u001b[0;32m      3\u001b[0m result \u001b[38;5;241m=\u001b[39m random_text\n\u001b[0;32m      4\u001b[0m \u001b[38;5;28mprint\u001b[39m(result)\n",
      "\u001b[1;31mNameError\u001b[0m: name 'endwith' is not defined"
     ]
    }
   ],
   "source": [
    "# areeba\n",
    "random_text = endwith('Car')\n",
    "result = random_text\n",
    "print(result)"
   ]
  },
  {
   "cell_type": "code",
   "execution_count": 20,
   "id": "ab636e11-a413-4ce3-bb9f-09f83e97561f",
   "metadata": {},
   "outputs": [
    {
     "name": "stdout",
     "output_type": "stream",
     "text": [
      "True\n"
     ]
    }
   ],
   "source": [
    "# ayesha\n",
    "text = random_text.endswith('Car')\n",
    "result = text\n",
    " # = 'Car' in random_text\n",
    "print(result)"
   ]
  },
  {
   "cell_type": "code",
   "execution_count": 25,
   "id": "91ca2a5a-1149-45d8-b4c9-e7dc3bea32b9",
   "metadata": {},
   "outputs": [],
   "source": [
    "random_text = 'This is a Car'\n",
    "check_last_word = 'Car.'\n",
    "# print(result)\n",
    "# True"
   ]
  },
  {
   "cell_type": "code",
   "execution_count": 26,
   "id": "802a58fc-1f39-4426-b6dd-1bfac10f4de0",
   "metadata": {},
   "outputs": [
    {
     "name": "stdout",
     "output_type": "stream",
     "text": [
      "False\n"
     ]
    }
   ],
   "source": [
    "# correct method\n",
    "\n",
    "result = random_text.endswith(check_last_word)\n",
    "print(result)"
   ]
  }
 ],
 "metadata": {
  "kernelspec": {
   "display_name": "Python 3 (ipykernel)",
   "language": "python",
   "name": "python3"
  },
  "language_info": {
   "codemirror_mode": {
    "name": "ipython",
    "version": 3
   },
   "file_extension": ".py",
   "mimetype": "text/x-python",
   "name": "python",
   "nbconvert_exporter": "python",
   "pygments_lexer": "ipython3",
   "version": "3.12.4"
  }
 },
 "nbformat": 4,
 "nbformat_minor": 5
}
