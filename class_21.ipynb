{
 "cells": [
  {
   "cell_type": "code",
   "execution_count": 2,
   "id": "2020704e-1031-4ce5-9681-7df6bce85693",
   "metadata": {},
   "outputs": [
    {
     "data": {
      "text/plain": [
       "['This', 'is', 'a', 'car']"
      ]
     },
     "execution_count": 2,
     "metadata": {},
     "output_type": "execute_result"
    }
   ],
   "source": [
    "# join()\n",
    "\n",
    "text = 'This is a car'\n",
    "\n",
    "list_of_text = text.split()\n",
    "list_of_text"
   ]
  },
  {
   "cell_type": "code",
   "execution_count": 10,
   "id": "9afb66f1-478f-414c-9c9d-9474b0f6002f",
   "metadata": {},
   "outputs": [
    {
     "data": {
      "text/plain": [
       "'This is a car'"
      ]
     },
     "execution_count": 10,
     "metadata": {},
     "output_type": "execute_result"
    }
   ],
   "source": [
    "' '.join(list_of_text)"
   ]
  },
  {
   "cell_type": "code",
   "execution_count": 11,
   "id": "14c4f442-e954-404f-bcf9-44b5ae812d0b",
   "metadata": {},
   "outputs": [],
   "source": [
    "# startswith()\n",
    "# endswith()"
   ]
  },
  {
   "cell_type": "code",
   "execution_count": 13,
   "id": "085a003e-0b30-47bf-adf4-e71230fac89f",
   "metadata": {},
   "outputs": [],
   "source": [
    "text_1 = 'This is a car.'\n"
   ]
  },
  {
   "cell_type": "code",
   "execution_count": 15,
   "id": "963e8e1f-0e68-4a7b-8c04-a8b4ce861332",
   "metadata": {},
   "outputs": [
    {
     "data": {
      "text/plain": [
       "True"
      ]
     },
     "execution_count": 15,
     "metadata": {},
     "output_type": "execute_result"
    }
   ],
   "source": [
    "'car' in text_1"
   ]
  },
  {
   "cell_type": "code",
   "execution_count": 17,
   "id": "0044fd3d-00d6-4e77-b29f-a20abc4ef702",
   "metadata": {},
   "outputs": [
    {
     "data": {
      "text/plain": [
       "False"
      ]
     },
     "execution_count": 17,
     "metadata": {},
     "output_type": "execute_result"
    }
   ],
   "source": [
    "text_1.startswith('is')"
   ]
  },
  {
   "cell_type": "code",
   "execution_count": 19,
   "id": "9f3ead09-1722-4e48-b3e4-526ae27baee4",
   "metadata": {},
   "outputs": [
    {
     "data": {
      "text/plain": [
       "True"
      ]
     },
     "execution_count": 19,
     "metadata": {},
     "output_type": "execute_result"
    }
   ],
   "source": [
    "text_1.endswith('car.')"
   ]
  }
 ],
 "metadata": {
  "kernelspec": {
   "display_name": "Python 3 (ipykernel)",
   "language": "python",
   "name": "python3"
  },
  "language_info": {
   "codemirror_mode": {
    "name": "ipython",
    "version": 3
   },
   "file_extension": ".py",
   "mimetype": "text/x-python",
   "name": "python",
   "nbconvert_exporter": "python",
   "pygments_lexer": "ipython3",
   "version": "3.12.4"
  }
 },
 "nbformat": 4,
 "nbformat_minor": 5
}
