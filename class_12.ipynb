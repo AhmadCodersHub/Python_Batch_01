{
 "cells": [
  {
   "cell_type": "markdown",
   "id": "2e5d9ffe-606b-4c1f-96cb-c5d48fabac50",
   "metadata": {},
   "source": [
    "# negative Slicing "
   ]
  },
  {
   "cell_type": "code",
   "execution_count": null,
   "id": "9cdad0a9-0df8-4792-b201-c40e626f561f",
   "metadata": {},
   "outputs": [],
   "source": [
    "# start:stop:step"
   ]
  },
  {
   "cell_type": "code",
   "execution_count": 13,
   "id": "3408e45e-b364-4bd9-8835-d9e2897bb09e",
   "metadata": {},
   "outputs": [
    {
     "data": {
      "text/plain": [
       "'book'"
      ]
     },
     "execution_count": 13,
     "metadata": {},
     "output_type": "execute_result"
    }
   ],
   "source": [
    "text_1 = 'this is a book.'\n",
    "\n",
    "# postive Slicing\n",
    "\n",
    "text_1[10:14]"
   ]
  },
  {
   "cell_type": "code",
   "execution_count": 22,
   "id": "0e5ce72d-52a2-43fe-852a-d28ac4b4a2bc",
   "metadata": {},
   "outputs": [
    {
     "data": {
      "text/plain": [
       "'is'"
      ]
     },
     "execution_count": 22,
     "metadata": {},
     "output_type": "execute_result"
    }
   ],
   "source": [
    "# negative Slicing \n",
    "text_1[-10:-8] "
   ]
  }
 ],
 "metadata": {
  "kernelspec": {
   "display_name": "Python 3 (ipykernel)",
   "language": "python",
   "name": "python3"
  },
  "language_info": {
   "codemirror_mode": {
    "name": "ipython",
    "version": 3
   },
   "file_extension": ".py",
   "mimetype": "text/x-python",
   "name": "python",
   "nbconvert_exporter": "python",
   "pygments_lexer": "ipython3",
   "version": "3.12.4"
  }
 },
 "nbformat": 4,
 "nbformat_minor": 5
}
