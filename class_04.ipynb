{
 "cells": [
  {
   "cell_type": "markdown",
   "id": "d26e5581-93a9-4ce0-ba80-0d11b46d1f71",
   "metadata": {},
   "source": [
    "##### Data Types"
   ]
  },
  {
   "cell_type": "markdown",
   "id": "ea7ebdf4-1d9f-4269-b8ec-fcf52b94a1a9",
   "metadata": {},
   "source": [
    "###### float"
   ]
  },
  {
   "cell_type": "code",
   "execution_count": 4,
   "id": "f0a1d05b-07c0-4a63-b1aa-01f4d935b420",
   "metadata": {},
   "outputs": [
    {
     "name": "stdout",
     "output_type": "stream",
     "text": [
      "10.0\n"
     ]
    }
   ],
   "source": [
    "price = 10.00\n",
    "print(price)"
   ]
  },
  {
   "cell_type": "markdown",
   "id": "c3ab754b-bfa5-4291-981b-1bebeebf884c",
   "metadata": {},
   "source": [
    "###### complex"
   ]
  },
  {
   "cell_type": "code",
   "execution_count": 7,
   "id": "6122b3e0-6a93-4c6c-8b19-d409bf64efb1",
   "metadata": {},
   "outputs": [
    {
     "name": "stdout",
     "output_type": "stream",
     "text": [
      "(1+1j)\n"
     ]
    }
   ],
   "source": [
    "complex_values = 1 + 1j\n",
    "print(complex_values)"
   ]
  },
  {
   "cell_type": "code",
   "execution_count": null,
   "id": "42ab651d-eee7-4fe7-9d86-6a3312daadf9",
   "metadata": {},
   "outputs": [],
   "source": []
  },
  {
   "cell_type": "markdown",
   "id": "7124c257-723e-4eea-bf3a-7abd8773ce5d",
   "metadata": {},
   "source": [
    "###### list"
   ]
  },
  {
   "cell_type": "code",
   "execution_count": 9,
   "id": "76cbacd0-dafd-41dc-915c-5c23d83e6cf8",
   "metadata": {},
   "outputs": [
    {
     "name": "stdout",
     "output_type": "stream",
     "text": [
      "['ali', 'akram', 'hamza', 70, 80, 40.0]\n"
     ]
    }
   ],
   "source": [
    "class_01_students = ['ali','akram','hamza',70,80,40.0]\n",
    "print(class_01_students)"
   ]
  },
  {
   "cell_type": "code",
   "execution_count": 14,
   "id": "9ee125a6-104c-4da7-89ec-10155d57b7c9",
   "metadata": {},
   "outputs": [
    {
     "name": "stdout",
     "output_type": "stream",
     "text": [
      "['apple', 'banana', 'mango', 'orange']\n"
     ]
    }
   ],
   "source": [
    "furits_of_list = ['apple','banana','mango','orange']\n",
    "print(furits_of_list)"
   ]
  },
  {
   "cell_type": "code",
   "execution_count": null,
   "id": "7857d3ce-55b3-44b6-8f2d-d6d091982468",
   "metadata": {},
   "outputs": [],
   "source": []
  },
  {
   "cell_type": "code",
   "execution_count": 10,
   "id": "ccedf5f0-3356-44c1-9ebc-884fee1716dd",
   "metadata": {},
   "outputs": [],
   "source": [
    "# check type"
   ]
  },
  {
   "cell_type": "code",
   "execution_count": 11,
   "id": "3a78e181-cb34-4fc0-9c8f-ae3f2fbaa1ec",
   "metadata": {},
   "outputs": [
    {
     "data": {
      "text/plain": [
       "float"
      ]
     },
     "execution_count": 11,
     "metadata": {},
     "output_type": "execute_result"
    }
   ],
   "source": [
    "type(price)"
   ]
  },
  {
   "cell_type": "code",
   "execution_count": 12,
   "id": "9190af9a-611e-4671-9e69-7bc6c8d9c8a0",
   "metadata": {},
   "outputs": [
    {
     "data": {
      "text/plain": [
       "list"
      ]
     },
     "execution_count": 12,
     "metadata": {},
     "output_type": "execute_result"
    }
   ],
   "source": [
    "type(class_01_students)"
   ]
  },
  {
   "cell_type": "code",
   "execution_count": 13,
   "id": "2029e896-b702-4471-9a35-9fca58f46c58",
   "metadata": {},
   "outputs": [
    {
     "data": {
      "text/plain": [
       "complex"
      ]
     },
     "execution_count": 13,
     "metadata": {},
     "output_type": "execute_result"
    }
   ],
   "source": [
    "type(complex_values)"
   ]
  }
 ],
 "metadata": {
  "kernelspec": {
   "display_name": "Python 3 (ipykernel)",
   "language": "python",
   "name": "python3"
  },
  "language_info": {
   "codemirror_mode": {
    "name": "ipython",
    "version": 3
   },
   "file_extension": ".py",
   "mimetype": "text/x-python",
   "name": "python",
   "nbconvert_exporter": "python",
   "pygments_lexer": "ipython3",
   "version": "3.12.4"
  }
 },
 "nbformat": 4,
 "nbformat_minor": 5
}
