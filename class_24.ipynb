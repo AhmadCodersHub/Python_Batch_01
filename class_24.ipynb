{
 "cells": [
  {
   "cell_type": "markdown",
   "id": "b83c2807-1fb8-48da-9637-82f966360dab",
   "metadata": {},
   "source": [
    "### Python Logical Operators"
   ]
  },
  {
   "cell_type": "code",
   "execution_count": null,
   "id": "c7fa079d-101e-4ddb-b559-6e818005510f",
   "metadata": {},
   "outputs": [],
   "source": [
    "# and"
   ]
  },
  {
   "cell_type": "code",
   "execution_count": 15,
   "id": "3ede4537-cf08-41df-adbf-061686c64339",
   "metadata": {},
   "outputs": [],
   "source": [
    "x = 5\n",
    "y = 6\n",
    "a = 5\n",
    "b = 3"
   ]
  },
  {
   "cell_type": "code",
   "execution_count": 16,
   "id": "eebe46e2-9161-456e-b2c7-7e599674ca9e",
   "metadata": {},
   "outputs": [
    {
     "data": {
      "text/plain": [
       "True"
      ]
     },
     "execution_count": 16,
     "metadata": {},
     "output_type": "execute_result"
    }
   ],
   "source": [
    "x < y and a > b"
   ]
  },
  {
   "cell_type": "code",
   "execution_count": 3,
   "id": "f1ede788-4dc9-4d2c-8088-7df83b749635",
   "metadata": {},
   "outputs": [
    {
     "data": {
      "text/plain": [
       "True"
      ]
     },
     "execution_count": 3,
     "metadata": {},
     "output_type": "execute_result"
    }
   ],
   "source": [
    "x >= y"
   ]
  },
  {
   "cell_type": "code",
   "execution_count": 6,
   "id": "9dbc9314-62a6-451a-9831-2ebb8da4b296",
   "metadata": {},
   "outputs": [
    {
     "data": {
      "text/plain": [
       "True"
      ]
     },
     "execution_count": 6,
     "metadata": {},
     "output_type": "execute_result"
    }
   ],
   "source": [
    "a <= b"
   ]
  },
  {
   "cell_type": "code",
   "execution_count": 7,
   "id": "13584abf-a656-4ef9-b742-273c0036cfeb",
   "metadata": {},
   "outputs": [
    {
     "data": {
      "text/plain": [
       "False"
      ]
     },
     "execution_count": 7,
     "metadata": {},
     "output_type": "execute_result"
    }
   ],
   "source": [
    "x != y"
   ]
  },
  {
   "cell_type": "code",
   "execution_count": 5,
   "id": "5602c129-e2a5-4e52-a74e-4dd50409ad34",
   "metadata": {},
   "outputs": [
    {
     "data": {
      "text/plain": [
       "False"
      ]
     },
     "execution_count": 5,
     "metadata": {},
     "output_type": "execute_result"
    }
   ],
   "source": [
    "x != y and a <= b"
   ]
  },
  {
   "cell_type": "code",
   "execution_count": 8,
   "id": "a8b8ebac-8446-4271-8f18-69696820a091",
   "metadata": {},
   "outputs": [],
   "source": [
    "# or"
   ]
  },
  {
   "cell_type": "code",
   "execution_count": 9,
   "id": "b8e45b39-1876-4e4e-8ba8-57caf7ce3c21",
   "metadata": {},
   "outputs": [
    {
     "data": {
      "text/plain": [
       "True"
      ]
     },
     "execution_count": 9,
     "metadata": {},
     "output_type": "execute_result"
    }
   ],
   "source": [
    "x != y or a <= b  or x > y or a < b "
   ]
  },
  {
   "cell_type": "code",
   "execution_count": 10,
   "id": "616df64a-04a3-4d72-a77b-66b7b90be125",
   "metadata": {},
   "outputs": [],
   "source": [
    "# not"
   ]
  },
  {
   "cell_type": "code",
   "execution_count": null,
   "id": "f53f90d3-48c7-4bba-a86f-7424c2dc183b",
   "metadata": {},
   "outputs": [],
   "source": [
    "x = 5\n",
    "y = None"
   ]
  },
  {
   "cell_type": "code",
   "execution_count": 14,
   "id": "d7e76938-45d5-4824-bbf0-4699b0b0862e",
   "metadata": {},
   "outputs": [
    {
     "data": {
      "text/plain": [
       "False"
      ]
     },
     "execution_count": 14,
     "metadata": {},
     "output_type": "execute_result"
    }
   ],
   "source": [
    "x > y"
   ]
  },
  {
   "cell_type": "code",
   "execution_count": 13,
   "id": "578a58f1-fbf5-4749-99ca-62d4b8df4663",
   "metadata": {},
   "outputs": [
    {
     "data": {
      "text/plain": [
       "True"
      ]
     },
     "execution_count": 13,
     "metadata": {},
     "output_type": "execute_result"
    }
   ],
   "source": [
    "not(x > y)"
   ]
  },
  {
   "cell_type": "code",
   "execution_count": null,
   "id": "962fa285-fdcc-4341-a522-44785780554d",
   "metadata": {},
   "outputs": [],
   "source": [
    "# real life example"
   ]
  },
  {
   "cell_type": "code",
   "execution_count": null,
   "id": "dd5e865a-5bd1-4396-9952-3ff35d800aef",
   "metadata": {},
   "outputs": [],
   "source": [
    "Orange, Apple and Banana are furits."
   ]
  },
  {
   "cell_type": "code",
   "execution_count": null,
   "id": "d992d269-54a2-4c0b-a69c-3e9bf16942ce",
   "metadata": {},
   "outputs": [],
   "source": [
    "Ali or Hamaza will come."
   ]
  },
  {
   "cell_type": "code",
   "execution_count": null,
   "id": "e6a3fa16-72d4-4888-8640-80ae42579d55",
   "metadata": {},
   "outputs": [],
   "source": []
  }
 ],
 "metadata": {
  "kernelspec": {
   "display_name": "Python 3 (ipykernel)",
   "language": "python",
   "name": "python3"
  },
  "language_info": {
   "codemirror_mode": {
    "name": "ipython",
    "version": 3
   },
   "file_extension": ".py",
   "mimetype": "text/x-python",
   "name": "python",
   "nbconvert_exporter": "python",
   "pygments_lexer": "ipython3",
   "version": "3.12.4"
  }
 },
 "nbformat": 4,
 "nbformat_minor": 5
}
