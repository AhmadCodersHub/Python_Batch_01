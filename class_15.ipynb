{
 "cells": [
  {
   "cell_type": "markdown",
   "id": "1d022f0c-1d6a-4fc0-9767-05b0b9cb19c0",
   "metadata": {},
   "source": [
    "### String Concatenation"
   ]
  },
  {
   "cell_type": "code",
   "execution_count": 1,
   "id": "ddc9ff5c-909a-46e5-ab2a-e4becf18397d",
   "metadata": {},
   "outputs": [
    {
     "name": "stdout",
     "output_type": "stream",
     "text": [
      "Hello! How are you?\n"
     ]
    }
   ],
   "source": [
    "text_1 = 'Hello!'\n",
    "text_2 = 'How are you?'\n",
    "\n",
    "answer = text_1 + ' ' + text_2\n",
    "print(answer)"
   ]
  }
 ],
 "metadata": {
  "kernelspec": {
   "display_name": "Python 3 (ipykernel)",
   "language": "python",
   "name": "python3"
  },
  "language_info": {
   "codemirror_mode": {
    "name": "ipython",
    "version": 3
   },
   "file_extension": ".py",
   "mimetype": "text/x-python",
   "name": "python",
   "nbconvert_exporter": "python",
   "pygments_lexer": "ipython3",
   "version": "3.12.4"
  }
 },
 "nbformat": 4,
 "nbformat_minor": 5
}
