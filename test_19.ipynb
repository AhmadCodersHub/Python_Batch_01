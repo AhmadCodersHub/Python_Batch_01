{
 "cells": [
  {
   "cell_type": "code",
   "execution_count": null,
   "id": "11629cba-9998-4558-8288-5b08120ab801",
   "metadata": {},
   "outputs": [],
   "source": []
  },
  {
   "cell_type": "code",
   "execution_count": null,
   "id": "cb815bbc-957c-4972-b53e-864adecfb30b",
   "metadata": {},
   "outputs": [],
   "source": [
    "text = f''"
   ]
  },
  {
   "cell_type": "code",
   "execution_count": 3,
   "id": "28c150bf-3d70-45c7-b6fe-07260b1cdff1",
   "metadata": {},
   "outputs": [
    {
     "name": "stdout",
     "output_type": "stream",
     "text": [
      "My age is 19\n"
     ]
    }
   ],
   "source": [
    "text_1 = 'My age is '\n",
    "age = 19\n",
    "\n",
    "# print(text_1 + age)\n",
    "print(f'{text_1}{age}')"
   ]
  },
  {
   "cell_type": "code",
   "execution_count": null,
   "id": "c264d986-6667-4399-a31d-0cedd5d3edfb",
   "metadata": {},
   "outputs": [],
   "source": []
  },
  {
   "cell_type": "code",
   "execution_count": 4,
   "id": "9168c593-62e6-4b04-b067-a81ebeca6af9",
   "metadata": {},
   "outputs": [
    {
     "data": {
      "text/plain": [
       "['My age ', ' ']"
      ]
     },
     "execution_count": 4,
     "metadata": {},
     "output_type": "execute_result"
    }
   ],
   "source": [
    "text_1.split('is')"
   ]
  },
  {
   "cell_type": "code",
   "execution_count": null,
   "id": "ec3768d0-213b-4591-96ba-8c139eeb1b1e",
   "metadata": {},
   "outputs": [],
   "source": []
  },
  {
   "cell_type": "code",
   "execution_count": null,
   "id": "6cb186cf-0a07-4626-bc1d-7069d2542c9a",
   "metadata": {},
   "outputs": [],
   "source": []
  },
  {
   "cell_type": "code",
   "execution_count": null,
   "id": "5ffddfcc-dcbd-4580-9cf9-60bd86e1fe28",
   "metadata": {},
   "outputs": [],
   "source": []
  }
 ],
 "metadata": {
  "kernelspec": {
   "display_name": "Python 3 (ipykernel)",
   "language": "python",
   "name": "python3"
  },
  "language_info": {
   "codemirror_mode": {
    "name": "ipython",
    "version": 3
   },
   "file_extension": ".py",
   "mimetype": "text/x-python",
   "name": "python",
   "nbconvert_exporter": "python",
   "pygments_lexer": "ipython3",
   "version": "3.12.4"
  }
 },
 "nbformat": 4,
 "nbformat_minor": 5
}
