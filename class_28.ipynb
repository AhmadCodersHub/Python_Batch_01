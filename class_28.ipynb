{
 "cells": [
  {
   "cell_type": "markdown",
   "id": "aa909f18-5727-4102-9b2f-cb8fdcdadcf0",
   "metadata": {},
   "source": [
    "### Python - Remove List Items"
   ]
  },
  {
   "cell_type": "code",
   "execution_count": 17,
   "id": "41108ae8-4d78-4bf5-850a-d4b5c8ca3830",
   "metadata": {},
   "outputs": [],
   "source": [
    "list_1 = [1,2,3,4,5,6,7,8,8,9,10]"
   ]
  },
  {
   "cell_type": "code",
   "execution_count": 2,
   "id": "5e381a82-f5e4-4969-b724-fd41d138453e",
   "metadata": {},
   "outputs": [],
   "source": [
    "# .remove() # taking an item"
   ]
  },
  {
   "cell_type": "code",
   "execution_count": 4,
   "id": "452209da-4e51-4791-abe5-01f3a582f1e2",
   "metadata": {},
   "outputs": [
    {
     "name": "stdout",
     "output_type": "stream",
     "text": [
      "[1, 2, 3, 4, 5, 6, 7, 9, 10]\n"
     ]
    }
   ],
   "source": [
    "list_1.remove(8)\n",
    "print(list_1)"
   ]
  },
  {
   "cell_type": "code",
   "execution_count": 11,
   "id": "011f9ebe-d509-435f-8900-f25fc0bd8d51",
   "metadata": {},
   "outputs": [],
   "source": [
    "# .pop() \n",
    "# taking an index \n",
    "# by default index -1 or last"
   ]
  },
  {
   "cell_type": "code",
   "execution_count": 13,
   "id": "c6202b1f-c398-4eda-80ff-c3b99cde94fc",
   "metadata": {},
   "outputs": [
    {
     "data": {
      "text/plain": [
       "8"
      ]
     },
     "execution_count": 13,
     "metadata": {},
     "output_type": "execute_result"
    }
   ],
   "source": [
    "list_1.pop(-3)"
   ]
  },
  {
   "cell_type": "code",
   "execution_count": 14,
   "id": "533a5201-6e0c-4fc2-84a9-14f103aa70c3",
   "metadata": {},
   "outputs": [
    {
     "name": "stdout",
     "output_type": "stream",
     "text": [
      "[1, 2, 3, 4, 5, 6, 7, 8, 9, 10]\n"
     ]
    }
   ],
   "source": [
    "print(list_1)"
   ]
  },
  {
   "cell_type": "code",
   "execution_count": 15,
   "id": "3cdbd804-2363-43eb-bbb8-9095ad943f2d",
   "metadata": {},
   "outputs": [],
   "source": [
    "# clear()"
   ]
  },
  {
   "cell_type": "code",
   "execution_count": 16,
   "id": "8d68089e-0293-4471-acb2-cb1b2420c2c6",
   "metadata": {},
   "outputs": [
    {
     "name": "stdout",
     "output_type": "stream",
     "text": [
      "[]\n"
     ]
    }
   ],
   "source": [
    "list_1.clear()\n",
    "print(list_1)"
   ]
  },
  {
   "cell_type": "code",
   "execution_count": 18,
   "id": "5741ca4b-e2f3-4a7d-9d21-bc60a62602b0",
   "metadata": {},
   "outputs": [],
   "source": [
    "del list_1[-3]"
   ]
  },
  {
   "cell_type": "code",
   "execution_count": 19,
   "id": "4be109ac-bb6a-41a7-b750-a6bcbdbc80e8",
   "metadata": {},
   "outputs": [
    {
     "data": {
      "text/plain": [
       "[1, 2, 3, 4, 5, 6, 7, 8, 9, 10]"
      ]
     },
     "execution_count": 19,
     "metadata": {},
     "output_type": "execute_result"
    }
   ],
   "source": [
    "list_1"
   ]
  },
  {
   "cell_type": "code",
   "execution_count": 20,
   "id": "39c95eec-14c5-4699-8fc3-6816c2fe4301",
   "metadata": {},
   "outputs": [],
   "source": [
    "del list_1"
   ]
  },
  {
   "cell_type": "code",
   "execution_count": 21,
   "id": "fdf3e281-70b5-442e-ac66-380a2407d294",
   "metadata": {},
   "outputs": [
    {
     "ename": "NameError",
     "evalue": "name 'list_1' is not defined",
     "output_type": "error",
     "traceback": [
      "\u001b[1;31m---------------------------------------------------------------------------\u001b[0m",
      "\u001b[1;31mNameError\u001b[0m                                 Traceback (most recent call last)",
      "Cell \u001b[1;32mIn[21], line 1\u001b[0m\n\u001b[1;32m----> 1\u001b[0m \u001b[43mlist_1\u001b[49m\n",
      "\u001b[1;31mNameError\u001b[0m: name 'list_1' is not defined"
     ]
    }
   ],
   "source": [
    "list_1"
   ]
  }
 ],
 "metadata": {
  "kernelspec": {
   "display_name": "Python 3 (ipykernel)",
   "language": "python",
   "name": "python3"
  },
  "language_info": {
   "codemirror_mode": {
    "name": "ipython",
    "version": 3
   },
   "file_extension": ".py",
   "mimetype": "text/x-python",
   "name": "python",
   "nbconvert_exporter": "python",
   "pygments_lexer": "ipython3",
   "version": "3.12.4"
  }
 },
 "nbformat": 4,
 "nbformat_minor": 5
}
