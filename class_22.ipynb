{
 "cells": [
  {
   "cell_type": "markdown",
   "id": "a70dbe32-97c9-4cef-a5ce-dff59eb20f65",
   "metadata": {},
   "source": [
    "### Python Operators"
   ]
  },
  {
   "cell_type": "markdown",
   "id": "5688c06a-f4c7-4c4c-87ca-a59a8ea8d469",
   "metadata": {},
   "source": [
    "##### Arithmetic operators"
   ]
  },
  {
   "cell_type": "code",
   "execution_count": 3,
   "id": "4940074a-6bb7-49bc-981f-03d6069ae23d",
   "metadata": {},
   "outputs": [
    {
     "name": "stdout",
     "output_type": "stream",
     "text": [
      "8\n"
     ]
    }
   ],
   "source": [
    "# Addition :-  +\n",
    "\n",
    "x = 3\n",
    "y = 5\n",
    "\n",
    "z = x +  y\n",
    "\n",
    "print(z)"
   ]
  },
  {
   "cell_type": "code",
   "execution_count": 4,
   "id": "b03974e1-a146-475c-9b4c-80aca2bffe1a",
   "metadata": {},
   "outputs": [
    {
     "name": "stdout",
     "output_type": "stream",
     "text": [
      "15\n"
     ]
    }
   ],
   "source": [
    "# Subtraction :- -\n",
    "\n",
    "a = 20\n",
    "b = 5\n",
    "\n",
    "print(a - b)"
   ]
  },
  {
   "cell_type": "code",
   "execution_count": 5,
   "id": "1258b8cb-d698-4a3c-8433-df2e3898647a",
   "metadata": {},
   "outputs": [
    {
     "name": "stdout",
     "output_type": "stream",
     "text": [
      "10\n"
     ]
    }
   ],
   "source": [
    "# Multiplication :- *\n",
    "\n",
    "x = 2\n",
    "y = 5\n",
    "\n",
    "print(x * y)"
   ]
  },
  {
   "cell_type": "code",
   "execution_count": 7,
   "id": "e3e92e41-e110-4316-adbe-3581860a0ebd",
   "metadata": {},
   "outputs": [
    {
     "name": "stdout",
     "output_type": "stream",
     "text": [
      "4.2\n"
     ]
    }
   ],
   "source": [
    "# Division :- /\n",
    "\n",
    "num_1 = 21\n",
    "num_2 = 5\n",
    "\n",
    "print(num_1 / num_2)"
   ]
  },
  {
   "cell_type": "code",
   "execution_count": 9,
   "id": "08874f73-ba52-418b-84c5-e096af0c2b26",
   "metadata": {},
   "outputs": [
    {
     "name": "stdout",
     "output_type": "stream",
     "text": [
      "4\n"
     ]
    }
   ],
   "source": [
    "# Floor division:- //\n",
    "num_1 = 21\n",
    "num_2 = 5\n",
    "\n",
    "print(num_1 // num_2)"
   ]
  },
  {
   "cell_type": "code",
   "execution_count": 11,
   "id": "fc36b0ed-99d9-4876-9510-447f827123c4",
   "metadata": {},
   "outputs": [
    {
     "name": "stdout",
     "output_type": "stream",
     "text": [
      "1\n"
     ]
    }
   ],
   "source": [
    "# Modulus :- %\n",
    "\n",
    "num_1 = 21\n",
    "num_2 = 5\n",
    "\n",
    "print(num_1 % num_2)"
   ]
  },
  {
   "cell_type": "code",
   "execution_count": 12,
   "id": "ab1c8952-0da3-4ff3-a64c-a499eb9291ca",
   "metadata": {},
   "outputs": [
    {
     "name": "stdout",
     "output_type": "stream",
     "text": [
      "9\n"
     ]
    }
   ],
   "source": [
    "# Exponentiation :- **\n",
    "\n",
    "num_1 = 3\n",
    "num_2 = 2\n",
    "\n",
    "print(num_1 ** num_2)"
   ]
  }
 ],
 "metadata": {
  "kernelspec": {
   "display_name": "Python 3 (ipykernel)",
   "language": "python",
   "name": "python3"
  },
  "language_info": {
   "codemirror_mode": {
    "name": "ipython",
    "version": 3
   },
   "file_extension": ".py",
   "mimetype": "text/x-python",
   "name": "python",
   "nbconvert_exporter": "python",
   "pygments_lexer": "ipython3",
   "version": "3.12.4"
  }
 },
 "nbformat": 4,
 "nbformat_minor": 5
}
