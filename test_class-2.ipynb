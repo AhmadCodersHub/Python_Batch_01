{
 "cells": [
  {
   "cell_type": "code",
   "execution_count": null,
   "id": "62abf1bf-db8f-491b-8345-0ae680b6d0fd",
   "metadata": {},
   "outputs": [],
   "source": [
    "# BikeName = 'Honda'\n",
    "# name = 'ali'\n",
    "# 2Car = '2Cars'\n",
    "# for = 'book'\n",
    "# number1 = 'one'\n",
    "# numbers = '12345678910'\n",
    "# Numbers = 12345678910\n",
    "# random_numbers = '-12345,0123456'\n",
    "# _ = 'cars'\n",
    "# in = 'a rules'\n",
    "# Text-1 = 'this is a car'\n",
    "# negativesNumbers = -1-2-3-4-5-6\n",
    "\n"
   ]
  },
  {
   "cell_type": "code",
   "execution_count": null,
   "id": "7a79d17a-8560-46bf-8c35-4b27f154820f",
   "metadata": {},
   "outputs": [],
   "source": []
  },
  {
   "cell_type": "code",
   "execution_count": null,
   "id": "33299f0f-eee4-45d9-85b8-e686f0972896",
   "metadata": {},
   "outputs": [],
   "source": []
  },
  {
   "cell_type": "code",
   "execution_count": null,
   "id": "5fb8dea6-fe1e-4709-9ab9-afd1dddc1ceb",
   "metadata": {},
   "outputs": [],
   "source": []
  }
 ],
 "metadata": {
  "kernelspec": {
   "display_name": "Python 3 (ipykernel)",
   "language": "python",
   "name": "python3"
  },
  "language_info": {
   "codemirror_mode": {
    "name": "ipython",
    "version": 3
   },
   "file_extension": ".py",
   "mimetype": "text/x-python",
   "name": "python",
   "nbconvert_exporter": "python",
   "pygments_lexer": "ipython3",
   "version": "3.12.4"
  }
 },
 "nbformat": 4,
 "nbformat_minor": 5
}
