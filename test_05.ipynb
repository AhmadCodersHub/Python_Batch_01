{
 "cells": [
  {
   "cell_type": "code",
   "execution_count": 4,
   "id": "38eefc2c-846a-4cce-aca1-a49619902248",
   "metadata": {},
   "outputs": [],
   "source": [
    "# text = 'hello world'\n",
    "# print(text)\n",
    "\n",
    "# text_1 = 'this is a car'\n",
    "# print(text_1)"
   ]
  },
  {
   "cell_type": "code",
   "execution_count": 5,
   "id": "ebc076ec-c4f6-4066-ad20-11fd1091a49a",
   "metadata": {},
   "outputs": [],
   "source": [
    "# list"
   ]
  },
  {
   "cell_type": "code",
   "execution_count": 6,
   "id": "8420c291-bd9b-415b-99ed-722c491c97a3",
   "metadata": {},
   "outputs": [],
   "source": [
    "furits_name = ['apple','banana','orange']"
   ]
  },
  {
   "cell_type": "code",
   "execution_count": 7,
   "id": "49551344-c14f-47bc-b6df-ebf3c925db7d",
   "metadata": {},
   "outputs": [
    {
     "ename": "IndexError",
     "evalue": "list index out of range",
     "output_type": "error",
     "traceback": [
      "\u001b[1;31m---------------------------------------------------------------------------\u001b[0m",
      "\u001b[1;31mIndexError\u001b[0m                                Traceback (most recent call last)",
      "Cell \u001b[1;32mIn[7], line 2\u001b[0m\n\u001b[0;32m      1\u001b[0m \u001b[38;5;66;03m# areeba\u001b[39;00m\n\u001b[1;32m----> 2\u001b[0m last_pos_furit \u001b[38;5;241m=\u001b[39m \u001b[43m[\u001b[49m\u001b[43mfurits_name\u001b[49m\u001b[43m]\u001b[49m\u001b[43m[\u001b[49m\u001b[38;5;241;43m2\u001b[39;49m\u001b[43m]\u001b[49m \u001b[38;5;66;03m# positive\u001b[39;00m\n\u001b[0;32m      3\u001b[0m last_neg_furit \u001b[38;5;241m=\u001b[39m [furits_name][\u001b[38;5;241m-\u001b[39m\u001b[38;5;241m2\u001b[39m] \u001b[38;5;66;03m# negative\u001b[39;00m\n\u001b[0;32m      4\u001b[0m \u001b[38;5;28mprint\u001b[39m(last_pos_furit)\n",
      "\u001b[1;31mIndexError\u001b[0m: list index out of range"
     ]
    }
   ],
   "source": [
    "# areeba\n",
    "last_pos_furit = [furits_name][2] # positive\n",
    "last_neg_furit = [furits_name][-2] # negative\n",
    "print(last_pos_furit)\n",
    "print(last_neg_furit)"
   ]
  },
  {
   "cell_type": "code",
   "execution_count": 8,
   "id": "0841a240-d23c-49aa-9315-de07a8c7d8e8",
   "metadata": {},
   "outputs": [
    {
     "name": "stdout",
     "output_type": "stream",
     "text": [
      "orange\n",
      "orange\n"
     ]
    }
   ],
   "source": [
    "# ayesha\n",
    "last_pos_furit = (furits_name[2]) # positive\n",
    "last_neg_furit = (furits_name[-1]) # negative \n",
    "print(last_pos_furit)\n",
    "print(last_neg_furit)"
   ]
  },
  {
   "cell_type": "code",
   "execution_count": 11,
   "id": "399606dd-ad12-4c50-a314-03bdc6b60002",
   "metadata": {},
   "outputs": [
    {
     "name": "stdout",
     "output_type": "stream",
     "text": [
      "orange\n",
      "orange\n"
     ]
    }
   ],
   "source": [
    "last_pos_furit = furits_name[2] # positive\n",
    "last_neg_furit = furits_name[-1] # negative \n",
    "print(last_pos_furit)\n",
    "print(last_neg_furit)"
   ]
  }
 ],
 "metadata": {
  "kernelspec": {
   "display_name": "Python 3 (ipykernel)",
   "language": "python",
   "name": "python3"
  },
  "language_info": {
   "codemirror_mode": {
    "name": "ipython",
    "version": 3
   },
   "file_extension": ".py",
   "mimetype": "text/x-python",
   "name": "python",
   "nbconvert_exporter": "python",
   "pygments_lexer": "ipython3",
   "version": "3.12.4"
  }
 },
 "nbformat": 4,
 "nbformat_minor": 5
}
