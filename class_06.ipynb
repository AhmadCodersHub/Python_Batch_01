{
 "cells": [
  {
   "cell_type": "markdown",
   "id": "ae3c349d-1962-4014-a08b-2b8368c7c1f6",
   "metadata": {},
   "source": [
    "### tuple"
   ]
  },
  {
   "cell_type": "code",
   "execution_count": null,
   "id": "1a77741e-1c34-4ff5-85ec-f802ef765ce7",
   "metadata": {},
   "outputs": [],
   "source": [
    "# un mutable # no change, no modification, no append, no remove"
   ]
  },
  {
   "cell_type": "code",
   "execution_count": 7,
   "id": "1161e3aa-5598-4562-ad61-03c2f001d968",
   "metadata": {},
   "outputs": [
    {
     "data": {
      "text/plain": [
       "'orange'"
      ]
     },
     "execution_count": 7,
     "metadata": {},
     "output_type": "execute_result"
    }
   ],
   "source": [
    "tuple_example = ('apple','banana','orange')\n",
    "tuple_example[-1]"
   ]
  },
  {
   "cell_type": "markdown",
   "id": "87d0d69c-26cf-491a-a446-c388b1e91fa8",
   "metadata": {},
   "source": [
    "### range"
   ]
  },
  {
   "cell_type": "code",
   "execution_count": 8,
   "id": "47e0fb42-0440-4057-b293-a62409ba0600",
   "metadata": {},
   "outputs": [],
   "source": [
    "# start point # by default  0\n",
    "# stop point\n",
    "# step point # by default  1"
   ]
  },
  {
   "cell_type": "code",
   "execution_count": 4,
   "id": "cc6cb7ce-d68c-4d5c-a964-90763aa7db1c",
   "metadata": {},
   "outputs": [
    {
     "data": {
      "text/plain": [
       "[1, 2, 3, 4, 5, 6, 7, 8, 9, 10]"
      ]
     },
     "execution_count": 4,
     "metadata": {},
     "output_type": "execute_result"
    }
   ],
   "source": [
    "list(range(1,11))"
   ]
  },
  {
   "cell_type": "code",
   "execution_count": 8,
   "id": "a10d0795-b1f0-4ede-be54-fbce75df76c9",
   "metadata": {},
   "outputs": [
    {
     "data": {
      "text/plain": [
       "[1, 3, 5, 7, 9]"
      ]
     },
     "execution_count": 8,
     "metadata": {},
     "output_type": "execute_result"
    }
   ],
   "source": [
    "list(range(1,11,2))"
   ]
  },
  {
   "cell_type": "code",
   "execution_count": 40,
   "id": "503540d5-f949-4ac0-be13-8483ab49eb51",
   "metadata": {},
   "outputs": [],
   "source": [
    "number_range = range(0,2)\n",
    "# list(number_range)\n",
    "# tuple(number_range)\n",
    "# print(number_range)"
   ]
  }
 ],
 "metadata": {
  "kernelspec": {
   "display_name": "Python 3 (ipykernel)",
   "language": "python",
   "name": "python3"
  },
  "language_info": {
   "codemirror_mode": {
    "name": "ipython",
    "version": 3
   },
   "file_extension": ".py",
   "mimetype": "text/x-python",
   "name": "python",
   "nbconvert_exporter": "python",
   "pygments_lexer": "ipython3",
   "version": "3.12.4"
  }
 },
 "nbformat": 4,
 "nbformat_minor": 5
}
