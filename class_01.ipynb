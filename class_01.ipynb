{
 "cells": [
  {
   "cell_type": "code",
   "execution_count": null,
   "id": "abb248e0-2d10-4861-b3bd-0ebf473d643d",
   "metadata": {},
   "outputs": [],
   "source": [
    "# data types\n",
    "# str\n",
    "# 1. single string =>  ''\n",
    "# 2. double string => \"\"\n",
    "# int\n",
    "# integers => .....-4,-3,-2,-1,0,1,2,3,4,5,6......"
   ]
  },
  {
   "cell_type": "markdown",
   "id": "c9994459-4fdd-4862-875a-948d0f821d1c",
   "metadata": {},
   "source": [
    "### Python Variables"
   ]
  },
  {
   "cell_type": "code",
   "execution_count": 34,
   "id": "764665d4-e62a-48ef-84ab-1d649b03d51d",
   "metadata": {},
   "outputs": [],
   "source": [
    "x = -50\n",
    "y = \"bag\""
   ]
  },
  {
   "cell_type": "code",
   "execution_count": 35,
   "id": "216436d8-2bbd-48de-b812-af83b40638ef",
   "metadata": {},
   "outputs": [
    {
     "name": "stdout",
     "output_type": "stream",
     "text": [
      "-50\n",
      "bag\n"
     ]
    }
   ],
   "source": [
    "print(x)\n",
    "print(y)"
   ]
  },
  {
   "cell_type": "code",
   "execution_count": 25,
   "id": "cdf7ab18-c61c-43d2-8708-e78d859ae965",
   "metadata": {},
   "outputs": [
    {
     "name": "stdout",
     "output_type": "stream",
     "text": [
      "2\n"
     ]
    }
   ],
   "source": [
    "x = 2\n",
    "print(x)"
   ]
  },
  {
   "cell_type": "code",
   "execution_count": 26,
   "id": "13f1aee2-0d76-4a22-9808-edd0c5e71b81",
   "metadata": {},
   "outputs": [
    {
     "name": "stdout",
     "output_type": "stream",
     "text": [
      "apple\n"
     ]
    }
   ],
   "source": [
    "x = 'apple'\n",
    "print(x)"
   ]
  },
  {
   "cell_type": "code",
   "execution_count": 3,
   "id": "efccda8b-e5a5-4e54-b18e-ac219ca6775e",
   "metadata": {},
   "outputs": [
    {
     "name": "stdout",
     "output_type": "stream",
     "text": [
      "this is a car\n"
     ]
    }
   ],
   "source": [
    "x = 'this is a car'\n",
    "print(x)"
   ]
  }
 ],
 "metadata": {
  "kernelspec": {
   "display_name": "Python 3 (ipykernel)",
   "language": "python",
   "name": "python3"
  },
  "language_info": {
   "codemirror_mode": {
    "name": "ipython",
    "version": 3
   },
   "file_extension": ".py",
   "mimetype": "text/x-python",
   "name": "python",
   "nbconvert_exporter": "python",
   "pygments_lexer": "ipython3",
   "version": "3.12.4"
  }
 },
 "nbformat": 4,
 "nbformat_minor": 5
}
