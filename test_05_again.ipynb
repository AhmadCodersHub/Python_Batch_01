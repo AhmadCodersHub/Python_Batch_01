{
 "cells": [
  {
   "cell_type": "code",
   "execution_count": null,
   "id": "32d73716-e5bf-4326-8320-a461b2732911",
   "metadata": {},
   "outputs": [],
   "source": []
  },
  {
   "cell_type": "code",
   "execution_count": 1,
   "id": "162c97b0-6f0c-4752-ad5f-420031899c91",
   "metadata": {},
   "outputs": [
    {
     "name": "stdout",
     "output_type": "stream",
     "text": [
      "['mouse', 'keyboard', 'moniter', 'ram', 'rom', 'processors']\n"
     ]
    }
   ],
   "source": [
    "computer_assesories = ['mouse','keyboard','moniter','ram','rom','processors']\n",
    "print(computer_assesories)"
   ]
  },
  {
   "cell_type": "code",
   "execution_count": 2,
   "id": "696646a6-f6eb-4f40-8915-4d08d4a61b08",
   "metadata": {},
   "outputs": [
    {
     "name": "stdout",
     "output_type": "stream",
     "text": [
      "moniter\n"
     ]
    }
   ],
   "source": [
    "moniter = (computer_assesories[-4])\n",
    "print(moniter)"
   ]
  },
  {
   "cell_type": "code",
   "execution_count": 3,
   "id": "b1894ec2-5470-40cb-a778-13114e28dd56",
   "metadata": {},
   "outputs": [
    {
     "name": "stdout",
     "output_type": "stream",
     "text": [
      "moniter\n"
     ]
    }
   ],
   "source": [
    "moniter = (computer_assesories[-4])\n",
    "print(moniter)"
   ]
  }
 ],
 "metadata": {
  "kernelspec": {
   "display_name": "Python 3 (ipykernel)",
   "language": "python",
   "name": "python3"
  },
  "language_info": {
   "codemirror_mode": {
    "name": "ipython",
    "version": 3
   },
   "file_extension": ".py",
   "mimetype": "text/x-python",
   "name": "python",
   "nbconvert_exporter": "python",
   "pygments_lexer": "ipython3",
   "version": "3.12.4"
  }
 },
 "nbformat": 4,
 "nbformat_minor": 5
}
