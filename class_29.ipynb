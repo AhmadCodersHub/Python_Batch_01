{
 "cells": [
  {
   "cell_type": "markdown",
   "id": "8e603978-ee4e-46ac-b036-7f6a9707cb52",
   "metadata": {},
   "source": [
    "### Python - Loop Lists"
   ]
  },
  {
   "cell_type": "code",
   "execution_count": 11,
   "id": "7ed4cfa8-c21d-4b8b-9f1a-cf7cf5018eb1",
   "metadata": {},
   "outputs": [],
   "source": [
    "# for loop\n",
    "# while loop"
   ]
  },
  {
   "cell_type": "code",
   "execution_count": null,
   "id": "c07c977b-845f-4d14-b9f9-5a5891455e5a",
   "metadata": {},
   "outputs": [],
   "source": [
    "# iterable\n",
    "# List, String, Dict, Tuple , range\n",
    "\n",
    "# non-iterable\n",
    "# int, complex, float"
   ]
  },
  {
   "cell_type": "code",
   "execution_count": null,
   "id": "a2461b8b-d6e3-4024-8391-aa24eecab7a5",
   "metadata": {},
   "outputs": [],
   "source": []
  },
  {
   "cell_type": "code",
   "execution_count": null,
   "id": "415aaf9c-24c6-4695-bccc-db96efa2a692",
   "metadata": {},
   "outputs": [],
   "source": []
  },
  {
   "cell_type": "code",
   "execution_count": 1,
   "id": "08632c45-2c08-44bf-b655-3737f158f2e2",
   "metadata": {},
   "outputs": [
    {
     "data": {
      "text/plain": [
       "25"
      ]
     },
     "execution_count": 1,
     "metadata": {},
     "output_type": "execute_result"
    }
   ],
   "source": [
    "number = 5\n",
    "\n",
    "number * 5"
   ]
  },
  {
   "cell_type": "code",
   "execution_count": 59,
   "id": "2857b636-98bb-4edf-92bc-787aa266b57f",
   "metadata": {},
   "outputs": [
    {
     "name": "stdout",
     "output_type": "stream",
     "text": [
      "5\n",
      "10\n",
      "15\n",
      "20\n",
      "25\n",
      "30\n",
      "35\n",
      "40\n",
      "50\n"
     ]
    }
   ],
   "source": [
    "number_of_list = [1,2,3,4,5,6,7,8,10]\n",
    "results = []\n",
    "for num in number_of_list:\n",
    "    multiply_numbers = num * 5\n",
    "    print(multiply_numbers)\n",
    "    results.append(multiply_numbers)\n",
    "    "
   ]
  },
  {
   "cell_type": "code",
   "execution_count": 36,
   "id": "ae06fef4-16f1-494c-a777-a15ca00f0cf4",
   "metadata": {},
   "outputs": [
    {
     "name": "stdout",
     "output_type": "stream",
     "text": [
      "1\n",
      "2\n",
      "3\n",
      "4\n",
      "5\n",
      "6\n",
      "7\n",
      "8\n",
      "9\n",
      "10\n"
     ]
    }
   ],
   "source": [
    "for x in range(1,11):\n",
    "    print(x)"
   ]
  },
  {
   "cell_type": "code",
   "execution_count": 44,
   "id": "089dc7d5-8090-4368-8e8c-809f62979519",
   "metadata": {},
   "outputs": [
    {
     "name": "stdout",
     "output_type": "stream",
     "text": [
      "name\n",
      "class\n",
      "Roll No\n"
     ]
    }
   ],
   "source": [
    "person_data = {'name':'ali','class':12,'Roll No':5}\n",
    "for x in person_data:\n",
    "    print(x)"
   ]
  },
  {
   "cell_type": "code",
   "execution_count": 49,
   "id": "26f3a861-4700-461c-9159-e492cb4e59bc",
   "metadata": {},
   "outputs": [],
   "source": [
    "str_txt = 'this              is                      a                           book.'\n",
    "# This is a Book."
   ]
  },
  {
   "cell_type": "code",
   "execution_count": 53,
   "id": "215a3975-977d-415b-b2cd-c48bd8f3a706",
   "metadata": {},
   "outputs": [
    {
     "name": "stdout",
     "output_type": "stream",
     "text": [
      "This is a Book.\n"
     ]
    }
   ],
   "source": [
    "splitted_txt = str_txt.split()\n",
    "parse_text = ''\n",
    "for word in splitted_txt:\n",
    "    if len(word) > 2:\n",
    "        title_word = word.title()\n",
    "        parse_text += ' ' + title_word\n",
    "    else:\n",
    "        parse_text += ' ' + word\n",
    "\n",
    "parse_text = parse_text.strip()\n",
    "print(parse_text)"
   ]
  },
  {
   "cell_type": "code",
   "execution_count": null,
   "id": "9c2c950b-2c31-4040-8aff-b7382b6ec99b",
   "metadata": {},
   "outputs": [],
   "source": []
  },
  {
   "cell_type": "markdown",
   "id": "72965ea8-1236-4a33-83bd-37494cedb8c0",
   "metadata": {},
   "source": [
    "### if \n",
    "### else"
   ]
  },
  {
   "cell_type": "code",
   "execution_count": 55,
   "id": "547e780f-34c4-446e-815e-ac13332f56b7",
   "metadata": {},
   "outputs": [
    {
     "name": "stdout",
     "output_type": "stream",
     "text": [
      "You can go to School. And you will take admission From.\n"
     ]
    }
   ],
   "source": [
    "child_age = 5\n",
    "if child_age >= 5:\n",
    "    print('You can go to School. And you will take admission From.')\n",
    "else:\n",
    "    print('You can not go to School!')"
   ]
  },
  {
   "cell_type": "code",
   "execution_count": null,
   "id": "e3d340f5-dfa8-4dce-a77c-cad19fcb2046",
   "metadata": {},
   "outputs": [],
   "source": []
  }
 ],
 "metadata": {
  "kernelspec": {
   "display_name": "Python 3 (ipykernel)",
   "language": "python",
   "name": "python3"
  },
  "language_info": {
   "codemirror_mode": {
    "name": "ipython",
    "version": 3
   },
   "file_extension": ".py",
   "mimetype": "text/x-python",
   "name": "python",
   "nbconvert_exporter": "python",
   "pygments_lexer": "ipython3",
   "version": "3.12.4"
  }
 },
 "nbformat": 4,
 "nbformat_minor": 5
}
