{
 "cells": [
  {
   "cell_type": "markdown",
   "id": "24b7a68b-1b44-4a69-b0e8-2cf072d98061",
   "metadata": {},
   "source": [
    "### Python Comments"
   ]
  },
  {
   "cell_type": "code",
   "execution_count": null,
   "id": "eaadee31-0377-4e66-8b4d-3502a1545edf",
   "metadata": {},
   "outputs": [],
   "source": [
    "# Creating a Comment"
   ]
  },
  {
   "cell_type": "code",
   "execution_count": null,
   "id": "f73d03ca-dc39-4f2c-afa8-882feafee870",
   "metadata": {},
   "outputs": [],
   "source": [
    "# Example\n",
    "#This is a comment"
   ]
  },
  {
   "cell_type": "code",
   "execution_count": null,
   "id": "ede36406-f180-41cc-b35e-e8abf8ab9ce9",
   "metadata": {},
   "outputs": [],
   "source": []
  }
 ],
 "metadata": {
  "kernelspec": {
   "display_name": "Python 3 (ipykernel)",
   "language": "python",
   "name": "python3"
  },
  "language_info": {
   "codemirror_mode": {
    "name": "ipython",
    "version": 3
   },
   "file_extension": ".py",
   "mimetype": "text/x-python",
   "name": "python",
   "nbconvert_exporter": "python",
   "pygments_lexer": "ipython3",
   "version": "3.12.4"
  }
 },
 "nbformat": 4,
 "nbformat_minor": 5
}
