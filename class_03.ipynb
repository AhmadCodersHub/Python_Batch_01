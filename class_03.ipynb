{
 "cells": [
  {
   "cell_type": "markdown",
   "id": "175668ec-67bf-47d1-b06c-5f914a5609a3",
   "metadata": {},
   "source": [
    "### Python Variables - Assign Multiple Values"
   ]
  },
  {
   "cell_type": "markdown",
   "id": "a0c0e01e-9f11-427e-9fe0-dbc8ca0639eb",
   "metadata": {},
   "source": [
    "##### Many Values to Multiple Variables"
   ]
  },
  {
   "cell_type": "code",
   "execution_count": 12,
   "id": "27e7bcf3-a024-4355-a80f-767a64f63611",
   "metadata": {},
   "outputs": [],
   "source": [
    "# old method\n",
    "name_1 = 'ali'\n",
    "name_2 = 'hassan'\n",
    "name_3 = 'hamza'"
   ]
  },
  {
   "cell_type": "code",
   "execution_count": 13,
   "id": "4f5e13b5-3084-4da3-b13c-b7a0732a41be",
   "metadata": {},
   "outputs": [
    {
     "name": "stdout",
     "output_type": "stream",
     "text": [
      "ali\n",
      "hassan\n",
      "hamza\n"
     ]
    }
   ],
   "source": [
    "print(name_1)\n",
    "print(name_2)\n",
    "print(name_3)"
   ]
  },
  {
   "cell_type": "code",
   "execution_count": 15,
   "id": "405ef4fe-b6fc-4c5f-8d3b-14e4cd8515d7",
   "metadata": {},
   "outputs": [],
   "source": [
    "# new method\n",
    "name_1, name_2, name_3  = 'moshin', 'hassan', 'raza'"
   ]
  },
  {
   "cell_type": "code",
   "execution_count": 16,
   "id": "86229558-3f2a-41b4-ab5e-7aec6a00ffd0",
   "metadata": {},
   "outputs": [
    {
     "name": "stdout",
     "output_type": "stream",
     "text": [
      "moshin\n",
      "hassan\n",
      "raza\n"
     ]
    }
   ],
   "source": [
    "print(name_1)\n",
    "print(name_2)\n",
    "print(name_3)"
   ]
  },
  {
   "cell_type": "markdown",
   "id": "3c2ecf6c-14e0-4e7d-b360-e73d321b07a8",
   "metadata": {},
   "source": [
    "##### One Value to Multiple Variables"
   ]
  },
  {
   "cell_type": "code",
   "execution_count": 21,
   "id": "0cfb843a-e9dd-4847-b8ca-5cf54aa078d6",
   "metadata": {},
   "outputs": [],
   "source": [
    "# old method\n",
    "furit_1 = 'mango'\n",
    "furit_2 = 'mango'\n",
    "furit_3 = 'mango'\n",
    "furit_4 = 'mango'\n",
    "furit_5 = 'mango'"
   ]
  },
  {
   "cell_type": "code",
   "execution_count": 22,
   "id": "84534aa6-e927-41c9-8927-e3f1643810c5",
   "metadata": {},
   "outputs": [
    {
     "name": "stdout",
     "output_type": "stream",
     "text": [
      "mango\n",
      "mango\n",
      "mango\n",
      "mango\n",
      "mango\n"
     ]
    }
   ],
   "source": [
    "print(furit_1)\n",
    "print(furit_2)\n",
    "print(furit_3)\n",
    "print(furit_4)\n",
    "print(furit_5)"
   ]
  },
  {
   "cell_type": "code",
   "execution_count": 25,
   "id": "eb18a928-fca1-45e7-928c-f13a6e172c15",
   "metadata": {},
   "outputs": [],
   "source": [
    "# new method\n",
    "furit_1 = furit_2 = furit_3 = furit_4 = furit_5 = 'orange'"
   ]
  },
  {
   "cell_type": "code",
   "execution_count": 26,
   "id": "c28eeb15-922e-4ac9-8770-edd96b9995c0",
   "metadata": {},
   "outputs": [
    {
     "name": "stdout",
     "output_type": "stream",
     "text": [
      "orange\n",
      "orange\n",
      "orange\n",
      "orange\n",
      "orange\n"
     ]
    }
   ],
   "source": [
    "print(furit_1)\n",
    "print(furit_2)\n",
    "print(furit_3)\n",
    "print(furit_4)\n",
    "print(furit_5)"
   ]
  }
 ],
 "metadata": {
  "kernelspec": {
   "display_name": "Python 3 (ipykernel)",
   "language": "python",
   "name": "python3"
  },
  "language_info": {
   "codemirror_mode": {
    "name": "ipython",
    "version": 3
   },
   "file_extension": ".py",
   "mimetype": "text/x-python",
   "name": "python",
   "nbconvert_exporter": "python",
   "pygments_lexer": "ipython3",
   "version": "3.12.4"
  }
 },
 "nbformat": 4,
 "nbformat_minor": 5
}
