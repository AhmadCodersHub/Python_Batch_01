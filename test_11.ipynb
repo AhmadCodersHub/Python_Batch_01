{
 "cells": [
  {
   "cell_type": "code",
   "execution_count": 17,
   "id": "974cb177-35e7-44a3-bc08-a75e160c8f1e",
   "metadata": {},
   "outputs": [
    {
     "name": "stdout",
     "output_type": "stream",
     "text": [
      "is\n"
     ]
    }
   ],
   "source": [
    "list_of_item = ['this is a car','this is a book']\n",
    "word = list_of_item[0]\n",
    "\n",
    "# print(type(list_of_item))\n",
    "\n",
    "\n",
    "results = word[5:7]\n",
    "print(results)"
   ]
  },
  {
   "cell_type": "code",
   "execution_count": null,
   "id": "b9a9e947-7136-4a1e-84e4-1af96a5e37cd",
   "metadata": {},
   "outputs": [],
   "source": [
    "# start:stop:step"
   ]
  },
  {
   "cell_type": "code",
   "execution_count": 9,
   "id": "03d0a19a-8265-4473-9ddb-49ab5dceebee",
   "metadata": {},
   "outputs": [],
   "source": [
    "text_1 = '''\n",
    "This is a car.\n",
    "This is a good car. #\n",
    "It's Color is Black.\n",
    "'''"
   ]
  },
  {
   "cell_type": "code",
   "execution_count": 10,
   "id": "c8079fa5-dccc-4c14-be72-a65b26b28605",
   "metadata": {},
   "outputs": [
    {
     "name": "stdout",
     "output_type": "stream",
     "text": [
      "\n",
      "This is a car.\n",
      "Th\n"
     ]
    }
   ],
   "source": [
    "# ayesha\n",
    "results_1 = text_1[:18]\n",
    "print(results_1)"
   ]
  },
  {
   "cell_type": "code",
   "execution_count": 11,
   "id": "3130e3dd-96cb-4d89-9e9b-6f5222747aaa",
   "metadata": {},
   "outputs": [
    {
     "name": "stdout",
     "output_type": "stream",
     "text": [
      "car\n"
     ]
    }
   ],
   "source": [
    "# areeba\n",
    "\n",
    "results_2 = text_1[11:14]\n",
    "print(results_2)"
   ]
  },
  {
   "cell_type": "code",
   "execution_count": 16,
   "id": "513f17a3-a3e3-4590-bc86-4fb40a5d3cf4",
   "metadata": {},
   "outputs": [
    {
     "data": {
      "text/plain": [
       "'This is a good car.'"
      ]
     },
     "execution_count": 16,
     "metadata": {},
     "output_type": "execute_result"
    }
   ],
   "source": [
    "# text_1[16:35]"
   ]
  },
  {
   "cell_type": "code",
   "execution_count": null,
   "id": "c0ec8b2e-d5ac-47c7-9c98-f5eea804cd86",
   "metadata": {},
   "outputs": [],
   "source": []
  }
 ],
 "metadata": {
  "kernelspec": {
   "display_name": "Python 3 (ipykernel)",
   "language": "python",
   "name": "python3"
  },
  "language_info": {
   "codemirror_mode": {
    "name": "ipython",
    "version": 3
   },
   "file_extension": ".py",
   "mimetype": "text/x-python",
   "name": "python",
   "nbconvert_exporter": "python",
   "pygments_lexer": "ipython3",
   "version": "3.12.4"
  }
 },
 "nbformat": 4,
 "nbformat_minor": 5
}
