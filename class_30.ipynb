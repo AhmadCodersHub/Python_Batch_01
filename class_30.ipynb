{
 "cells": [
  {
   "cell_type": "code",
   "execution_count": 2,
   "id": "d9fbdb0d-8872-4644-b215-725b1bfe9a5c",
   "metadata": {},
   "outputs": [],
   "source": [
    "# input() "
   ]
  },
  {
   "cell_type": "code",
   "execution_count": 2,
   "id": "55d38869-39c2-4b97-a980-6413165c149c",
   "metadata": {},
   "outputs": [
    {
     "name": "stdout",
     "output_type": "stream",
     "text": [
      "This is a Car.\n"
     ]
    }
   ],
   "source": [
    "input_string = 'This is a Car.'\n",
    "\n",
    "print(input_string)"
   ]
  },
  {
   "cell_type": "code",
   "execution_count": 4,
   "id": "7c576210-bc8c-4d5a-8069-c461d2acb040",
   "metadata": {},
   "outputs": [
    {
     "name": "stdin",
     "output_type": "stream",
     "text": [
      " THis is a Car.\n"
     ]
    }
   ],
   "source": [
    "input_string_2 = input()"
   ]
  },
  {
   "cell_type": "code",
   "execution_count": 7,
   "id": "fa7cfe37-c073-4150-bfaa-10520afc7e11",
   "metadata": {},
   "outputs": [
    {
     "name": "stdin",
     "output_type": "stream",
     "text": [
      " 5\n"
     ]
    }
   ],
   "source": [
    "number_of_input = int(input())"
   ]
  },
  {
   "cell_type": "code",
   "execution_count": 1,
   "id": "7ec2319c-88bc-4185-859c-6a4c1469470f",
   "metadata": {},
   "outputs": [],
   "source": [
    "# Problem-01:\n",
    "# Create a program that takes a string as input and then prints out the number of vowels in the string"
   ]
  },
  {
   "cell_type": "code",
   "execution_count": 14,
   "id": "fcd0a570-c767-40c6-bde8-024f1e04e739",
   "metadata": {},
   "outputs": [
    {
     "name": "stdin",
     "output_type": "stream",
     "text": [
      " A teacher plays a vital role in shaping the life of a student. Some teachings of your teacher remain in your memories even when you grow up and move forward to different professions. Here, we have compiled short essays and long essays for students which can be used as per the requirements. The essays have been written in simple language and are easy to understand and relate to your personal experiences of a teacher. The paragraphs are easy and have been written using simple vocabulary which you will love to read and use for various competitions or exams. Based on your requirements, you can select an essay, written both in long and short form.\n"
     ]
    },
    {
     "name": "stdout",
     "output_type": "stream",
     "text": [
      "\n",
      "Total Number Of Vowels:- 211\n"
     ]
    }
   ],
   "source": [
    "input_string = input()\n",
    "vowels = 'aeiou'\n",
    "count_vowels = 0\n",
    "for word in input_string.lower():\n",
    "    if word in vowels:\n",
    "        count_vowels += 1\n",
    "\n",
    "print(f'\\nTotal Number Of Vowels:- {count_vowels}')"
   ]
  },
  {
   "cell_type": "code",
   "execution_count": null,
   "id": "9d6e7885-b978-41d7-8095-e117b727e5f7",
   "metadata": {},
   "outputs": [],
   "source": []
  },
  {
   "cell_type": "code",
   "execution_count": null,
   "id": "277b1761-1f88-4b1d-a28a-bf1822e36cc7",
   "metadata": {},
   "outputs": [],
   "source": []
  },
  {
   "cell_type": "code",
   "execution_count": null,
   "id": "a8476d95-ca81-439c-a23c-32501982b11b",
   "metadata": {},
   "outputs": [],
   "source": []
  },
  {
   "cell_type": "code",
   "execution_count": null,
   "id": "6139d428-b850-4834-b467-38aa1425f4f5",
   "metadata": {},
   "outputs": [],
   "source": [
    "# Problem-02:\n",
    "# Create a program that takes a list of strings as input and then prints out the longest string in the list."
   ]
  },
  {
   "cell_type": "code",
   "execution_count": 69,
   "id": "39a044da-8e55-43cd-a89a-1917614be58d",
   "metadata": {},
   "outputs": [],
   "source": [
    "given_list = ['Apple','Kewy','Cable','Orange','peer']\n",
    "# Orange"
   ]
  },
  {
   "cell_type": "code",
   "execution_count": 46,
   "id": "b8b01e75-207f-4124-89db-870b559f1de1",
   "metadata": {},
   "outputs": [
    {
     "data": {
      "text/plain": [
       "True"
      ]
     },
     "execution_count": 46,
     "metadata": {},
     "output_type": "execute_result"
    }
   ],
   "source": [
    "len('Orange') >= len('apple')"
   ]
  },
  {
   "cell_type": "code",
   "execution_count": 81,
   "id": "63256c57-f16a-4469-b9c0-9ace3f24cc3f",
   "metadata": {},
   "outputs": [
    {
     "name": "stdout",
     "output_type": "stream",
     "text": [
      "Incoming Items:-  Apple\n",
      "Conditions Pass Items:-  Apple\n",
      "Incoming Items:-  Kewy\n",
      "Incoming Items:-  Cable\n",
      "Conditions Pass Items:-  Cable\n",
      "Incoming Items:-  Orange\n",
      "Conditions Pass Items:-  Orange\n",
      "Incoming Items:-  peersssss\n",
      "Conditions Pass Items:-  peersssss\n",
      "\n",
      "Longest String:-  peersssss\n"
     ]
    }
   ],
   "source": [
    "given_list = ['Apple','Kewy','Cable','Orange','peersssss'] \n",
    "longest_string = '' \n",
    "check_item = given_list[0] \n",
    "for item in given_list: \n",
    "    print('Incoming Items:- ',item) \n",
    "    if len(item) >= len(check_item):\n",
    "        longest_string = item \n",
    "        check_item = item \n",
    "        print('Conditions Pass Items:- ',longest_string) \n",
    "print('\\nLongest String:- ',longest_string) "
   ]
  },
  {
   "cell_type": "code",
   "execution_count": null,
   "id": "3ddb3861-1383-478c-af03-5c15862cf2ee",
   "metadata": {},
   "outputs": [],
   "source": []
  },
  {
   "cell_type": "code",
   "execution_count": null,
   "id": "63d7c818-21cd-4c31-98aa-585462075fce",
   "metadata": {},
   "outputs": [],
   "source": []
  },
  {
   "cell_type": "code",
   "execution_count": null,
   "id": "2ecf8735-1781-4185-ad55-6b0463bdaf42",
   "metadata": {},
   "outputs": [],
   "source": []
  },
  {
   "cell_type": "code",
   "execution_count": null,
   "id": "64baed2e-538d-40ae-a649-9f2711a146c6",
   "metadata": {},
   "outputs": [],
   "source": []
  },
  {
   "cell_type": "code",
   "execution_count": 12,
   "id": "991e3234-79ee-427c-8b4c-8679618cc24d",
   "metadata": {},
   "outputs": [],
   "source": []
  },
  {
   "cell_type": "code",
   "execution_count": null,
   "id": "bce25302-8c2f-498b-bb5c-7fd2df9f0cfe",
   "metadata": {},
   "outputs": [],
   "source": []
  },
  {
   "cell_type": "code",
   "execution_count": null,
   "id": "2b00b16e-0b43-4270-afc4-023dd09f4f60",
   "metadata": {},
   "outputs": [],
   "source": []
  }
 ],
 "metadata": {
  "kernelspec": {
   "display_name": "Python 3 (ipykernel)",
   "language": "python",
   "name": "python3"
  },
  "language_info": {
   "codemirror_mode": {
    "name": "ipython",
    "version": 3
   },
   "file_extension": ".py",
   "mimetype": "text/x-python",
   "name": "python",
   "nbconvert_exporter": "python",
   "pygments_lexer": "ipython3",
   "version": "3.12.4"
  }
 },
 "nbformat": 4,
 "nbformat_minor": 5
}
