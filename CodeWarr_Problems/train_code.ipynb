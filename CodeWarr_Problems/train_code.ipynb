{
 "cells": [
  {
   "cell_type": "code",
   "execution_count": 18,
   "metadata": {},
   "outputs": [],
   "source": [
    "def unique_in_order(sequence):\n",
    "    result = []\n",
    "    if sequence == []:\n",
    "        return []\n",
    "    if type(sequence) == str:\n",
    "        result = [0]\n",
    "        sequence_list = list(sequence)\n",
    "        for x in sequence_list:\n",
    "            if x != result[-1]:\n",
    "                result.append(x)\n",
    "        result.pop(0)\n",
    "    else:\n",
    "        result = [0]\n",
    "        for x in sequence:\n",
    "            if x != result[-1]:\n",
    "                result.append(x)\n",
    "        result.pop(0)\n",
    "    return result"
   ]
  },
  {
   "cell_type": "code",
   "execution_count": 20,
   "metadata": {},
   "outputs": [
    {
     "data": {
      "text/plain": [
       "[]"
      ]
     },
     "execution_count": 20,
     "metadata": {},
     "output_type": "execute_result"
    }
   ],
   "source": [
    "unique_in_order(())"
   ]
  },
  {
   "cell_type": "code",
   "execution_count": null,
   "metadata": {},
   "outputs": [],
   "source": []
  },
  {
   "cell_type": "markdown",
   "metadata": {},
   "source": [
    "Convert number to reversed array of digits\n",
    "Given a random non-negative number, you have to return the digits of this number within an array in reverse order.\n",
    "\n",
    "Example(Input => Output):\n",
    "35231 => [1,3,2,5,3]\n",
    "0 => [0]"
   ]
  },
  {
   "cell_type": "code",
   "execution_count": 9,
   "metadata": {},
   "outputs": [
    {
     "name": "stdout",
     "output_type": "stream",
     "text": [
      "[1, 3, 2, 5, 3]\n"
     ]
    }
   ],
   "source": [
    "number = 35231 \n",
    "\n",
    "# [1,3,2,5,3]\n",
    "\n",
    "list_of_number = []\n",
    "str_number = str(number)\n",
    "for n in str_number:\n",
    "    list_of_number.append(int(n))\n",
    "\n",
    "list_of_number.reverse()\n",
    "print(list_of_number)"
   ]
  },
  {
   "cell_type": "code",
   "execution_count": 10,
   "metadata": {},
   "outputs": [],
   "source": [
    "def digitize(number):\n",
    "    list_of_number = []\n",
    "    str_number = str(number)\n",
    "    for n in str_number:\n",
    "        list_of_number.append(int(n))\n",
    "\n",
    "    list_of_number.reverse()\n",
    "    return list_of_number"
   ]
  },
  {
   "cell_type": "code",
   "execution_count": 12,
   "metadata": {},
   "outputs": [
    {
     "data": {
      "text/plain": [
       "[0]"
      ]
     },
     "execution_count": 12,
     "metadata": {},
     "output_type": "execute_result"
    }
   ],
   "source": [
    "digitize(0)"
   ]
  }
 ],
 "metadata": {
  "kernelspec": {
   "display_name": "Python 3",
   "language": "python",
   "name": "python3"
  },
  "language_info": {
   "codemirror_mode": {
    "name": "ipython",
    "version": 3
   },
   "file_extension": ".py",
   "mimetype": "text/x-python",
   "name": "python",
   "nbconvert_exporter": "python",
   "pygments_lexer": "ipython3",
   "version": "3.12.4"
  }
 },
 "nbformat": 4,
 "nbformat_minor": 2
}
