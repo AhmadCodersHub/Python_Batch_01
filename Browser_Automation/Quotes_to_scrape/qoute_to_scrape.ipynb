{
 "cells": [
  {
   "cell_type": "code",
   "execution_count": 2,
   "metadata": {},
   "outputs": [],
   "source": [
    "from DrissionPage import ChromiumPage\n",
    "from time import sleep"
   ]
  },
  {
   "cell_type": "code",
   "execution_count": 2,
   "metadata": {},
   "outputs": [],
   "source": [
    "driver = ChromiumPage()"
   ]
  },
  {
   "cell_type": "code",
   "execution_count": 3,
   "metadata": {},
   "outputs": [],
   "source": [
    "web_url = 'https://quotes.toscrape.com/'"
   ]
  },
  {
   "cell_type": "code",
   "execution_count": 4,
   "metadata": {},
   "outputs": [],
   "source": [
    "driver.get(web_url)\n",
    "sleep(5)"
   ]
  },
  {
   "cell_type": "code",
   "execution_count": 5,
   "metadata": {},
   "outputs": [],
   "source": [
    "boxes = driver.eles('xpath://div[@class=\"quote\"]', timeout=10)"
   ]
  },
  {
   "cell_type": "code",
   "execution_count": null,
   "metadata": {},
   "outputs": [
    {
     "data": {
      "text/plain": [
       "10"
      ]
     },
     "execution_count": 6,
     "metadata": {},
     "output_type": "execute_result"
    }
   ],
   "source": [
    "len(boxes)"
   ]
  },
  {
   "cell_type": "code",
   "execution_count": 7,
   "metadata": {},
   "outputs": [],
   "source": [
    "box = boxes[0]"
   ]
  },
  {
   "cell_type": "code",
   "execution_count": null,
   "metadata": {},
   "outputs": [],
   "source": [
    "# target the link of the author\n",
    "# //small[@class=\"author\"]/following-sibling::a\n",
    "# //div[@class=\"quote\"]//a[contains(text(),\"about\")]\n",
    "# //div[@class=\"quote\"]//a[contains(@href,\"/author/\")]"
   ]
  },
  {
   "cell_type": "code",
   "execution_count": 13,
   "metadata": {},
   "outputs": [
    {
     "name": "stdout",
     "output_type": "stream",
     "text": [
      "['“The world as we have created it is a process of our thinking. It cannot be changed without changing our thinking.”', 'Albert Einstein', 'https://quotes.toscrape.com/author/Albert-Einstein', ['change', 'deep-thoughts', 'thinking', 'world']]\n"
     ]
    }
   ],
   "source": [
    "description_tag = box.ele('xpath:./span[@class=\"text\"]',timeout=0)\n",
    "description_text = description_tag.text if description_tag else ''\n",
    "author_tag = box.ele('xpath:.//small[@class=\"author\"]',timeout=0)\n",
    "author_text = author_tag.text if author_tag else ''\n",
    "about_tag = box.ele('xpath:.//a[contains(@href,\"/author/\")]',timeout=0)\n",
    "about_url = about_tag.attr('href') if about_tag else ''\n",
    "qoutes_tags = box.eles('xpath:.//div[@class=\"tags\"]//a',timeout=0)\n",
    "qoutes = [tag.text.strip() for tag in qoutes_tags]\n",
    "row = [description_text, author_text, about_url, qoutes]\n",
    "print(row)"
   ]
  },
  {
   "cell_type": "code",
   "execution_count": 14,
   "metadata": {},
   "outputs": [
    {
     "name": "stdout",
     "output_type": "stream",
     "text": [
      "['“The world as we have created it is a process of our thinking. It cannot be changed without changing our thinking.”', 'Albert Einstein', 'https://quotes.toscrape.com/author/Albert-Einstein', ['change', 'deep-thoughts', 'thinking', 'world']]\n",
      "['“It is our choices, Harry, that show what we truly are, far more than our abilities.”', 'J.K. Rowling', 'https://quotes.toscrape.com/author/J-K-Rowling', ['abilities', 'choices']]\n",
      "['“There are only two ways to live your life. One is as though nothing is a miracle. The other is as though everything is a miracle.”', 'Albert Einstein', 'https://quotes.toscrape.com/author/Albert-Einstein', ['inspirational', 'life', 'live', 'miracle', 'miracles']]\n",
      "['“The person, be it gentleman or lady, who has not pleasure in a good novel, must be intolerably stupid.”', 'Jane Austen', 'https://quotes.toscrape.com/author/Jane-Austen', ['aliteracy', 'books', 'classic', 'humor']]\n",
      "[\"“Imperfection is beauty, madness is genius and it's better to be absolutely ridiculous than absolutely boring.”\", 'Marilyn Monroe', 'https://quotes.toscrape.com/author/Marilyn-Monroe', ['be-yourself', 'inspirational']]\n",
      "['“Try not to become a man of success. Rather become a man of value.”', 'Albert Einstein', 'https://quotes.toscrape.com/author/Albert-Einstein', ['adulthood', 'success', 'value']]\n",
      "['“It is better to be hated for what you are than to be loved for what you are not.”', 'André Gide', 'https://quotes.toscrape.com/author/Andre-Gide', ['life', 'love']]\n",
      "[\"“I have not failed. I've just found 10,000 ways that won't work.”\", 'Thomas A. Edison', 'https://quotes.toscrape.com/author/Thomas-A-Edison', ['edison', 'failure', 'inspirational', 'paraphrased']]\n",
      "[\"“A woman is like a tea bag; you never know how strong it is until it's in hot water.”\", 'Eleanor Roosevelt', 'https://quotes.toscrape.com/author/Eleanor-Roosevelt', ['misattributed-eleanor-roosevelt']]\n",
      "['“A day without sunshine is like, you know, night.”', 'Steve Martin', 'https://quotes.toscrape.com/author/Steve-Martin', ['humor', 'obvious', 'simile']]\n"
     ]
    }
   ],
   "source": [
    "for box in boxes:\n",
    "    description_tag = box.ele('xpath:./span[@class=\"text\"]',timeout=0)\n",
    "    description_text = description_tag.text if description_tag else ''\n",
    "    author_tag = box.ele('xpath:.//small[@class=\"author\"]',timeout=0)\n",
    "    author_text = author_tag.text if author_tag else ''\n",
    "    about_tag = box.ele('xpath:.//a[contains(@href,\"/author/\")]',timeout=0)\n",
    "    about_url = about_tag.attr('href') if about_tag else ''\n",
    "    qoutes_tags = box.eles('xpath:.//div[@class=\"tags\"]//a',timeout=0)\n",
    "    qoutes = [tag.text.strip() for tag in qoutes_tags]\n",
    "    row = [description_text, author_text, about_url, qoutes]\n",
    "    print(row)"
   ]
  },
  {
   "cell_type": "code",
   "execution_count": 3,
   "metadata": {},
   "outputs": [],
   "source": [
    "import os"
   ]
  },
  {
   "cell_type": "code",
   "execution_count": 4,
   "metadata": {},
   "outputs": [
    {
     "data": {
      "text/plain": [
       "['browser_automation-1.ipynb',\n",
       " 'qoute_to_scrape.ipynb',\n",
       " 'qoute_to_scrape.zip',\n",
       " 'quotes_to_scrape.py']"
      ]
     },
     "execution_count": 4,
     "metadata": {},
     "output_type": "execute_result"
    }
   ],
   "source": [
    "os.listdir()"
   ]
  },
  {
   "cell_type": "code",
   "execution_count": null,
   "metadata": {},
   "outputs": [],
   "source": []
  },
  {
   "cell_type": "code",
   "execution_count": 1,
   "metadata": {},
   "outputs": [
    {
     "name": "stdout",
     "output_type": "stream",
     "text": [
      "1\n",
      "2\n",
      "3\n",
      "4\n",
      "5\n",
      "6\n",
      "7\n",
      "8\n",
      "9\n",
      "10\n"
     ]
    }
   ],
   "source": [
    "for x in range(1,11):\n",
    "    print(x)"
   ]
  },
  {
   "cell_type": "code",
   "execution_count": 2,
   "metadata": {},
   "outputs": [
    {
     "name": "stdout",
     "output_type": "stream",
     "text": [
      "1\n",
      "2\n",
      "3\n",
      "4\n",
      "5\n",
      "6\n",
      "7\n",
      "8\n",
      "9\n",
      "10\n"
     ]
    }
   ],
   "source": [
    "# while loop\n",
    "\n",
    "x = 1\n",
    "\n",
    "while True:\n",
    "    print(x)\n",
    "    if x >= 10:\n",
    "        break\n",
    "    \n",
    "    x += 1"
   ]
  }
 ],
 "metadata": {
  "kernelspec": {
   "display_name": "Python 3",
   "language": "python",
   "name": "python3"
  },
  "language_info": {
   "codemirror_mode": {
    "name": "ipython",
    "version": 3
   },
   "file_extension": ".py",
   "mimetype": "text/x-python",
   "name": "python",
   "nbconvert_exporter": "python",
   "pygments_lexer": "ipython3",
   "version": "3.12.4"
  }
 },
 "nbformat": 4,
 "nbformat_minor": 2
}
