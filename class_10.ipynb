{
 "cells": [
  {
   "cell_type": "code",
   "execution_count": 4,
   "id": "de7a4a55-f5e5-4ced-88cb-2ff830d379d8",
   "metadata": {},
   "outputs": [
    {
     "name": "stdout",
     "output_type": "stream",
     "text": [
      "this is book\n"
     ]
    }
   ],
   "source": [
    "text = \"this is book\"\n",
    "print(text)"
   ]
  },
  {
   "cell_type": "code",
   "execution_count": 4,
   "id": "28f9ee18-30d6-4069-8019-cb6b61967d45",
   "metadata": {},
   "outputs": [],
   "source": [
    "text = '''\n",
    "Teachers are those who make children knowledgeable and cultured. \n",
    "A teacher is a beautiful gift given by god because god is a creator of the whole world and a teacher is a creator of a whole nation.\n",
    "A teacher is such an important creature in the life of a student, \n",
    "who through his knowledge, patience and love give a strong shape to a student’s whole life. \n",
    "'''"
   ]
  },
  {
   "cell_type": "code",
   "execution_count": 6,
   "id": "119f898d-bb3c-4a09-bb63-6e7493153455",
   "metadata": {},
   "outputs": [
    {
     "name": "stdout",
     "output_type": "stream",
     "text": [
      "\n",
      "Teachers are those who make children knowledgeable and cultured. \n",
      "A teacher is a beautiful gift given by god because god is a creator of the whole world and a teacher is a creator of a whole nation.\n",
      "A teacher is such an important creature in the life of a student, \n",
      "who through his knowledge, patience and love give a strong shape to a student’s whole life. \n",
      "\n"
     ]
    }
   ],
   "source": [
    "print(text)"
   ]
  },
  {
   "cell_type": "code",
   "execution_count": 1,
   "id": "dd55cf4d-894c-476b-8b96-3de22025e488",
   "metadata": {},
   "outputs": [
    {
     "name": "stdout",
     "output_type": "stream",
     "text": [
      "It is a car. It is a good car. It's color is black.\n"
     ]
    }
   ],
   "source": [
    "text_1 = \"It is a car. It is a good car. It's color is black.\"\n",
    "\n",
    "print(text_1)"
   ]
  },
  {
   "cell_type": "code",
   "execution_count": 2,
   "id": "7e04c36e-8760-4f87-882c-780139dab76d",
   "metadata": {},
   "outputs": [
    {
     "name": "stdout",
     "output_type": "stream",
     "text": [
      "It is a car.\n",
      "It is a good car.\n",
      "It's color is black.\n"
     ]
    }
   ],
   "source": [
    "text_2 = \"It is a car.\\nIt is a good car.\\nIt's color is black.\"\n",
    "\n",
    "print(text_2)"
   ]
  },
  {
   "cell_type": "code",
   "execution_count": 12,
   "id": "68cfcdea-368d-42d8-b352-ed8ab98ad111",
   "metadata": {},
   "outputs": [
    {
     "name": "stdout",
     "output_type": "stream",
     "text": [
      "3\n"
     ]
    }
   ],
   "source": [
    "# length\n",
    "# len()\n",
    "\n",
    "string_word = 'car'\n",
    "\n",
    "length_word = len(string_word)\n",
    "\n",
    "print(length_word)"
   ]
  },
  {
   "cell_type": "code",
   "execution_count": 13,
   "id": "7a0c961b-14b3-4bea-b729-fdac79ac0688",
   "metadata": {},
   "outputs": [
    {
     "name": "stdout",
     "output_type": "stream",
     "text": [
      "51\n"
     ]
    }
   ],
   "source": [
    "print(len(text_2))"
   ]
  },
  {
   "cell_type": "code",
   "execution_count": null,
   "id": "bc5af6c7-a4a1-4d04-8c80-8e270d884287",
   "metadata": {},
   "outputs": [],
   "source": [
    "# in"
   ]
  },
  {
   "cell_type": "code",
   "execution_count": 7,
   "id": "1ee675d2-bcd8-4709-8e59-824e97266524",
   "metadata": {},
   "outputs": [
    {
     "data": {
      "text/plain": [
       "True"
      ]
     },
     "execution_count": 7,
     "metadata": {},
     "output_type": "execute_result"
    }
   ],
   "source": [
    "'strong' in text"
   ]
  },
  {
   "cell_type": "code",
   "execution_count": 8,
   "id": "47d08fe9-da9e-48ae-9950-6d854691ecbe",
   "metadata": {},
   "outputs": [
    {
     "data": {
      "text/plain": [
       "False"
      ]
     },
     "execution_count": 8,
     "metadata": {},
     "output_type": "execute_result"
    }
   ],
   "source": [
    "'bat' in text"
   ]
  }
 ],
 "metadata": {
  "kernelspec": {
   "display_name": "Python 3",
   "language": "python",
   "name": "python3"
  },
  "language_info": {
   "codemirror_mode": {
    "name": "ipython",
    "version": 3
   },
   "file_extension": ".py",
   "mimetype": "text/x-python",
   "name": "python",
   "nbconvert_exporter": "python",
   "pygments_lexer": "ipython3",
   "version": "3.12.4"
  }
 },
 "nbformat": 4,
 "nbformat_minor": 5
}
