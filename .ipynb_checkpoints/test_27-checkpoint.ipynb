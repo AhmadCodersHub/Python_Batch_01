{
 "cells": [
  {
   "cell_type": "code",
   "execution_count": 10,
   "id": "b2542a2d-be56-4f8f-a4aa-6616dfdae277",
   "metadata": {},
   "outputs": [],
   "source": [
    "numbers_list = [1,2,3,4,5,6,7,8,9,10]\n",
    "# start:stop:step"
   ]
  },
  {
   "cell_type": "code",
   "execution_count": 9,
   "id": "4469ad6d-400f-4b06-a921-9ec3bf22d44b",
   "metadata": {},
   "outputs": [
    {
     "data": {
      "text/plain": [
       "[10, 9, 8, 7, 6, 5, 4, 3, 2, 1]"
      ]
     },
     "execution_count": 9,
     "metadata": {},
     "output_type": "execute_result"
    }
   ],
   "source": [
    "# reverse the list\n",
    "numbers_list[::-1]"
   ]
  },
  {
   "cell_type": "code",
   "execution_count": 11,
   "id": "649a30c6-60fd-49d7-9742-9aca5dfbbc58",
   "metadata": {},
   "outputs": [],
   "source": [
    "numbers_list.reverse()"
   ]
  },
  {
   "cell_type": "code",
   "execution_count": 12,
   "id": "f50aaf19-0cf2-44b5-a71f-2f6381c68fe5",
   "metadata": {},
   "outputs": [
    {
     "data": {
      "text/plain": [
       "[10, 9, 8, 7, 6, 5, 4, 3, 2, 1]"
      ]
     },
     "execution_count": 12,
     "metadata": {},
     "output_type": "execute_result"
    }
   ],
   "source": [
    "numbers_list"
   ]
  },
  {
   "cell_type": "code",
   "execution_count": null,
   "id": "d0d70793-0882-4ccd-bb5f-2200efed0384",
   "metadata": {},
   "outputs": [],
   "source": []
  },
  {
   "cell_type": "code",
   "execution_count": null,
   "id": "7d8976e0-f58b-4ca7-b664-38cf04e0629b",
   "metadata": {},
   "outputs": [],
   "source": []
  },
  {
   "cell_type": "code",
   "execution_count": 14,
   "id": "0ac1ad10-138e-4b52-858d-1dc3c65ec5c1",
   "metadata": {},
   "outputs": [],
   "source": [
    "furits_txt = 'Orange,Mango,Apple and Banana are furits.'\n",
    "\n",
    "# print(furits_list)\n",
    "# ['Orange','Mango','Apple','Banana']"
   ]
  },
  {
   "cell_type": "code",
   "execution_count": 15,
   "id": "b7c5d6b3-e258-431e-85c2-ca549409183d",
   "metadata": {},
   "outputs": [
    {
     "name": "stdout",
     "output_type": "stream",
     "text": [
      "['Orange,Mango,Apple', 'and', 'Banana', 'are', 'furits.']\n"
     ]
    }
   ],
   "source": [
    "furits_list = furits_txt.split()\n",
    "print(furits_list)"
   ]
  },
  {
   "cell_type": "code",
   "execution_count": 18,
   "id": "fdd361ca-ca81-442d-ba3b-b5e1fdcddf7a",
   "metadata": {},
   "outputs": [
    {
     "name": "stdout",
     "output_type": "stream",
     "text": [
      "['Orange', 'Mango', 'Apple', 'Banana']\n"
     ]
    }
   ],
   "source": [
    "parse_text = furits_txt.replace(' and ',',').replace(' are furits.','')\n",
    "furits_list = parse_text.split(',')\n",
    "print(furits_list)"
   ]
  },
  {
   "cell_type": "code",
   "execution_count": 19,
   "id": "06c13a19-4857-4b0c-85a9-51dfe51e9eb1",
   "metadata": {},
   "outputs": [],
   "source": [
    "furits_list = ['Orange', 'Mango', 'Apple', 'Banana']"
   ]
  },
  {
   "cell_type": "code",
   "execution_count": 20,
   "id": "1db19cc3-58ef-4eea-83f3-935390f29580",
   "metadata": {},
   "outputs": [
    {
     "name": "stdout",
     "output_type": "stream",
     "text": [
      "['Orange', 'Mango', 'Cherry', 'Banana']\n"
     ]
    }
   ],
   "source": [
    "furits_list[2] = 'Cherry'\n",
    "print(furits_list)"
   ]
  },
  {
   "cell_type": "code",
   "execution_count": 25,
   "id": "8169e709-428e-4c3e-a5b5-58cb40391cbc",
   "metadata": {},
   "outputs": [
    {
     "name": "stdout",
     "output_type": "stream",
     "text": [
      "[6, 7, 8, 9, 10, 1, 2, 3, 4, 5]\n"
     ]
    }
   ],
   "source": [
    "list_1 = [1,2,3,4,5]\n",
    "list_2 = [6,7,8,9,10]\n",
    "list_2.extend(list_1)\n",
    "print(list_2)"
   ]
  },
  {
   "cell_type": "code",
   "execution_count": 26,
   "id": "8d2de644-501c-4470-be10-8803f6618f8f",
   "metadata": {},
   "outputs": [],
   "source": [
    "list_2.sort()"
   ]
  },
  {
   "cell_type": "code",
   "execution_count": 27,
   "id": "df4398c1-bd2c-4f6e-a3f6-2a9ac266e770",
   "metadata": {},
   "outputs": [
    {
     "name": "stdout",
     "output_type": "stream",
     "text": [
      "[1, 2, 3, 4, 5, 6, 7, 8, 9, 10]\n"
     ]
    }
   ],
   "source": [
    "print(list_2)"
   ]
  },
  {
   "cell_type": "code",
   "execution_count": null,
   "id": "a0a0d572-899e-423a-8905-11dd7e250753",
   "metadata": {},
   "outputs": [],
   "source": []
  }
 ],
 "metadata": {
  "kernelspec": {
   "display_name": "Python 3 (ipykernel)",
   "language": "python",
   "name": "python3"
  },
  "language_info": {
   "codemirror_mode": {
    "name": "ipython",
    "version": 3
   },
   "file_extension": ".py",
   "mimetype": "text/x-python",
   "name": "python",
   "nbconvert_exporter": "python",
   "pygments_lexer": "ipython3",
   "version": "3.12.4"
  }
 },
 "nbformat": 4,
 "nbformat_minor": 5
}
