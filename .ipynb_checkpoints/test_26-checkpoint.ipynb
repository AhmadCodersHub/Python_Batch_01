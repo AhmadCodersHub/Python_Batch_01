{
 "cells": [
  {
   "cell_type": "code",
   "execution_count": 1,
   "id": "346b45d4-ca3a-4b47-8216-4af5850e4162",
   "metadata": {},
   "outputs": [
    {
     "data": {
      "text/plain": [
       "True"
      ]
     },
     "execution_count": 1,
     "metadata": {},
     "output_type": "execute_result"
    }
   ],
   "source": [
    "person_data = {'Name':'Ali','Age':20}\n",
    "\n",
    "'Name' in person_data"
   ]
  },
  {
   "cell_type": "code",
   "execution_count": null,
   "id": "8512752d-18ab-45da-acae-f1551fa8524c",
   "metadata": {},
   "outputs": [],
   "source": []
  },
  {
   "cell_type": "code",
   "execution_count": 30,
   "id": "db963674-d382-4e6f-9953-f41bfcb2750c",
   "metadata": {},
   "outputs": [],
   "source": [
    "list_of_pass_student = ['Raza','Ali','Hamza','Arif','Hassan']\n",
    "\n",
    "check_name = 'hamza'\n",
    "\n",
    "# print(status)\n",
    "# True # Boolean value"
   ]
  },
  {
   "cell_type": "code",
   "execution_count": 5,
   "id": "af55405b-0e27-4f60-87fb-a816017d1f07",
   "metadata": {},
   "outputs": [
    {
     "name": "stdout",
     "output_type": "stream",
     "text": [
      "False\n"
     ]
    }
   ],
   "source": [
    "status = check_name[0] in list_of_pass_student\n",
    "print(status)"
   ]
  },
  {
   "cell_type": "code",
   "execution_count": 31,
   "id": "7aaab128-1bd0-4186-9440-4198f06c2c18",
   "metadata": {},
   "outputs": [
    {
     "name": "stdout",
     "output_type": "stream",
     "text": [
      "True\n"
     ]
    }
   ],
   "source": [
    "# correct method\n",
    "status = check_name.title() in list_of_pass_student\n",
    "print(status)"
   ]
  },
  {
   "cell_type": "code",
   "execution_count": 34,
   "id": "d2ce2a0a-ce47-4701-859c-8d085af66481",
   "metadata": {},
   "outputs": [],
   "source": [
    "# second method"
   ]
  },
  {
   "cell_type": "code",
   "execution_count": 45,
   "id": "9646a8a6-5457-42cb-9db4-35d72ce71781",
   "metadata": {},
   "outputs": [],
   "source": [
    "list_of_pass_student = ['Raza','Ali','HAMZA','Arif','Hassan']\n",
    "check_name = 'hamza'"
   ]
  },
  {
   "cell_type": "code",
   "execution_count": 46,
   "id": "0fdf96b7-db45-4826-a8e8-a8e5be1d2a04",
   "metadata": {},
   "outputs": [
    {
     "name": "stdout",
     "output_type": "stream",
     "text": [
      "True\n"
     ]
    }
   ],
   "source": [
    "joined_string = ' '.join(list_of_pass_student)\n",
    "list_pares_words = joined_string.lower().split(' ')\n",
    "status = check_name.lower() in list_pares_words\n",
    "print(status)"
   ]
  },
  {
   "cell_type": "code",
   "execution_count": null,
   "id": "f2379e68-b490-43f6-b1d9-02b700586f8d",
   "metadata": {},
   "outputs": [],
   "source": []
  },
  {
   "cell_type": "code",
   "execution_count": null,
   "id": "4d2fb850-12dc-4b30-8c07-ba0075698cfe",
   "metadata": {},
   "outputs": [],
   "source": []
  },
  {
   "cell_type": "code",
   "execution_count": null,
   "id": "1611a975-9e0c-4aa6-8b3e-00e47f970e93",
   "metadata": {},
   "outputs": [],
   "source": []
  }
 ],
 "metadata": {
  "kernelspec": {
   "display_name": "Python 3 (ipykernel)",
   "language": "python",
   "name": "python3"
  },
  "language_info": {
   "codemirror_mode": {
    "name": "ipython",
    "version": 3
   },
   "file_extension": ".py",
   "mimetype": "text/x-python",
   "name": "python",
   "nbconvert_exporter": "python",
   "pygments_lexer": "ipython3",
   "version": "3.12.4"
  }
 },
 "nbformat": 4,
 "nbformat_minor": 5
}
