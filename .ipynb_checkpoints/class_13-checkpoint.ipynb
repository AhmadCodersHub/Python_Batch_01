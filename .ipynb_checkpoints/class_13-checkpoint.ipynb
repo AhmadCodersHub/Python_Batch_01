{
 "cells": [
  {
   "cell_type": "markdown",
   "id": "a302be48-a491-435c-9959-4f698dc05396",
   "metadata": {},
   "source": [
    "### String Methods"
   ]
  },
  {
   "cell_type": "code",
   "execution_count": null,
   "id": "6943569b-8b35-45bf-b708-f8ca0f21dcd2",
   "metadata": {},
   "outputs": [],
   "source": [
    "# upper()\n",
    "# lower()\n",
    "# title()\n",
    "# strip()"
   ]
  },
  {
   "cell_type": "code",
   "execution_count": 3,
   "id": "0bcd52e9-dd8b-4650-97a9-093e078ceff8",
   "metadata": {},
   "outputs": [],
   "source": [
    "# upper()"
   ]
  },
  {
   "cell_type": "code",
   "execution_count": 6,
   "id": "a88106d0-6bdc-4bd4-949c-9d9faad693c2",
   "metadata": {
    "scrolled": true
   },
   "outputs": [
    {
     "name": "stdout",
     "output_type": "stream",
     "text": [
      "ALI\n"
     ]
    }
   ],
   "source": [
    "name = 'ali'\n",
    "# ALI\n",
    "upper_name = name.upper()\n",
    "print(upper_name)"
   ]
  },
  {
   "cell_type": "code",
   "execution_count": null,
   "id": "a3c89bf9-a0a9-4973-b10c-ee3a8afb87a4",
   "metadata": {},
   "outputs": [],
   "source": []
  },
  {
   "cell_type": "code",
   "execution_count": 4,
   "id": "7155a2be-17d0-45a4-ad12-5d5c5885970b",
   "metadata": {},
   "outputs": [],
   "source": [
    "# lower()"
   ]
  },
  {
   "cell_type": "code",
   "execution_count": 7,
   "id": "99adc762-717b-4f5a-900e-78eb082e2489",
   "metadata": {},
   "outputs": [
    {
     "name": "stdout",
     "output_type": "stream",
     "text": [
      "ali\n"
     ]
    }
   ],
   "source": [
    "# ali\n",
    "lower_name = upper_name.lower()\n",
    "print(lower_name)"
   ]
  },
  {
   "cell_type": "code",
   "execution_count": 8,
   "id": "c71a2507-7a48-48ae-8b11-4b128dc0da77",
   "metadata": {},
   "outputs": [],
   "source": [
    "# title()"
   ]
  },
  {
   "cell_type": "code",
   "execution_count": null,
   "id": "1dc52193-17b7-40fd-97a7-91cf349eff64",
   "metadata": {},
   "outputs": [],
   "source": [
    "# Ali"
   ]
  },
  {
   "cell_type": "code",
   "execution_count": 9,
   "id": "d3c7a70f-f6f7-496d-8ccf-eade8761a73d",
   "metadata": {},
   "outputs": [
    {
     "name": "stdout",
     "output_type": "stream",
     "text": [
      "Ali\n"
     ]
    }
   ],
   "source": [
    "title_name = lower_name.title()\n",
    "print(title_name)"
   ]
  },
  {
   "cell_type": "code",
   "execution_count": 10,
   "id": "8651c503-34ad-4fd7-a1b0-3b3dee2f4407",
   "metadata": {},
   "outputs": [
    {
     "name": "stdout",
     "output_type": "stream",
     "text": [
      "This Is A Book.\n"
     ]
    }
   ],
   "source": [
    "# this is a book.\n",
    "text = 'this is a book.'\n",
    "print(text.title())"
   ]
  },
  {
   "cell_type": "code",
   "execution_count": 11,
   "id": "a445ea57-7bca-42ed-920a-b62da1495938",
   "metadata": {},
   "outputs": [],
   "source": [
    "# strip()"
   ]
  },
  {
   "cell_type": "code",
   "execution_count": 16,
   "id": "5f691aaf-c9e6-4c5b-b2e2-534f744f1854",
   "metadata": {},
   "outputs": [
    {
     "name": "stdout",
     "output_type": "stream",
     "text": [
      "\n",
      "     this is a book      \n",
      "             \n",
      "\n",
      " \n"
     ]
    }
   ],
   "source": [
    "text_1 = '\\n     this is a book      \\n             \\n\\n '\n",
    "print(text_1)"
   ]
  },
  {
   "cell_type": "code",
   "execution_count": 17,
   "id": "543b0a2e-a9e2-4ce2-ae7b-adc1826ca4ad",
   "metadata": {},
   "outputs": [
    {
     "name": "stdout",
     "output_type": "stream",
     "text": [
      "this is a book\n"
     ]
    }
   ],
   "source": [
    "result = text_1.strip()\n",
    "\n",
    "print(result)"
   ]
  }
 ],
 "metadata": {
  "kernelspec": {
   "display_name": "Python 3 (ipykernel)",
   "language": "python",
   "name": "python3"
  },
  "language_info": {
   "codemirror_mode": {
    "name": "ipython",
    "version": 3
   },
   "file_extension": ".py",
   "mimetype": "text/x-python",
   "name": "python",
   "nbconvert_exporter": "python",
   "pygments_lexer": "ipython3",
   "version": "3.12.4"
  }
 },
 "nbformat": 4,
 "nbformat_minor": 5
}
