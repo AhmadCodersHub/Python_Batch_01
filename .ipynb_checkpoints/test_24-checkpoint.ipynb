{
 "cells": [
  {
   "cell_type": "code",
   "execution_count": 1,
   "id": "350477ea-59d3-49f3-b6b1-b56b1f87953c",
   "metadata": {},
   "outputs": [],
   "source": [
    "incoming_num = 11 # let say\n",
    "main_number = 25\n",
    "\n",
    "# print(answer)\n",
    "\n",
    "# True # if incoming number will be less than or equal to main_number else False"
   ]
  },
  {
   "cell_type": "code",
   "execution_count": 2,
   "id": "bb83b665-b1dc-40e3-b041-9284c57ef856",
   "metadata": {},
   "outputs": [
    {
     "ename": "NameError",
     "evalue": "name 'answer' is not defined",
     "output_type": "error",
     "traceback": [
      "\u001b[1;31m---------------------------------------------------------------------------\u001b[0m",
      "\u001b[1;31mNameError\u001b[0m                                 Traceback (most recent call last)",
      "Cell \u001b[1;32mIn[2], line 2\u001b[0m\n\u001b[0;32m      1\u001b[0m \u001b[38;5;241m5\u001b[39m \u001b[38;5;241m<\u001b[39m\u001b[38;5;241m=\u001b[39m \u001b[38;5;241m10\u001b[39m\n\u001b[1;32m----> 2\u001b[0m \u001b[38;5;28mprint\u001b[39m(\u001b[43manswer\u001b[49m)\n",
      "\u001b[1;31mNameError\u001b[0m: name 'answer' is not defined"
     ]
    }
   ],
   "source": [
    "5 <= 10 \n",
    "print(answer) "
   ]
  },
  {
   "cell_type": "code",
   "execution_count": 11,
   "id": "d37d2af7-a00e-4f13-ab99-609634c7fe39",
   "metadata": {},
   "outputs": [
    {
     "name": "stdout",
     "output_type": "stream",
     "text": [
      "True\n"
     ]
    }
   ],
   "source": [
    "# correct method\n",
    "answer = incoming_num <= main_number\n",
    "print(answer)"
   ]
  },
  {
   "cell_type": "code",
   "execution_count": 18,
   "id": "ed3377ab-6cc1-431e-9422-5832b4859ad7",
   "metadata": {},
   "outputs": [],
   "source": [
    "person_age = 49 \n",
    " \n",
    "# print(entry) \n",
    "# True  \n",
    "# False "
   ]
  },
  {
   "cell_type": "code",
   "execution_count": 4,
   "id": "9bd4201f-6d01-4c63-ba89-19928af75f9b",
   "metadata": {},
   "outputs": [
    {
     "name": "stdout",
     "output_type": "stream",
     "text": [
      "False\n"
     ]
    }
   ],
   "source": [
    "text = person_age >= 49\n",
    "print(text)"
   ]
  },
  {
   "cell_type": "code",
   "execution_count": 19,
   "id": "fd7b6396-79ff-41ac-bab7-3100287f01b9",
   "metadata": {},
   "outputs": [
    {
     "name": "stdout",
     "output_type": "stream",
     "text": [
      "True\n"
     ]
    }
   ],
   "source": [
    "entry = person_age >= 20 and person_age <= 50\n",
    "print(entry)"
   ]
  },
  {
   "cell_type": "code",
   "execution_count": 20,
   "id": "6698029e-0f61-4c22-b95b-537a989294a1",
   "metadata": {},
   "outputs": [
    {
     "data": {
      "text/plain": [
       "True"
      ]
     },
     "execution_count": 20,
     "metadata": {},
     "output_type": "execute_result"
    }
   ],
   "source": [
    "x = 5\n",
    "y = 6\n",
    "\n",
    "x < y"
   ]
  }
 ],
 "metadata": {
  "kernelspec": {
   "display_name": "Python 3 (ipykernel)",
   "language": "python",
   "name": "python3"
  },
  "language_info": {
   "codemirror_mode": {
    "name": "ipython",
    "version": 3
   },
   "file_extension": ".py",
   "mimetype": "text/x-python",
   "name": "python",
   "nbconvert_exporter": "python",
   "pygments_lexer": "ipython3",
   "version": "3.12.4"
  }
 },
 "nbformat": 4,
 "nbformat_minor": 5
}
