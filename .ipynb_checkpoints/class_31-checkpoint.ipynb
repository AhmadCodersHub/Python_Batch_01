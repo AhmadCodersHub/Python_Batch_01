{
 "cells": [
  {
   "cell_type": "code",
   "execution_count": 1,
   "id": "005350bc-644a-4028-9089-5b7e8ac1df76",
   "metadata": {},
   "outputs": [],
   "source": [
    "# Problem-02:\n",
    "# Create a program that takes a list of strings as input and then prints out the longest string in the list."
   ]
  },
  {
   "cell_type": "code",
   "execution_count": 8,
   "id": "83388118-f229-4d0d-800b-3a05da38e363",
   "metadata": {},
   "outputs": [
    {
     "data": {
      "text/plain": [
       "True"
      ]
     },
     "execution_count": 8,
     "metadata": {},
     "output_type": "execute_result"
    }
   ],
   "source": [
    "len('Pakistan') >= len('India')"
   ]
  },
  {
   "cell_type": "code",
   "execution_count": 13,
   "id": "e4b32943-1d34-480c-b7b0-b193bf8a5511",
   "metadata": {},
   "outputs": [
    {
     "name": "stdout",
     "output_type": "stream",
     "text": [
      "Pakistan\n"
     ]
    }
   ],
   "source": [
    "list_of_Countries = ['India','Pakistan','USA','America','Uk','UAE']\n",
    "check_item = list_of_Countries[0]\n",
    "longest_str = ''\n",
    "for country in list_of_Countries:\n",
    "    if len(country) >=  len(check_item):\n",
    "        longest_str = country\n",
    "        check_item = country\n",
    "\n",
    "print(longest_str)"
   ]
  },
  {
   "cell_type": "code",
   "execution_count": null,
   "id": "5fad061e-1c43-4a41-b47e-ca9c39528d8d",
   "metadata": {},
   "outputs": [],
   "source": []
  },
  {
   "cell_type": "code",
   "execution_count": 1,
   "id": "f59376a4-4ac1-4fec-8faa-fd9bc0dc9220",
   "metadata": {},
   "outputs": [],
   "source": [
    "# Problem-04:\n",
    "# Create a program that takes two lists as input and then prints out the common elements between the two lists."
   ]
  },
  {
   "cell_type": "code",
   "execution_count": 7,
   "id": "c4ffbc99-6588-4706-80a5-a51becba8619",
   "metadata": {},
   "outputs": [
    {
     "name": "stdout",
     "output_type": "stream",
     "text": [
      "1\n",
      "3\n",
      "5\n",
      "7\n",
      "9\n"
     ]
    }
   ],
   "source": [
    "list_1 = [1,3,5,7,9,11]\n",
    "list_2 = [1,2,3,4,5,6,7,8,9,10]\n",
    "common_elements = []\n",
    "for item in list_1:\n",
    "    if item in list_2:\n",
    "        print(item)\n",
    "        common_elements.append(item)"
   ]
  },
  {
   "cell_type": "code",
   "execution_count": 9,
   "id": "b382a37b-429d-4365-b4c6-5e2edb3e6fa9",
   "metadata": {},
   "outputs": [],
   "source": [
    "# Problem-05:\n",
    "# Create a program that takes a list of numbers as input and then prints out the sum of the even numbers in the list."
   ]
  },
  {
   "cell_type": "code",
   "execution_count": 16,
   "id": "76315590-f162-48fc-aeb7-a53911019dd2",
   "metadata": {},
   "outputs": [
    {
     "name": "stdout",
     "output_type": "stream",
     "text": [
      "30\n"
     ]
    }
   ],
   "source": [
    "list_of_numbers = [1,2,3,4,5,6,7,8,9,10]\n",
    "even_nums = []\n",
    "for num in list_of_numbers:\n",
    "    if num % 2 == 0:\n",
    "        # print(num)\n",
    "        even_nums.append(num)\n",
    "\n",
    "sum_of_even_num = sum(even_nums)\n",
    "print(sum_of_even_num)"
   ]
  }
 ],
 "metadata": {
  "kernelspec": {
   "display_name": "Python 3 (ipykernel)",
   "language": "python",
   "name": "python3"
  },
  "language_info": {
   "codemirror_mode": {
    "name": "ipython",
    "version": 3
   },
   "file_extension": ".py",
   "mimetype": "text/x-python",
   "name": "python",
   "nbconvert_exporter": "python",
   "pygments_lexer": "ipython3",
   "version": "3.12.4"
  }
 },
 "nbformat": 4,
 "nbformat_minor": 5
}
