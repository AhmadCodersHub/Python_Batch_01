{
 "cells": [
  {
   "cell_type": "markdown",
   "id": "140835eb-f707-44dd-9f14-d9e1cad09704",
   "metadata": {},
   "source": [
    "### Python - Loop Dictionaries"
   ]
  },
  {
   "cell_type": "code",
   "execution_count": 3,
   "id": "3213cb80-d572-42ca-bb7d-7c091ceedcd8",
   "metadata": {},
   "outputs": [],
   "source": [
    "personal_info = {\n",
    "    'Name': 'Ali',\n",
    "    'Class': '8th',\n",
    "    'Roll-No': 15\n",
    "}"
   ]
  },
  {
   "cell_type": "code",
   "execution_count": 6,
   "id": "8b7bb212-a00d-4be9-8d95-d5655b3213ff",
   "metadata": {},
   "outputs": [
    {
     "name": "stdout",
     "output_type": "stream",
     "text": [
      "Name\n",
      "Ali\n",
      "Class\n",
      "8th\n",
      "Roll-No\n",
      "15\n"
     ]
    }
   ],
   "source": [
    "for info in personal_info:\n",
    "    print(info)\n",
    "    print(personal_info[info])"
   ]
  },
  {
   "cell_type": "code",
   "execution_count": 10,
   "id": "79176146-abac-41c4-85a2-49763c0590c6",
   "metadata": {},
   "outputs": [
    {
     "name": "stdout",
     "output_type": "stream",
     "text": [
      "Name Ali\n",
      "Class 8th\n",
      "Roll-No 15\n"
     ]
    }
   ],
   "source": [
    "for key,value in personal_info.items():\n",
    "    print(key,value)\n",
    "    # print(personal_info[info])"
   ]
  },
  {
   "cell_type": "code",
   "execution_count": null,
   "id": "3d13bffa-38c9-4c78-a81e-e9ae15b8ac56",
   "metadata": {},
   "outputs": [],
   "source": []
  },
  {
   "cell_type": "markdown",
   "id": "a552890e-6f09-40eb-adbf-82ba57726c37",
   "metadata": {},
   "source": [
    "### Python Functions"
   ]
  },
  {
   "cell_type": "code",
   "execution_count": 25,
   "id": "3802834a-1771-4670-ba15-d28589967b4a",
   "metadata": {},
   "outputs": [],
   "source": [
    "given_str = 'ALI AND ASIF'"
   ]
  },
  {
   "cell_type": "code",
   "execution_count": 36,
   "id": "acd5b9d1-22cb-47c5-921a-7776ed126a97",
   "metadata": {
    "scrolled": true
   },
   "outputs": [
    {
     "data": {
      "text/plain": [
       "'ali and asif'"
      ]
     },
     "execution_count": 36,
     "metadata": {},
     "output_type": "execute_result"
    }
   ],
   "source": [
    "given_str.lower()"
   ]
  },
  {
   "cell_type": "code",
   "execution_count": null,
   "id": "3d5de3d4-8822-4488-9f4d-ded5c68bbfb0",
   "metadata": {},
   "outputs": [],
   "source": []
  },
  {
   "cell_type": "code",
   "execution_count": 32,
   "id": "db5bddf4-f611-4219-9d14-7b1dfc02fe30",
   "metadata": {},
   "outputs": [],
   "source": [
    "small_abc_dict  = {'a': 'A', 'b': 'B', 'c': 'C', 'd': 'D', 'e': 'E', 'f': 'F', 'g': 'G', 'h': 'H', 'i': 'I', 'j': 'J', 'k': 'K', 'l': 'L', 'm': 'M', 'n': 'N', 'o': 'O', 'p': 'P', 'q': 'Q', 'r': 'R', 's': 'S', 't': 'T', 'u': 'U', 'v': 'V', 'w': 'W', 'x': 'X', 'y': 'Y', 'z': 'Z'}\n",
    "captial_abc_dict = {'A': 'a', 'B': 'b', 'C': 'c', 'D': 'd', 'E': 'e', 'F': 'f', 'G': 'g', 'H': 'h', 'I': 'i', 'J': 'j', 'K': 'k', 'L': 'l', 'M': 'm', 'N': 'n', 'O': 'o', 'P': 'p', 'Q': 'q', 'R': 'r', 'S': 's', 'T': 't', 'U': 'u', 'V': 'v', 'W': 'w', 'X': 'x', 'Y': 'y', 'Z': 'z'}\n",
    "result = ''\n",
    "for word in given_str:\n",
    "    if word in small_abc_dict:\n",
    "        result += small_abc_dict[word]\n",
    "    elif word in captial_abc_dict:\n",
    "        result += captial_abc_dict[word]\n",
    "    else:\n",
    "        result += word"
   ]
  },
  {
   "cell_type": "code",
   "execution_count": 68,
   "id": "eb9e470f-a38c-4634-93b4-046748baca2f",
   "metadata": {},
   "outputs": [
    {
     "data": {
      "text/plain": [
       "True"
      ]
     },
     "execution_count": 68,
     "metadata": {},
     "output_type": "execute_result"
    }
   ],
   "source": [
    "'a' in small_abc_dict.keys()"
   ]
  },
  {
   "cell_type": "code",
   "execution_count": 70,
   "id": "4733bcdf-8cb2-4ceb-b721-5b90bb32ef3f",
   "metadata": {},
   "outputs": [
    {
     "data": {
      "text/plain": [
       "dict_values(['A', 'B', 'C', 'D', 'E', 'F', 'G', 'H', 'I', 'J', 'K', 'L', 'M', 'N', 'O', 'P', 'Q', 'R', 'S', 'T', 'U', 'V', 'W', 'X', 'Y', 'Z'])"
      ]
     },
     "execution_count": 70,
     "metadata": {},
     "output_type": "execute_result"
    }
   ],
   "source": [
    "small_abc_dict.values()"
   ]
  },
  {
   "cell_type": "code",
   "execution_count": 62,
   "id": "69a30305-33a4-43ce-9090-d6353f3c131b",
   "metadata": {},
   "outputs": [],
   "source": [
    "def lower_func(given_str):\n",
    "    small_abc_dict  = {'a': 'A', 'b': 'B', 'c': 'C', 'd': 'D', 'e': 'E', 'f': 'F', 'g': 'G', 'h': 'H', 'i': 'I', 'j': 'J', 'k': 'K', 'l': 'L', 'm': 'M', 'n': 'N', 'o': 'O', 'p': 'P', 'q': 'Q', 'r': 'R', 's': 'S', 't': 'T', 'u': 'U', 'v': 'V', 'w': 'W', 'x': 'X', 'y': 'Y', 'z': 'Z'}\n",
    "    captial_abc_dict = {'A': 'a', 'B': 'b', 'C': 'c', 'D': 'd', 'E': 'e', 'F': 'f', 'G': 'g', 'H': 'h', 'I': 'i', 'J': 'j', 'K': 'k', 'L': 'l', 'M': 'm', 'N': 'n', 'O': 'o', 'P': 'p', 'Q': 'q', 'R': 'r', 'S': 's', 'T': 't', 'U': 'u', 'V': 'v', 'W': 'w', 'X': 'x', 'Y': 'y', 'Z': 'z'}\n",
    "    result = ''\n",
    "    for word in given_str:\n",
    "        if word in small_abc_dict:\n",
    "            result += small_abc_dict[word]\n",
    "        elif word in captial_abc_dict:\n",
    "            result += captial_abc_dict[word]\n",
    "        else:\n",
    "            result += word\n",
    "    return result"
   ]
  },
  {
   "cell_type": "code",
   "execution_count": 58,
   "id": "074ef7a0-dd78-48ba-803f-19e388c78d71",
   "metadata": {},
   "outputs": [],
   "source": [
    "my_str = {'name':'ali'}\n",
    "# my_str.lower()"
   ]
  },
  {
   "cell_type": "code",
   "execution_count": 63,
   "id": "e6843568-6741-49b3-bf46-2685bdad7a5e",
   "metadata": {},
   "outputs": [],
   "source": [
    "result = lower_func(my_str)"
   ]
  },
  {
   "cell_type": "code",
   "execution_count": 61,
   "id": "bf49341a-361a-403c-82cd-2c0077133220",
   "metadata": {},
   "outputs": [
    {
     "name": "stdout",
     "output_type": "stream",
     "text": [
      "name\n"
     ]
    }
   ],
   "source": [
    "print(result)"
   ]
  },
  {
   "cell_type": "code",
   "execution_count": null,
   "id": "06d42c7e-4b95-4ff1-b3a3-bee9ff15d1fe",
   "metadata": {},
   "outputs": [],
   "source": []
  },
  {
   "cell_type": "code",
   "execution_count": null,
   "id": "8760c3db-c5e9-41b2-9ec1-9f2037e26eaa",
   "metadata": {},
   "outputs": [],
   "source": []
  },
  {
   "cell_type": "code",
   "execution_count": null,
   "id": "42e251fa-d804-4c2a-9077-64af7c22fa33",
   "metadata": {},
   "outputs": [],
   "source": []
  },
  {
   "cell_type": "code",
   "execution_count": null,
   "id": "b6173e38-8da7-4a21-98bd-8010fbe4a56e",
   "metadata": {},
   "outputs": [],
   "source": []
  },
  {
   "cell_type": "code",
   "execution_count": null,
   "id": "dd4a45d9-025d-44c0-9788-51e6bfd8c05c",
   "metadata": {},
   "outputs": [],
   "source": []
  },
  {
   "cell_type": "code",
   "execution_count": null,
   "id": "dfd04d09-856e-406a-9c81-f41625d2f8e5",
   "metadata": {},
   "outputs": [],
   "source": []
  },
  {
   "cell_type": "code",
   "execution_count": null,
   "id": "3ee93f80-0987-4bc4-a5db-9a6190c9b9c5",
   "metadata": {},
   "outputs": [],
   "source": []
  },
  {
   "cell_type": "code",
   "execution_count": null,
   "id": "ea6b7d01-899b-4c53-8476-3744ad0b6d11",
   "metadata": {},
   "outputs": [],
   "source": []
  },
  {
   "cell_type": "code",
   "execution_count": null,
   "id": "18bbbc05-771f-4463-8971-c2ef9858a923",
   "metadata": {},
   "outputs": [],
   "source": []
  },
  {
   "cell_type": "code",
   "execution_count": null,
   "id": "1c6b3686-258f-452c-a42f-32b1977c4493",
   "metadata": {},
   "outputs": [],
   "source": []
  },
  {
   "cell_type": "code",
   "execution_count": null,
   "id": "eb556915-aee7-419f-9c88-582c793b1a38",
   "metadata": {},
   "outputs": [],
   "source": []
  },
  {
   "cell_type": "code",
   "execution_count": null,
   "id": "d6423841-4411-4b0b-b2a1-62fbb1ddd096",
   "metadata": {},
   "outputs": [],
   "source": []
  },
  {
   "cell_type": "code",
   "execution_count": null,
   "id": "fa5b742b-7656-4c89-91ed-ede036dfb8ae",
   "metadata": {},
   "outputs": [],
   "source": []
  },
  {
   "cell_type": "code",
   "execution_count": null,
   "id": "39c862b4-f46b-43f3-b079-d3117878a1f1",
   "metadata": {},
   "outputs": [],
   "source": []
  },
  {
   "cell_type": "code",
   "execution_count": null,
   "id": "78193433-5f8d-4e4f-9d96-964f038095af",
   "metadata": {},
   "outputs": [],
   "source": []
  },
  {
   "cell_type": "code",
   "execution_count": null,
   "id": "340f58e5-1888-4d39-9ffa-76370e382d01",
   "metadata": {},
   "outputs": [],
   "source": []
  },
  {
   "cell_type": "code",
   "execution_count": null,
   "id": "b9d0d8ed-5f2b-4f3a-b61e-f58542803c14",
   "metadata": {},
   "outputs": [],
   "source": []
  },
  {
   "cell_type": "code",
   "execution_count": null,
   "id": "5ef4b12a-9ff1-4d76-ad00-ead0e90f624c",
   "metadata": {},
   "outputs": [],
   "source": []
  },
  {
   "cell_type": "code",
   "execution_count": null,
   "id": "d36f1808-d0f7-4fe0-aeff-692c1597b792",
   "metadata": {},
   "outputs": [],
   "source": []
  },
  {
   "cell_type": "code",
   "execution_count": null,
   "id": "461b298c-9288-4e17-acb3-62f9b8df0c93",
   "metadata": {},
   "outputs": [],
   "source": []
  },
  {
   "cell_type": "code",
   "execution_count": null,
   "id": "24411cb3-6d41-4e06-bd74-42469c99171b",
   "metadata": {},
   "outputs": [],
   "source": []
  },
  {
   "cell_type": "code",
   "execution_count": null,
   "id": "6a921784-86a3-4817-b5cb-b4f7e0de4be2",
   "metadata": {},
   "outputs": [],
   "source": []
  },
  {
   "cell_type": "code",
   "execution_count": null,
   "id": "35d10600-a65d-435f-9279-497b680d9200",
   "metadata": {},
   "outputs": [],
   "source": []
  },
  {
   "cell_type": "code",
   "execution_count": null,
   "id": "65361a6b-b24c-442f-9681-e1308966944a",
   "metadata": {},
   "outputs": [],
   "source": []
  },
  {
   "cell_type": "code",
   "execution_count": null,
   "id": "36816605-8110-4a4f-b5ac-9d394bdf71ea",
   "metadata": {},
   "outputs": [],
   "source": []
  },
  {
   "cell_type": "code",
   "execution_count": null,
   "id": "3b656fa4-7d86-40c7-85f3-76a67b54b1a4",
   "metadata": {},
   "outputs": [],
   "source": []
  },
  {
   "cell_type": "code",
   "execution_count": null,
   "id": "59e7130b-cfa2-4614-b862-0ce2dfaf66c7",
   "metadata": {},
   "outputs": [],
   "source": []
  },
  {
   "cell_type": "code",
   "execution_count": null,
   "id": "2afde2dd-4b81-49d1-bb66-fece979363d9",
   "metadata": {},
   "outputs": [],
   "source": []
  },
  {
   "cell_type": "code",
   "execution_count": null,
   "id": "d5893758-14f8-472f-81d3-fa5dd9abc52f",
   "metadata": {},
   "outputs": [],
   "source": []
  },
  {
   "cell_type": "code",
   "execution_count": null,
   "id": "d8d178ff-1215-4815-9657-3c8df0b4ff6d",
   "metadata": {},
   "outputs": [],
   "source": []
  },
  {
   "cell_type": "code",
   "execution_count": null,
   "id": "baca3ac6-45dc-456b-92c4-10ccffea9eee",
   "metadata": {},
   "outputs": [],
   "source": []
  },
  {
   "cell_type": "code",
   "execution_count": null,
   "id": "8371d9a7-8d73-4170-933e-e66a0a97a368",
   "metadata": {},
   "outputs": [],
   "source": []
  },
  {
   "cell_type": "code",
   "execution_count": null,
   "id": "1b79bf43-e62d-4a6d-9473-ed8941524182",
   "metadata": {},
   "outputs": [],
   "source": []
  },
  {
   "cell_type": "code",
   "execution_count": null,
   "id": "623cd57f-6390-4eba-ad4c-51c4ac7932e0",
   "metadata": {},
   "outputs": [],
   "source": []
  },
  {
   "cell_type": "code",
   "execution_count": null,
   "id": "4d8586a4-47dd-4dd5-810a-00f42658a423",
   "metadata": {},
   "outputs": [],
   "source": []
  },
  {
   "cell_type": "code",
   "execution_count": null,
   "id": "ef35f001-8663-4f0e-84e3-a45ae8941a8a",
   "metadata": {},
   "outputs": [],
   "source": []
  },
  {
   "cell_type": "code",
   "execution_count": null,
   "id": "2336188e-e63f-47f7-95d9-07da54002b42",
   "metadata": {},
   "outputs": [],
   "source": []
  },
  {
   "cell_type": "code",
   "execution_count": null,
   "id": "129a0e0b-437e-4ed0-b3c9-e31eeb74fa25",
   "metadata": {},
   "outputs": [],
   "source": []
  },
  {
   "cell_type": "code",
   "execution_count": null,
   "id": "847218eb-7869-4dd2-b80c-243eed8b22fb",
   "metadata": {},
   "outputs": [],
   "source": []
  },
  {
   "cell_type": "code",
   "execution_count": null,
   "id": "f9f9d50a-3bdc-488f-9d6e-65163d35fd3e",
   "metadata": {},
   "outputs": [],
   "source": []
  },
  {
   "cell_type": "code",
   "execution_count": null,
   "id": "82ededbb-dfcf-4f81-9471-ced254edf708",
   "metadata": {},
   "outputs": [],
   "source": []
  },
  {
   "cell_type": "code",
   "execution_count": null,
   "id": "9330e990-911d-44c7-b4c6-d2a0789724e3",
   "metadata": {},
   "outputs": [],
   "source": []
  },
  {
   "cell_type": "code",
   "execution_count": null,
   "id": "6c07d190-0d23-4895-9c8c-9ffbcd3090b2",
   "metadata": {},
   "outputs": [],
   "source": []
  },
  {
   "cell_type": "code",
   "execution_count": null,
   "id": "ffee9dca-ed8c-4ebd-bd4c-76d77edee044",
   "metadata": {},
   "outputs": [],
   "source": []
  },
  {
   "cell_type": "code",
   "execution_count": null,
   "id": "f264ada1-aac1-48f2-9e6e-73ce92ee15bc",
   "metadata": {},
   "outputs": [],
   "source": []
  },
  {
   "cell_type": "code",
   "execution_count": null,
   "id": "fbfcba82-cc57-4cad-8304-be6d238ec36e",
   "metadata": {},
   "outputs": [],
   "source": []
  },
  {
   "cell_type": "code",
   "execution_count": null,
   "id": "49f718d1-d2c9-4e93-b1f1-8dc782f4cda4",
   "metadata": {},
   "outputs": [],
   "source": []
  },
  {
   "cell_type": "code",
   "execution_count": null,
   "id": "15c2d9fa-1bcb-4621-90c9-a82e67916a14",
   "metadata": {},
   "outputs": [],
   "source": []
  },
  {
   "cell_type": "code",
   "execution_count": null,
   "id": "188f9704-751e-4be8-b6db-41b7b70ca940",
   "metadata": {},
   "outputs": [],
   "source": []
  },
  {
   "cell_type": "code",
   "execution_count": null,
   "id": "778b4d3c-9c15-4654-be81-1e6785aaed1e",
   "metadata": {},
   "outputs": [],
   "source": []
  },
  {
   "cell_type": "code",
   "execution_count": null,
   "id": "6e7e24f1-3c20-4ab6-8a75-c743cb3f6d67",
   "metadata": {},
   "outputs": [],
   "source": []
  },
  {
   "cell_type": "code",
   "execution_count": 38,
   "id": "50b877c8-3aa8-45dc-b04d-d8d5924b0aa2",
   "metadata": {},
   "outputs": [
    {
     "data": {
      "text/plain": [
       "'ali and asif'"
      ]
     },
     "execution_count": 38,
     "metadata": {},
     "output_type": "execute_result"
    }
   ],
   "source": [
    "lower_func(given_str)"
   ]
  }
 ],
 "metadata": {
  "kernelspec": {
   "display_name": "Python 3 (ipykernel)",
   "language": "python",
   "name": "python3"
  },
  "language_info": {
   "codemirror_mode": {
    "name": "ipython",
    "version": 3
   },
   "file_extension": ".py",
   "mimetype": "text/x-python",
   "name": "python",
   "nbconvert_exporter": "python",
   "pygments_lexer": "ipython3",
   "version": "3.12.4"
  }
 },
 "nbformat": 4,
 "nbformat_minor": 5
}
