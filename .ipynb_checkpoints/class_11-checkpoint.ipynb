{
 "cells": [
  {
   "cell_type": "code",
   "execution_count": 5,
   "id": "fb6a8ecf-f055-482d-be3d-5ab4b5624a34",
   "metadata": {},
   "outputs": [],
   "source": [
    "# list_of_numbers = [1,2,3,4,5,6,7,8]\n",
    "# print(list_of_numbers(6))\n",
    "# print(list_of_numbers[7])\n",
    "# print(list_of_numbers[-1])"
   ]
  },
  {
   "cell_type": "markdown",
   "id": "43eb01b4-b11e-41b3-bdb8-7cefe6946a14",
   "metadata": {},
   "source": [
    "### Python - Slicing Strings"
   ]
  },
  {
   "cell_type": "code",
   "execution_count": 41,
   "id": "3792aedf-1b52-453f-b3c3-3c591804b094",
   "metadata": {},
   "outputs": [],
   "source": [
    "text = 'this is a car.'"
   ]
  },
  {
   "cell_type": "code",
   "execution_count": 49,
   "id": "03b71689-d1f5-4de3-a34c-eee66f3f135d",
   "metadata": {},
   "outputs": [
    {
     "data": {
      "text/plain": [
       "'this'"
      ]
     },
     "execution_count": 49,
     "metadata": {},
     "output_type": "execute_result"
    }
   ],
   "source": [
    "word = text[0:4]\n",
    "word"
   ]
  },
  {
   "cell_type": "code",
   "execution_count": 44,
   "id": "1004bf04-9e7d-4743-8f6c-2fcc441da6ea",
   "metadata": {},
   "outputs": [
    {
     "data": {
      "text/plain": [
       "[0, 2, 4, 6, 8, 10]"
      ]
     },
     "execution_count": 44,
     "metadata": {},
     "output_type": "execute_result"
    }
   ],
   "source": [
    "list(range(0,12,2))"
   ]
  },
  {
   "cell_type": "code",
   "execution_count": 43,
   "id": "199e5e0d-6c3a-4518-a521-b54dd27df996",
   "metadata": {},
   "outputs": [],
   "source": [
    "# list_of_numbers = [1,2,3,4,5,6,7,8]\n",
    "# list_of_numbers[0:5]"
   ]
  }
 ],
 "metadata": {
  "kernelspec": {
   "display_name": "Python 3 (ipykernel)",
   "language": "python",
   "name": "python3"
  },
  "language_info": {
   "codemirror_mode": {
    "name": "ipython",
    "version": 3
   },
   "file_extension": ".py",
   "mimetype": "text/x-python",
   "name": "python",
   "nbconvert_exporter": "python",
   "pygments_lexer": "ipython3",
   "version": "3.12.4"
  }
 },
 "nbformat": 4,
 "nbformat_minor": 5
}
