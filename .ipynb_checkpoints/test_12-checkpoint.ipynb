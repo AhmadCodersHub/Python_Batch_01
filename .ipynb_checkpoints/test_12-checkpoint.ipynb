{
 "cells": [
  {
   "cell_type": "code",
   "execution_count": null,
   "id": "6889f824-96a8-465c-8800-5aaaccdfe840",
   "metadata": {},
   "outputs": [],
   "source": [
    "# start:stop:step"
   ]
  },
  {
   "cell_type": "code",
   "execution_count": 1,
   "id": "be61a70c-290b-49df-9e65-d2e2a7270f22",
   "metadata": {},
   "outputs": [],
   "source": [
    "random_text = 'Hello! How are you?'"
   ]
  },
  {
   "cell_type": "code",
   "execution_count": 8,
   "id": "54863e1b-ec25-4ab9-bf60-560b5f219f0e",
   "metadata": {},
   "outputs": [
    {
     "name": "stdout",
     "output_type": "stream",
     "text": [
      "\n"
     ]
    }
   ],
   "source": [
    "#areeba\n",
    "\n",
    "# start,stop,step\n",
    "print(random_text[-5:-8])"
   ]
  },
  {
   "cell_type": "code",
   "execution_count": 3,
   "id": "093d7540-5963-493e-a9c4-7f406e28885c",
   "metadata": {},
   "outputs": [
    {
     "name": "stdout",
     "output_type": "stream",
     "text": [
      "are\n"
     ]
    }
   ],
   "source": [
    "# ayesha\n",
    "\n",
    "# start,step,stop\n",
    "print(random_text[-8:-5])"
   ]
  },
  {
   "cell_type": "code",
   "execution_count": 9,
   "id": "c9f6ca20-c39a-4e46-928d-7a116ad8b2f8",
   "metadata": {},
   "outputs": [
    {
     "name": "stdout",
     "output_type": "stream",
     "text": [
      "\n"
     ]
    }
   ],
   "source": [
    "# areeba\n",
    "\n",
    "print(random_text[-8:-9])"
   ]
  },
  {
   "cell_type": "code",
   "execution_count": 10,
   "id": "a1b431a2-5526-4e2f-aecc-efad13fff2df",
   "metadata": {},
   "outputs": [
    {
     "name": "stdout",
     "output_type": "stream",
     "text": [
      "are you?\n"
     ]
    }
   ],
   "source": [
    "# ayesha\n",
    "\n",
    "print(random_text[-8:])"
   ]
  },
  {
   "cell_type": "code",
   "execution_count": null,
   "id": "1f2cfb35-f39d-445e-96cb-7b75462b74ab",
   "metadata": {},
   "outputs": [],
   "source": []
  },
  {
   "cell_type": "code",
   "execution_count": 11,
   "id": "d1494767-3e6a-4fac-9422-0026e30ce744",
   "metadata": {},
   "outputs": [
    {
     "name": "stdout",
     "output_type": "stream",
     "text": [
      "50\n"
     ]
    }
   ],
   "source": [
    "x = 50\n",
    "print(x)"
   ]
  },
  {
   "cell_type": "code",
   "execution_count": 12,
   "id": "e3a94da6-bbfb-409d-b74f-1311794d11a9",
   "metadata": {},
   "outputs": [
    {
     "name": "stdout",
     "output_type": "stream",
     "text": [
      "60\n"
     ]
    }
   ],
   "source": [
    "y = 60\n",
    "print(y)"
   ]
  },
  {
   "cell_type": "code",
   "execution_count": 14,
   "id": "ac1c158f-9d46-4759-998e-8a46c0479a8d",
   "metadata": {},
   "outputs": [
    {
     "name": "stdout",
     "output_type": "stream",
     "text": [
      "89\n"
     ]
    }
   ],
   "source": [
    "a = 89\n",
    "print(a)"
   ]
  },
  {
   "cell_type": "code",
   "execution_count": null,
   "id": "d36ee903-101f-4de8-a594-4734983b6196",
   "metadata": {},
   "outputs": [],
   "source": []
  },
  {
   "cell_type": "code",
   "execution_count": 13,
   "id": "c94ab592-4575-4e50-a31c-0e9f226f00bf",
   "metadata": {},
   "outputs": [
    {
     "name": "stdout",
     "output_type": "stream",
     "text": [
      "10\n"
     ]
    }
   ],
   "source": [
    "x = 50\n",
    "y = 60\n",
    "z = y - x\n",
    "print(z)"
   ]
  }
 ],
 "metadata": {
  "kernelspec": {
   "display_name": "Python 3 (ipykernel)",
   "language": "python",
   "name": "python3"
  },
  "language_info": {
   "codemirror_mode": {
    "name": "ipython",
    "version": 3
   },
   "file_extension": ".py",
   "mimetype": "text/x-python",
   "name": "python",
   "nbconvert_exporter": "python",
   "pygments_lexer": "ipython3",
   "version": "3.12.4"
  }
 },
 "nbformat": 4,
 "nbformat_minor": 5
}
