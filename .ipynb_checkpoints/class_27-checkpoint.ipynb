{
 "cells": [
  {
   "cell_type": "markdown",
   "id": "46b411fa-0498-4112-bf63-6a0d9cc0685e",
   "metadata": {},
   "source": [
    "#### Python - Access List Items"
   ]
  },
  {
   "cell_type": "code",
   "execution_count": 5,
   "id": "0e8df6b1-85de-4d12-b82a-4fe0f1fe5e5b",
   "metadata": {},
   "outputs": [
    {
     "name": "stdout",
     "output_type": "stream",
     "text": [
      "[0, 2, 4, 6, 8]\n"
     ]
    }
   ],
   "source": [
    "# positive indexing or accessing\n",
    "\n",
    "list_1 = [0,1,2,3,4,5,6,7,8,9]\n",
    "\n",
    "even_numbers = list_1[0::2]\n",
    "print(even_numbers)"
   ]
  },
  {
   "cell_type": "code",
   "execution_count": 7,
   "id": "caf451cd-4d8b-45f9-ad16-c11e65633fd3",
   "metadata": {},
   "outputs": [
    {
     "data": {
      "text/plain": [
       "[9, 8, 7, 6, 5, 4, 3, 2, 1, 0]"
      ]
     },
     "execution_count": 7,
     "metadata": {},
     "output_type": "execute_result"
    }
   ],
   "source": [
    "# negative indexing or accessing\n",
    "\n",
    "list_1 = [0,1,2,3,4,5,6,7,8,9]\n",
    "list_1[::-1]\n"
   ]
  },
  {
   "cell_type": "markdown",
   "id": "2f39a061-419b-453e-a6fe-76dac67778ba",
   "metadata": {},
   "source": [
    "### Python - Change List Items"
   ]
  },
  {
   "cell_type": "code",
   "execution_count": 10,
   "id": "28562916-1803-405f-9d60-949934472051",
   "metadata": {},
   "outputs": [
    {
     "name": "stdout",
     "output_type": "stream",
     "text": [
      "['orange', 'banana', 'cherry']\n"
     ]
    }
   ],
   "source": [
    "thislist = [\"apple\", \"banana\", \"cherry\"]\n",
    "\n",
    "thislist[0] = 'orange'\n",
    "\n",
    "print(thislist)"
   ]
  },
  {
   "cell_type": "markdown",
   "id": "b4a2e215-1a27-41f1-81da-ac0115d57aec",
   "metadata": {},
   "source": [
    "### Python - Add List Items"
   ]
  },
  {
   "cell_type": "code",
   "execution_count": 11,
   "id": "bdd431d7-0e92-4f03-af32-8388a361cae6",
   "metadata": {},
   "outputs": [],
   "source": [
    "# insert()"
   ]
  },
  {
   "cell_type": "code",
   "execution_count": 59,
   "id": "1af2b8cb-be62-4350-861b-b7018942e46c",
   "metadata": {},
   "outputs": [],
   "source": [
    "thislist = [\"apple\", \"cherry\",'mango']"
   ]
  },
  {
   "cell_type": "code",
   "execution_count": 60,
   "id": "24abbbe6-5b40-439e-b3e2-4bb47a79e6f9",
   "metadata": {},
   "outputs": [
    {
     "name": "stdout",
     "output_type": "stream",
     "text": [
      "['apple', 'banana', 'cherry', 'mango']\n"
     ]
    }
   ],
   "source": [
    "thislist.insert(1,\"banana\")\n",
    "\n",
    "print(thislist)"
   ]
  },
  {
   "cell_type": "code",
   "execution_count": null,
   "id": "470c3883-937f-4fd0-b52c-ab9100116f59",
   "metadata": {},
   "outputs": [],
   "source": []
  },
  {
   "cell_type": "code",
   "execution_count": 17,
   "id": "fb0d211f-d852-48e3-934b-c881fc10e380",
   "metadata": {},
   "outputs": [],
   "source": [
    "# append()"
   ]
  },
  {
   "cell_type": "code",
   "execution_count": 33,
   "id": "06b43124-3518-4972-9579-7348666932c6",
   "metadata": {},
   "outputs": [],
   "source": [
    "thislist = [\"apple\", \"banana\", \"cherry\"]"
   ]
  },
  {
   "cell_type": "code",
   "execution_count": 34,
   "id": "72941be6-89f5-49be-835d-e4fc1283f821",
   "metadata": {},
   "outputs": [
    {
     "name": "stdout",
     "output_type": "stream",
     "text": [
      "['apple', 'banana', 'cherry', 'orange']\n"
     ]
    }
   ],
   "source": [
    "thislist.append('orange')\n",
    "print(thislist)"
   ]
  },
  {
   "cell_type": "code",
   "execution_count": null,
   "id": "79141782-c36d-4fe9-8759-b0c950f4b26f",
   "metadata": {},
   "outputs": [],
   "source": [
    "# extend()"
   ]
  },
  {
   "cell_type": "code",
   "execution_count": 50,
   "id": "e6cfd586-7bf3-4238-8416-2f4ad267ac34",
   "metadata": {},
   "outputs": [],
   "source": [
    "list_1 = [1,2,3,4,5]\n",
    "list_2 = [6,7,8,9,10]\n"
   ]
  },
  {
   "cell_type": "code",
   "execution_count": 51,
   "id": "edb35821-d0ad-4014-bc40-7cfdd824512f",
   "metadata": {},
   "outputs": [
    {
     "name": "stdout",
     "output_type": "stream",
     "text": [
      "[1, 2, 3, 4, 5, 6, 7, 8, 9, 10]\n"
     ]
    }
   ],
   "source": [
    "list_1.extend(list_2)\n",
    "print(list_1)"
   ]
  },
  {
   "cell_type": "code",
   "execution_count": 47,
   "id": "03d2e8b5-f30b-4f84-93c2-7a919f75f53c",
   "metadata": {},
   "outputs": [
    {
     "name": "stdout",
     "output_type": "stream",
     "text": [
      "[6, 7, 8, 9, 10]\n"
     ]
    }
   ],
   "source": [
    "print(list_2)"
   ]
  },
  {
   "cell_type": "code",
   "execution_count": 46,
   "id": "d4028642-5ce5-4eed-9a63-7d9a665f5302",
   "metadata": {},
   "outputs": [
    {
     "name": "stdout",
     "output_type": "stream",
     "text": [
      "[1, 2, 3, 4, 5, 6, 7, 8, 9, 10]\n"
     ]
    }
   ],
   "source": [
    "list_3 = list_1 + list_2\n",
    "print(list_3)"
   ]
  }
 ],
 "metadata": {
  "kernelspec": {
   "display_name": "Python 3 (ipykernel)",
   "language": "python",
   "name": "python3"
  },
  "language_info": {
   "codemirror_mode": {
    "name": "ipython",
    "version": 3
   },
   "file_extension": ".py",
   "mimetype": "text/x-python",
   "name": "python",
   "nbconvert_exporter": "python",
   "pygments_lexer": "ipython3",
   "version": "3.12.4"
  }
 },
 "nbformat": 4,
 "nbformat_minor": 5
}
