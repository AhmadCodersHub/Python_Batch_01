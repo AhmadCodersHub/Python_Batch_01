{
 "cells": [
  {
   "cell_type": "code",
   "execution_count": 47,
   "id": "3095151b-df79-4b6b-b585-3b995081e912",
   "metadata": {},
   "outputs": [],
   "source": [
    "personal_info = {\n",
    "    'Name':'Ali',\n",
    "    'Class':'8th',\n",
    "    'Roll No':12,\n",
    "    'Address':'Lahore' \n",
    "}"
   ]
  },
  {
   "cell_type": "code",
   "execution_count": 3,
   "id": "3e2840f8-b68f-4cd2-8760-3b17dfa0d9ab",
   "metadata": {},
   "outputs": [
    {
     "name": "stdout",
     "output_type": "stream",
     "text": [
      "Lahore\n"
     ]
    }
   ],
   "source": [
    "address = personal_info['Address']\n",
    "print(address)"
   ]
  },
  {
   "cell_type": "code",
   "execution_count": 6,
   "id": "1cbd9685-a7c0-4c8b-b86b-c9c495daa80a",
   "metadata": {},
   "outputs": [
    {
     "name": "stdout",
     "output_type": "stream",
     "text": [
      "Lahore\n"
     ]
    }
   ],
   "source": [
    "address = personal_info.get('Address','')\n",
    "print(address)"
   ]
  },
  {
   "cell_type": "code",
   "execution_count": 8,
   "id": "3dc8b7a2-42a2-412f-91a7-ec38623dd049",
   "metadata": {},
   "outputs": [
    {
     "name": "stdout",
     "output_type": "stream",
     "text": [
      "['Ali', '8th', 12, 'Lahore']\n"
     ]
    }
   ],
   "source": [
    "personal_info_values = list(personal_info.values())\n",
    "print(personal_info_values)"
   ]
  },
  {
   "cell_type": "code",
   "execution_count": null,
   "id": "d24a64ee-65c6-4196-bef9-2fd83afe0665",
   "metadata": {},
   "outputs": [],
   "source": []
  },
  {
   "cell_type": "code",
   "execution_count": 9,
   "id": "244c0a80-96be-4790-acfc-6f1df503f217",
   "metadata": {},
   "outputs": [],
   "source": [
    "# Change Values # update "
   ]
  },
  {
   "cell_type": "code",
   "execution_count": 12,
   "id": "baac4641-f284-4c3e-8a3f-5568139487d0",
   "metadata": {},
   "outputs": [],
   "source": [
    "personal_info['Address'] = 'Fort Abbas'"
   ]
  },
  {
   "cell_type": "code",
   "execution_count": 13,
   "id": "6ac9c0fa-4cd9-4f4b-ad91-0eae9dd73e52",
   "metadata": {},
   "outputs": [
    {
     "name": "stdout",
     "output_type": "stream",
     "text": [
      "{'Name': 'Ali', 'Class': '8th', 'Roll No': 12, 'Address': 'Fort Abbas'}\n"
     ]
    }
   ],
   "source": [
    "print(personal_info)"
   ]
  },
  {
   "cell_type": "code",
   "execution_count": 15,
   "id": "2ded8fe8-a9ca-419e-a84a-38463e9b7675",
   "metadata": {},
   "outputs": [],
   "source": [
    "personal_info['Father Name'] = 'Hamza'"
   ]
  },
  {
   "cell_type": "code",
   "execution_count": 16,
   "id": "114f7313-fbb5-4012-8d53-488adca83767",
   "metadata": {},
   "outputs": [
    {
     "name": "stdout",
     "output_type": "stream",
     "text": [
      "{'Name': 'Ali', 'Class': '8th', 'Roll No': 12, 'Address': 'Fort Abbas', 'Father Name': 'Hamza'}\n"
     ]
    }
   ],
   "source": [
    "print(personal_info)"
   ]
  },
  {
   "cell_type": "code",
   "execution_count": null,
   "id": "d0268b1a-c5d2-48c4-9cb6-39a356488b38",
   "metadata": {},
   "outputs": [],
   "source": []
  },
  {
   "cell_type": "code",
   "execution_count": 17,
   "id": "6625033a-4c50-444a-a333-b023c973e0d5",
   "metadata": {},
   "outputs": [],
   "source": [
    "# .update() "
   ]
  },
  {
   "cell_type": "code",
   "execution_count": 48,
   "id": "f2327537-7d6b-4469-b6e2-0becc1d8e0fd",
   "metadata": {},
   "outputs": [],
   "source": [
    "personal_info.update({'Subject':'Computer'}) "
   ]
  },
  {
   "cell_type": "code",
   "execution_count": 49,
   "id": "adeebcb9-24d5-43a3-bf2c-2a49dbc18768",
   "metadata": {},
   "outputs": [
    {
     "name": "stdout",
     "output_type": "stream",
     "text": [
      "{'Name': 'Ali', 'Class': '8th', 'Roll No': 12, 'Address': 'Lahore', 'Subject': 'Computer'}\n"
     ]
    }
   ],
   "source": [
    "print(personal_info)"
   ]
  },
  {
   "cell_type": "code",
   "execution_count": 55,
   "id": "6ff1bff4-dec8-43ca-82f3-117ea1892f89",
   "metadata": {},
   "outputs": [],
   "source": [
    "subject_value = {'Food':'Rice'}\n",
    "personal_info.update(subject_value)"
   ]
  },
  {
   "cell_type": "code",
   "execution_count": 56,
   "id": "e6cd9bbf-7b43-45c5-a7a7-ce6f15235403",
   "metadata": {},
   "outputs": [
    {
     "name": "stdout",
     "output_type": "stream",
     "text": [
      "{'Name': 'Ali', 'Class': '8th', 'Roll No': 12, 'Address': 'Lahore', 'Subject': 'Computer', 'Food': 'Rice'}\n"
     ]
    }
   ],
   "source": [
    "print(personal_info)"
   ]
  },
  {
   "cell_type": "code",
   "execution_count": null,
   "id": "d63d355f-c289-4005-9d6b-ab33fc13d1e1",
   "metadata": {},
   "outputs": [],
   "source": []
  },
  {
   "cell_type": "markdown",
   "id": "c6197aef-d9a4-41a8-a11a-99e93f4e9284",
   "metadata": {},
   "source": [
    "#### Python - Remove Dictionary Items"
   ]
  },
  {
   "cell_type": "code",
   "execution_count": 22,
   "id": "e3efd243-6de8-48e1-bd83-ab5acd345b78",
   "metadata": {},
   "outputs": [],
   "source": [
    "# .pop()\n",
    "# .popitem()\n",
    "# .clear()\n",
    "# del with access item \n",
    "# del # delete the complete dict"
   ]
  },
  {
   "cell_type": "code",
   "execution_count": 42,
   "id": "7a63cfdd-be40-4c5c-89c1-72529b409139",
   "metadata": {},
   "outputs": [],
   "source": [
    "personal_info = {\n",
    "    'Name':'Ali',\n",
    "    'Class':'8th',\n",
    "    'Roll No':12,\n",
    "    'Address':'Lahore' \n",
    "}"
   ]
  },
  {
   "cell_type": "code",
   "execution_count": 25,
   "id": "7944342f-b843-4961-8b03-7306e6cb5f89",
   "metadata": {},
   "outputs": [
    {
     "data": {
      "text/plain": [
       "'Lahore'"
      ]
     },
     "execution_count": 25,
     "metadata": {},
     "output_type": "execute_result"
    }
   ],
   "source": [
    "personal_info.pop('Address')"
   ]
  },
  {
   "cell_type": "code",
   "execution_count": 26,
   "id": "27d8091b-ff82-41b4-8b48-61268f1c4cd6",
   "metadata": {},
   "outputs": [
    {
     "name": "stdout",
     "output_type": "stream",
     "text": [
      "{'Name': 'Ali', 'Class': '8th', 'Roll No': 12}\n"
     ]
    }
   ],
   "source": [
    "print(personal_info)"
   ]
  },
  {
   "cell_type": "code",
   "execution_count": null,
   "id": "3f152506-2ef5-449d-94c2-b07a05620cf1",
   "metadata": {},
   "outputs": [],
   "source": [
    "# .popitem()"
   ]
  },
  {
   "cell_type": "code",
   "execution_count": 34,
   "id": "ccadcf35-b7d5-4c41-9263-0f2a8593c883",
   "metadata": {
    "scrolled": true
   },
   "outputs": [
    {
     "data": {
      "text/plain": [
       "('Roll No', 12)"
      ]
     },
     "execution_count": 34,
     "metadata": {},
     "output_type": "execute_result"
    }
   ],
   "source": [
    "personal_info.popitem()"
   ]
  },
  {
   "cell_type": "code",
   "execution_count": 35,
   "id": "3103e5bf-af63-47e7-909f-795f7c20293b",
   "metadata": {},
   "outputs": [
    {
     "name": "stdout",
     "output_type": "stream",
     "text": [
      "{'Name': 'Ali', 'Class': '8th'}\n"
     ]
    }
   ],
   "source": [
    "print(personal_info)"
   ]
  },
  {
   "cell_type": "code",
   "execution_count": 36,
   "id": "34e1ef59-31c6-4d92-83bf-9e16a9ab8caf",
   "metadata": {},
   "outputs": [],
   "source": [
    "# del with access item "
   ]
  },
  {
   "cell_type": "code",
   "execution_count": 38,
   "id": "30f4b76f-339a-497d-b9b7-43fd9b77a32f",
   "metadata": {},
   "outputs": [],
   "source": [
    "del personal_info['Class']"
   ]
  },
  {
   "cell_type": "code",
   "execution_count": 39,
   "id": "a34c515d-60b3-450f-a608-3f607888f9f5",
   "metadata": {},
   "outputs": [
    {
     "name": "stdout",
     "output_type": "stream",
     "text": [
      "{'Name': 'Ali'}\n"
     ]
    }
   ],
   "source": [
    "print(personal_info)"
   ]
  },
  {
   "cell_type": "code",
   "execution_count": 40,
   "id": "5abea819-4748-4b73-9695-f18bc37dc904",
   "metadata": {},
   "outputs": [],
   "source": [
    "del personal_info"
   ]
  },
  {
   "cell_type": "code",
   "execution_count": 43,
   "id": "0027e4de-0dbf-42e8-a1cb-2fcf882b0b3c",
   "metadata": {},
   "outputs": [],
   "source": [
    "# .clear()"
   ]
  },
  {
   "cell_type": "code",
   "execution_count": 44,
   "id": "d09719cb-5e55-4245-9f25-f1ee44d5dd28",
   "metadata": {},
   "outputs": [
    {
     "name": "stdout",
     "output_type": "stream",
     "text": [
      "{}\n"
     ]
    }
   ],
   "source": [
    "personal_info.clear()\n",
    "print(personal_info)"
   ]
  }
 ],
 "metadata": {
  "kernelspec": {
   "display_name": "Python 3 (ipykernel)",
   "language": "python",
   "name": "python3"
  },
  "language_info": {
   "codemirror_mode": {
    "name": "ipython",
    "version": 3
   },
   "file_extension": ".py",
   "mimetype": "text/x-python",
   "name": "python",
   "nbconvert_exporter": "python",
   "pygments_lexer": "ipython3",
   "version": "3.12.4"
  }
 },
 "nbformat": 4,
 "nbformat_minor": 5
}
