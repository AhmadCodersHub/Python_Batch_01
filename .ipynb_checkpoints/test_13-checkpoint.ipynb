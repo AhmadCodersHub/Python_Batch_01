{
 "cells": [
  {
   "cell_type": "code",
   "execution_count": 6,
   "id": "14bf5a65-0184-4cd4-9997-29e2900d44e6",
   "metadata": {},
   "outputs": [],
   "source": [
    "text = 'this is a table.'"
   ]
  },
  {
   "cell_type": "code",
   "execution_count": null,
   "id": "c3643f52-93fb-4e13-8f8f-f71f6d57d778",
   "metadata": {},
   "outputs": [],
   "source": [
    "# Table"
   ]
  },
  {
   "cell_type": "code",
   "execution_count": 4,
   "id": "55e0f8ee-cd89-470b-9d76-76bcc50ed8fb",
   "metadata": {},
   "outputs": [
    {
     "ename": "SyntaxError",
     "evalue": "cannot assign to function call here. Maybe you meant '==' instead of '='? (1516252141.py, line 2)",
     "output_type": "error",
     "traceback": [
      "\u001b[1;36m  Cell \u001b[1;32mIn[4], line 2\u001b[1;36m\u001b[0m\n\u001b[1;33m    print(upper_name) = name.upper()\u001b[0m\n\u001b[1;37m    ^\u001b[0m\n\u001b[1;31mSyntaxError\u001b[0m\u001b[1;31m:\u001b[0m cannot assign to function call here. Maybe you meant '==' instead of '='?\n"
     ]
    }
   ],
   "source": [
    "# areeba\n",
    "print(upper_name) = name.upper()"
   ]
  },
  {
   "cell_type": "code",
   "execution_count": 5,
   "id": "ed40a289-3eae-4b82-a1cd-1d9f85c81c75",
   "metadata": {},
   "outputs": [
    {
     "name": "stdout",
     "output_type": "stream",
     "text": [
      "This Is A Table.\n"
     ]
    }
   ],
   "source": [
    "# ayesha\n",
    "print(text.title())"
   ]
  },
  {
   "cell_type": "code",
   "execution_count": 9,
   "id": "d68061ce-d6ee-484b-8dfc-30d2675c0f07",
   "metadata": {},
   "outputs": [
    {
     "name": "stdout",
     "output_type": "stream",
     "text": [
      "Table\n"
     ]
    }
   ],
   "source": [
    "word = text[-6:-1]\n",
    "print(word.title())"
   ]
  },
  {
   "cell_type": "code",
   "execution_count": 11,
   "id": "7ceb91fb-c4e7-4fd4-9c99-a92539526fe0",
   "metadata": {},
   "outputs": [],
   "source": [
    "random_text = '''\n",
    "  \\n  \\n  \\n                   This is                \\n  \\n  \\n   a     \\n  \\n  \\n  \n",
    "  \\n  \\n  \\n  car         \\n  \\n  \\n  \n",
    "'''\n",
    "# Car"
   ]
  },
  {
   "cell_type": "code",
   "execution_count": 12,
   "id": "24396492-ebee-4df9-ad5e-7a7fd73a3d1c",
   "metadata": {},
   "outputs": [
    {
     "name": "stdout",
     "output_type": "stream",
     "text": [
      "  \n",
      "\n"
     ]
    }
   ],
   "source": [
    "# areeba\n",
    "word = random_text[-3:]\n",
    "print(word.title())"
   ]
  },
  {
   "cell_type": "code",
   "execution_count": 23,
   "id": "de8174f2-9741-4ed4-949a-9e4aed4c2a19",
   "metadata": {
    "scrolled": true
   },
   "outputs": [],
   "source": [
    "# ayesha\n",
    "result = random_text.lower()\n",
    "# print(result)"
   ]
  },
  {
   "cell_type": "code",
   "execution_count": 17,
   "id": "3a93a57d-f677-4aa3-9d75-48ef24f1e840",
   "metadata": {},
   "outputs": [
    {
     "name": "stdout",
     "output_type": "stream",
     "text": [
      "Car\n"
     ]
    }
   ],
   "source": [
    "remove_extra_space = random_text.strip()\n",
    "print(remove_extra_space[-3:].title())"
   ]
  },
  {
   "cell_type": "code",
   "execution_count": 22,
   "id": "40bc5e5f-b9f3-45a9-adfa-069e57ddb2ad",
   "metadata": {},
   "outputs": [
    {
     "data": {
      "text/plain": [
       "'ali'"
      ]
     },
     "execution_count": 22,
     "metadata": {},
     "output_type": "execute_result"
    }
   ],
   "source": [
    "name = 'ali '\n",
    "name.strip()"
   ]
  }
 ],
 "metadata": {
  "kernelspec": {
   "display_name": "Python 3 (ipykernel)",
   "language": "python",
   "name": "python3"
  },
  "language_info": {
   "codemirror_mode": {
    "name": "ipython",
    "version": 3
   },
   "file_extension": ".py",
   "mimetype": "text/x-python",
   "name": "python",
   "nbconvert_exporter": "python",
   "pygments_lexer": "ipython3",
   "version": "3.12.4"
  }
 },
 "nbformat": 4,
 "nbformat_minor": 5
}
