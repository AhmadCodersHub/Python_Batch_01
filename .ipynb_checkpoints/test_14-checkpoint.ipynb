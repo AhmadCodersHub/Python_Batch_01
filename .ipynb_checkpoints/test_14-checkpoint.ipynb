{
 "cells": [
  {
   "cell_type": "code",
   "execution_count": 9,
   "id": "4789c741-2022-4fbb-ae8a-5e50198387d3",
   "metadata": {},
   "outputs": [],
   "source": [
    "text = '                   Orange                   is                 a               sweet        Fruit        '"
   ]
  },
  {
   "cell_type": "code",
   "execution_count": null,
   "id": "fe49ad19-0daa-4972-8f9f-60f89cc500c2",
   "metadata": {},
   "outputs": [],
   "source": [
    "#  ['Orange','is','a','sweet','Fruit']"
   ]
  },
  {
   "cell_type": "code",
   "execution_count": 10,
   "id": "34e38955-7ae8-4156-8d4a-15ac0d9e6861",
   "metadata": {
    "scrolled": true
   },
   "outputs": [
    {
     "name": "stdout",
     "output_type": "stream",
     "text": [
      "Orange                   is                 a               sweet        Fruit\n"
     ]
    },
    {
     "ename": "NameError",
     "evalue": "name 'result_2' is not defined",
     "output_type": "error",
     "traceback": [
      "\u001b[1;31m---------------------------------------------------------------------------\u001b[0m",
      "\u001b[1;31mNameError\u001b[0m                                 Traceback (most recent call last)",
      "Cell \u001b[1;32mIn[10], line 5\u001b[0m\n\u001b[0;32m      2\u001b[0m text \u001b[38;5;241m=\u001b[39m result_1\u001b[38;5;241m.\u001b[39mstrip()\n\u001b[0;32m      3\u001b[0m \u001b[38;5;28mprint\u001b[39m(text)\n\u001b[1;32m----> 5\u001b[0m text_2 \u001b[38;5;241m=\u001b[39m \u001b[43mresult_2\u001b[49m\u001b[38;5;241m.\u001b[39msplit(\u001b[38;5;124m'\u001b[39m\u001b[38;5;124m,\u001b[39m\u001b[38;5;124m'\u001b[39m)\n\u001b[0;32m      6\u001b[0m \u001b[38;5;28mprint\u001b[39m(text_2)\n",
      "\u001b[1;31mNameError\u001b[0m: name 'result_2' is not defined"
     ]
    }
   ],
   "source": [
    "# areeba\n",
    "text = result_1.strip()\n",
    "print(text)\n",
    "\n",
    "text_2 = result_2.split(',')\n",
    "print(text_2)"
   ]
  },
  {
   "cell_type": "code",
   "execution_count": 11,
   "id": "2eb3ab1b-c63e-40ac-a808-0f9cd008228c",
   "metadata": {
    "scrolled": true
   },
   "outputs": [
    {
     "ename": "NameError",
     "evalue": "name 'random_text' is not defined",
     "output_type": "error",
     "traceback": [
      "\u001b[1;31m---------------------------------------------------------------------------\u001b[0m",
      "\u001b[1;31mNameError\u001b[0m                                 Traceback (most recent call last)",
      "Cell \u001b[1;32mIn[11], line 2\u001b[0m\n\u001b[0;32m      1\u001b[0m \u001b[38;5;66;03m# ayesha\u001b[39;00m\n\u001b[1;32m----> 2\u001b[0m text \u001b[38;5;241m=\u001b[39m \u001b[43mrandom_text\u001b[49m\u001b[38;5;241m.\u001b[39mstrip()\n\u001b[0;32m      3\u001b[0m text_2 \u001b[38;5;241m=\u001b[39m text\u001b[38;5;241m.\u001b[39msplit()\n\u001b[0;32m      4\u001b[0m \u001b[38;5;28mprint\u001b[39m(text_2)\n",
      "\u001b[1;31mNameError\u001b[0m: name 'random_text' is not defined"
     ]
    }
   ],
   "source": [
    "# ayesha\n",
    "text = random_text.strip()\n",
    "text_2 = text.split()\n",
    "print(text_2)"
   ]
  },
  {
   "cell_type": "code",
   "execution_count": 12,
   "id": "41fd7928-65f4-4c15-b81b-c2cb18d597d8",
   "metadata": {},
   "outputs": [
    {
     "name": "stdout",
     "output_type": "stream",
     "text": [
      "['Orange', 'is', 'a', 'sweet', 'Fruit']\n"
     ]
    }
   ],
   "source": [
    "result = text.split()\n",
    "print(result)"
   ]
  },
  {
   "cell_type": "code",
   "execution_count": 13,
   "id": "7a5692f9-aad1-4e88-91b4-5e1da11d4104",
   "metadata": {},
   "outputs": [],
   "source": [
    "random_text = '7896745,7687'\n",
    "\n",
    "# 78967457687 # type should be integer "
   ]
  },
  {
   "cell_type": "code",
   "execution_count": 14,
   "id": "6f037b99-867c-4161-b0a3-5be910729a67",
   "metadata": {},
   "outputs": [
    {
     "ename": "TypeError",
     "evalue": "replace expected at least 2 arguments, got 1",
     "output_type": "error",
     "traceback": [
      "\u001b[1;31m---------------------------------------------------------------------------\u001b[0m",
      "\u001b[1;31mTypeError\u001b[0m                                 Traceback (most recent call last)",
      "Cell \u001b[1;32mIn[14], line 3\u001b[0m\n\u001b[0;32m      1\u001b[0m \u001b[38;5;66;03m# areeba\u001b[39;00m\n\u001b[1;32m----> 3\u001b[0m text_1 \u001b[38;5;241m=\u001b[39m \u001b[43mrandom_text\u001b[49m\u001b[38;5;241;43m.\u001b[39;49m\u001b[43mreplace\u001b[49m\u001b[43m(\u001b[49m\u001b[38;5;124;43m'\u001b[39;49m\u001b[38;5;124;43m,\u001b[39;49m\u001b[38;5;124;43m'\u001b[39;49m\u001b[43m)\u001b[49m\n\u001b[0;32m      4\u001b[0m \u001b[38;5;28mprint\u001b[39m(text_1)\n",
      "\u001b[1;31mTypeError\u001b[0m: replace expected at least 2 arguments, got 1"
     ]
    }
   ],
   "source": [
    "# areeba\n",
    "\n",
    "text_1 = random_text.replace(',')\n",
    "print(text_1)"
   ]
  },
  {
   "cell_type": "code",
   "execution_count": 15,
   "id": "77d88160-c0fe-4ba6-b065-c7fae33ee5cd",
   "metadata": {},
   "outputs": [
    {
     "name": "stdout",
     "output_type": "stream",
     "text": [
      ",\n"
     ]
    }
   ],
   "source": [
    "# ayesha \n",
    "\n",
    "text = random_text.replace('7896745,7687',',')\n",
    "print(text)"
   ]
  },
  {
   "cell_type": "code",
   "execution_count": 16,
   "id": "d7e499be-8470-4700-a373-0a1a458e8aea",
   "metadata": {},
   "outputs": [
    {
     "name": "stdout",
     "output_type": "stream",
     "text": [
      "78967457687\n",
      "<class 'int'>\n"
     ]
    }
   ],
   "source": [
    "# correct answer\n",
    "string_num = random_text.replace(',','') \n",
    "final_result = int(string_num) \n",
    "print(final_result) \n",
    "print(type(final_result))"
   ]
  }
 ],
 "metadata": {
  "kernelspec": {
   "display_name": "Python 3 (ipykernel)",
   "language": "python",
   "name": "python3"
  },
  "language_info": {
   "codemirror_mode": {
    "name": "ipython",
    "version": 3
   },
   "file_extension": ".py",
   "mimetype": "text/x-python",
   "name": "python",
   "nbconvert_exporter": "python",
   "pygments_lexer": "ipython3",
   "version": "3.12.4"
  }
 },
 "nbformat": 4,
 "nbformat_minor": 5
}
