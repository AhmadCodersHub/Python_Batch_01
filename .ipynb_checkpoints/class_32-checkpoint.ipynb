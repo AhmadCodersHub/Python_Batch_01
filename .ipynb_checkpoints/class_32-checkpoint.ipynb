{
 "cells": [
  {
   "cell_type": "code",
   "execution_count": 1,
   "id": "573ef1aa-b1f0-4502-93da-634f62fd6ab1",
   "metadata": {},
   "outputs": [],
   "source": [
    "# Problem-07:\n",
    "# Create a program that takes a string as input and then removes all the vowels from the string.\n"
   ]
  },
  {
   "cell_type": "code",
   "execution_count": 57,
   "id": "5eea8499-09b5-42c6-bd67-6e21418b60c4",
   "metadata": {},
   "outputs": [
    {
     "name": "stdout",
     "output_type": "stream",
     "text": [
      "ths s  cr\n"
     ]
    }
   ],
   "source": [
    "input_string = 'This Is a car'\n",
    "vowels = 'aeiou'\n",
    "removed_vowels_str = ''\n",
    "for letter in input_string.lower():\n",
    "    if letter in vowels:\n",
    "        pass\n",
    "    else:\n",
    "        removed_vowels_str += letter\n",
    "\n",
    "print(removed_vowels_str)"
   ]
  },
  {
   "cell_type": "code",
   "execution_count": 12,
   "id": "c0430ff9-4750-4ead-8b78-963523dfd12d",
   "metadata": {
    "scrolled": true
   },
   "outputs": [],
   "source": [
    "# Problem-05: \n",
    "# Create a program that takes a list of numbers as input and then prints out the sum of the even numbers in the list."
   ]
  },
  {
   "cell_type": "code",
   "execution_count": 19,
   "id": "c91ea62e-44f2-4710-ae00-337bf0c379a4",
   "metadata": {},
   "outputs": [
    {
     "name": "stdout",
     "output_type": "stream",
     "text": [
      "30\n"
     ]
    }
   ],
   "source": [
    "list_of_numbers = [1,2,3,4,5,6,7,8,9,10]\n",
    "even_numbers = []\n",
    "for num in list_of_numbers:\n",
    "    if num % 2 == 0:\n",
    "        even_numbers.append(num)\n",
    "\n",
    "sum_of_even_nums = sum(even_numbers)\n",
    "print(sum_of_even_nums)"
   ]
  },
  {
   "cell_type": "code",
   "execution_count": null,
   "id": "73af752d-4e4c-452c-8d01-32991026be5d",
   "metadata": {},
   "outputs": [],
   "source": []
  },
  {
   "cell_type": "code",
   "execution_count": 22,
   "id": "8ef230a7-8261-4005-b4ae-fa3f16f7f8f3",
   "metadata": {},
   "outputs": [],
   "source": [
    "# List Sort Descending"
   ]
  },
  {
   "cell_type": "code",
   "execution_count": 40,
   "id": "9d183de1-10b8-4f7f-8f38-dae3955bcbc4",
   "metadata": {},
   "outputs": [
    {
     "name": "stdout",
     "output_type": "stream",
     "text": [
      "[23, 50, 65, 82, 100]\n"
     ]
    }
   ],
   "source": [
    "thislist = [100, 50, 65, 82, 23]\n",
    "thislist.sort(reverse=False)\n",
    "print(thislist)"
   ]
  },
  {
   "cell_type": "code",
   "execution_count": 26,
   "id": "bc53dacc-c5e1-4930-bd11-22b8c44b79c2",
   "metadata": {},
   "outputs": [],
   "source": [
    "thislist.sort(reverse=True)"
   ]
  },
  {
   "cell_type": "code",
   "execution_count": 27,
   "id": "93271c6b-a42a-4567-8d04-818a5754dde8",
   "metadata": {},
   "outputs": [
    {
     "name": "stdout",
     "output_type": "stream",
     "text": [
      "[100, 82, 65, 50, 23]\n"
     ]
    }
   ],
   "source": [
    "print(thislist)"
   ]
  },
  {
   "cell_type": "code",
   "execution_count": 29,
   "id": "305c58b4-5989-4dbd-b07d-8bd7fbf90392",
   "metadata": {},
   "outputs": [
    {
     "name": "stdout",
     "output_type": "stream",
     "text": [
      "[6, 8, 9, 2]\n"
     ]
    }
   ],
   "source": [
    "numbers = [2,9,8,6]\n",
    "numbers.reverse()\n",
    "print(numbers)"
   ]
  },
  {
   "cell_type": "code",
   "execution_count": 41,
   "id": "31184e7a-3425-4e5b-a452-4f049633f7a3",
   "metadata": {},
   "outputs": [
    {
     "name": "stdout",
     "output_type": "stream",
     "text": [
      "[9, 8, 6, 2]\n"
     ]
    }
   ],
   "source": [
    "numbers.sort(reverse=True)\n",
    "print(numbers)"
   ]
  },
  {
   "cell_type": "code",
   "execution_count": 43,
   "id": "dd9ded66-aca1-4bf7-8cae-379e13593dab",
   "metadata": {},
   "outputs": [],
   "source": [
    "# copy()"
   ]
  },
  {
   "cell_type": "code",
   "execution_count": 42,
   "id": "11e4f8ac-9eda-46ae-80a5-e54928fba5c1",
   "metadata": {},
   "outputs": [],
   "source": [
    "thislist = [100, 50, 65, 82, 23]"
   ]
  },
  {
   "cell_type": "code",
   "execution_count": 45,
   "id": "817641b4-70c0-4e55-b0e3-bf94d0c31d21",
   "metadata": {},
   "outputs": [
    {
     "name": "stdout",
     "output_type": "stream",
     "text": [
      "[23, 50, 65, 82, 100]\n"
     ]
    }
   ],
   "source": [
    "thislist = [100, 50, 65, 82, 23]\n",
    "thislist.sort(reverse=False)\n",
    "sorted_list = thislist.copy()\n",
    "print(sorted_list)"
   ]
  },
  {
   "cell_type": "code",
   "execution_count": 46,
   "id": "ce02889e-19f1-4b4a-b915-d21658f008a9",
   "metadata": {},
   "outputs": [],
   "source": [
    "# count()"
   ]
  },
  {
   "cell_type": "code",
   "execution_count": 49,
   "id": "32603efe-a835-4611-b815-087fb0f7608b",
   "metadata": {},
   "outputs": [
    {
     "data": {
      "text/plain": [
       "2"
      ]
     },
     "execution_count": 49,
     "metadata": {},
     "output_type": "execute_result"
    }
   ],
   "source": [
    "thislist = [100, 50,100, 65, 82, 23]\n",
    "thislist.count(100) "
   ]
  },
  {
   "cell_type": "code",
   "execution_count": 50,
   "id": "abc85004-e17d-437d-9429-234cc94bc12a",
   "metadata": {},
   "outputs": [],
   "source": [
    "# index()"
   ]
  },
  {
   "cell_type": "code",
   "execution_count": 54,
   "id": "5c570c3a-b220-4664-8b41-65f37ca5c389",
   "metadata": {},
   "outputs": [
    {
     "data": {
      "text/plain": [
       "0"
      ]
     },
     "execution_count": 54,
     "metadata": {},
     "output_type": "execute_result"
    }
   ],
   "source": [
    "thislist.index(100)"
   ]
  },
  {
   "cell_type": "code",
   "execution_count": null,
   "id": "e6d444c7-9b25-4415-b54d-40eca82d58d1",
   "metadata": {},
   "outputs": [],
   "source": []
  },
  {
   "cell_type": "code",
   "execution_count": null,
   "id": "6c21669d-989a-46d5-aafe-f96e1204b306",
   "metadata": {},
   "outputs": [],
   "source": []
  }
 ],
 "metadata": {
  "kernelspec": {
   "display_name": "Python 3 (ipykernel)",
   "language": "python",
   "name": "python3"
  },
  "language_info": {
   "codemirror_mode": {
    "name": "ipython",
    "version": 3
   },
   "file_extension": ".py",
   "mimetype": "text/x-python",
   "name": "python",
   "nbconvert_exporter": "python",
   "pygments_lexer": "ipython3",
   "version": "3.12.4"
  }
 },
 "nbformat": 4,
 "nbformat_minor": 5
}
