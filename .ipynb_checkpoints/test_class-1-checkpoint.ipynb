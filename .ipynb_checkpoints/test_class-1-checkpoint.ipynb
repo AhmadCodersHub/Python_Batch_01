{
 "cells": [
  {
   "cell_type": "code",
   "execution_count": 4,
   "id": "b2bf9b40-e649-4504-8dff-23fd5872ef41",
   "metadata": {},
   "outputs": [],
   "source": [
    "text = 'this is a car.'"
   ]
  },
  {
   "cell_type": "code",
   "execution_count": 6,
   "id": "43d7efb1-c9b4-4491-ab2c-76ab3b64d652",
   "metadata": {},
   "outputs": [],
   "source": [
    "text = 'book'"
   ]
  },
  {
   "cell_type": "code",
   "execution_count": 7,
   "id": "91128247-7fdd-4996-8112-4ab55a752a8c",
   "metadata": {},
   "outputs": [
    {
     "name": "stdout",
     "output_type": "stream",
     "text": [
      "book\n"
     ]
    }
   ],
   "source": [
    "print(text)"
   ]
  },
  {
   "cell_type": "code",
   "execution_count": null,
   "id": "8ece3597-cfb4-4c17-8fd3-3d7a295e43e2",
   "metadata": {},
   "outputs": [],
   "source": []
  },
  {
   "cell_type": "code",
   "execution_count": 9,
   "id": "29a1c56e-d712-4bed-b51b-e536b2e2a089",
   "metadata": {},
   "outputs": [
    {
     "name": "stdout",
     "output_type": "stream",
     "text": [
      "10\n"
     ]
    }
   ],
   "source": [
    "x = 6\n",
    "y = 4\n",
    "z = x + y\n",
    "print(z)"
   ]
  },
  {
   "cell_type": "code",
   "execution_count": null,
   "id": "ee5d2cc7-14e9-4787-8207-fe62ecb51e4f",
   "metadata": {},
   "outputs": [],
   "source": []
  },
  {
   "cell_type": "code",
   "execution_count": 13,
   "id": "3d954f4f-332d-442c-a055-aaa74ac5ac6c",
   "metadata": {},
   "outputs": [
    {
     "name": "stdout",
     "output_type": "stream",
     "text": [
      "let's go\n"
     ]
    }
   ],
   "source": [
    "new_text = \"let's go\"\n",
    "\n",
    "print(new_text)"
   ]
  },
  {
   "cell_type": "code",
   "execution_count": 14,
   "id": "3ed02b21-03fa-4453-8f60-e43c7e9fbd9c",
   "metadata": {},
   "outputs": [
    {
     "name": "stdout",
     "output_type": "stream",
     "text": [
      "let\"s go\n"
     ]
    }
   ],
   "source": [
    "new_text = 'let\"s go'\n",
    "\n",
    "print(new_text)"
   ]
  },
  {
   "cell_type": "code",
   "execution_count": null,
   "id": "00912b08-f83e-42c6-b0ab-8eff8821d4e1",
   "metadata": {},
   "outputs": [],
   "source": []
  },
  {
   "cell_type": "code",
   "execution_count": 15,
   "id": "6ec80f98-cd85-4ef1-bd36-f798a021bcdc",
   "metadata": {},
   "outputs": [
    {
     "name": "stdout",
     "output_type": "stream",
     "text": [
      "-6\n"
     ]
    }
   ],
   "source": [
    "y = 6 * -1\n",
    "\n",
    "print(y)"
   ]
  },
  {
   "cell_type": "code",
   "execution_count": null,
   "id": "68d82847-50c7-4078-bb0f-8f7469ca1d30",
   "metadata": {},
   "outputs": [],
   "source": []
  },
  {
   "cell_type": "code",
   "execution_count": 18,
   "id": "6ed4f66e-ce36-4bf1-9ceb-545452a7254e",
   "metadata": {},
   "outputs": [
    {
     "name": "stdout",
     "output_type": "stream",
     "text": [
      "-1\n"
     ]
    }
   ],
   "source": [
    "num1 = 9\n",
    "num2 = 10\n",
    "num3 = num1 - num2\n",
    "num4 = num3 * 1\n",
    "print(num1)"
   ]
  },
  {
   "cell_type": "code",
   "execution_count": null,
   "id": "de8faf38-a1f5-42a4-b9fd-739d58efc9dd",
   "metadata": {},
   "outputs": [],
   "source": []
  },
  {
   "cell_type": "code",
   "execution_count": null,
   "id": "956defad-f5be-4a7e-b7d5-a5e7946c79df",
   "metadata": {},
   "outputs": [],
   "source": []
  }
 ],
 "metadata": {
  "kernelspec": {
   "display_name": "Python 3 (ipykernel)",
   "language": "python",
   "name": "python3"
  },
  "language_info": {
   "codemirror_mode": {
    "name": "ipython",
    "version": 3
   },
   "file_extension": ".py",
   "mimetype": "text/x-python",
   "name": "python",
   "nbconvert_exporter": "python",
   "pygments_lexer": "ipython3",
   "version": "3.12.4"
  }
 },
 "nbformat": 4,
 "nbformat_minor": 5
}
