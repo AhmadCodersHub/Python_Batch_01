{
 "cells": [
  {
   "cell_type": "code",
   "execution_count": 8,
   "id": "974cb177-35e7-44a3-bc08-a75e160c8f1e",
   "metadata": {
    "jupyter": {
     "source_hidden": true
    }
   },
   "outputs": [],
   "source": [
    "# list_of_item = ['this is a car','this is a book']\n",
    "# word = list_of_item[0]\n",
    "\n",
    "# # print(type(list_of_item))\n",
    "\n",
    "\n",
    "# results = word[5:7]\n",
    "# print(results)"
   ]
  },
  {
   "cell_type": "code",
   "execution_count": null,
   "id": "92541aed-4caa-409a-9c63-2c1692825fa7",
   "metadata": {},
   "outputs": [],
   "source": []
  },
  {
   "cell_type": "code",
   "execution_count": 9,
   "id": "03d0a19a-8265-4473-9ddb-49ab5dceebee",
   "metadata": {},
   "outputs": [],
   "source": [
    "text_1 = '''\n",
    "This is a car.\n",
    "This is a good car. #\n",
    "It's Color is Black.\n",
    "'''"
   ]
  },
  {
   "cell_type": "code",
   "execution_count": null,
   "id": "c8079fa5-dccc-4c14-be72-a65b26b28605",
   "metadata": {},
   "outputs": [],
   "source": [
    "# ayesha\n",
    "\n",
    "results_1 = text_1[:18]"
   ]
  },
  {
   "cell_type": "code",
   "execution_count": null,
   "id": "3130e3dd-96cb-4d89-9e9b-6f5222747aaa",
   "metadata": {},
   "outputs": [],
   "source": [
    "# areeba\n",
    "\n",
    "results_2 = "
   ]
  }
 ],
 "metadata": {
  "kernelspec": {
   "display_name": "Python 3 (ipykernel)",
   "language": "python",
   "name": "python3"
  },
  "language_info": {
   "codemirror_mode": {
    "name": "ipython",
    "version": 3
   },
   "file_extension": ".py",
   "mimetype": "text/x-python",
   "name": "python",
   "nbconvert_exporter": "python",
   "pygments_lexer": "ipython3",
   "version": "3.12.4"
  }
 },
 "nbformat": 4,
 "nbformat_minor": 5
}
