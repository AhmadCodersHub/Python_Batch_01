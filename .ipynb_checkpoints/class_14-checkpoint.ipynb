{
 "cells": [
  {
   "cell_type": "code",
   "execution_count": null,
   "id": "ce786f0e-3873-4df2-bf6f-78ae0e6a7816",
   "metadata": {},
   "outputs": [],
   "source": [
    "# replace() it will takes two arguments\n",
    "# split() it will take argument or we can use it also without argument "
   ]
  },
  {
   "cell_type": "code",
   "execution_count": null,
   "id": "2e64a406-9e14-4203-8e70-18de547fca50",
   "metadata": {},
   "outputs": [],
   "source": [
    "# replace()"
   ]
  },
  {
   "cell_type": "code",
   "execution_count": 3,
   "id": "4ea7dbd1-fc2d-4154-825f-9735627f6976",
   "metadata": {},
   "outputs": [
    {
     "name": "stdout",
     "output_type": "stream",
     "text": [
      "this is a car.\n"
     ]
    }
   ],
   "source": [
    "text = 'this is is a car.'\n",
    "new_text = text.replace(' is is ',' is ') # change the element\n",
    "print(new_text)"
   ]
  },
  {
   "cell_type": "code",
   "execution_count": 18,
   "id": "b020d025-1259-43cc-9b42-493823f74aa4",
   "metadata": {},
   "outputs": [
    {
     "data": {
      "text/plain": [
       "'THIS IS A CAR.'"
      ]
     },
     "execution_count": 18,
     "metadata": {},
     "output_type": "execute_result"
    }
   ],
   "source": [
    "new_text.upper()"
   ]
  },
  {
   "cell_type": "code",
   "execution_count": 5,
   "id": "eecac2c9-2b6a-4f95-aa64-7f6a7b127891",
   "metadata": {},
   "outputs": [
    {
     "name": "stdout",
     "output_type": "stream",
     "text": [
      "This is a book. This is a good book.\n"
     ]
    }
   ],
   "source": [
    "other_text = 'This is a book. This is not a good book.'\n",
    "parse_text = other_text.replace(' not','') # remove the element\n",
    "print(parse_text)"
   ]
  },
  {
   "cell_type": "code",
   "execution_count": 8,
   "id": "0f00be43-8d5d-4b5b-ac71-17c359cedf04",
   "metadata": {},
   "outputs": [
    {
     "name": "stdout",
     "output_type": "stream",
     "text": [
      "['Apple', 'Orange', 'Mango']\n"
     ]
    }
   ],
   "source": [
    "# split()\n",
    "furits_name = 'Apple,Orange,Mango'\n",
    "split_names = furits_name.split(',') # with argument \n",
    "print(split_names)"
   ]
  },
  {
   "cell_type": "code",
   "execution_count": 1,
   "id": "4c925a67-8043-45b0-955c-ab4bc584260f",
   "metadata": {},
   "outputs": [
    {
     "name": "stdout",
     "output_type": "stream",
     "text": [
      "['mouse', 'computer', 'moniter', 'table', 'chair']\n"
     ]
    }
   ],
   "source": [
    "things = '   mouse    computer    moniter    table   chair     '\n",
    "list_of_things = things.split() # without argument\n",
    "print(list_of_things)"
   ]
  },
  {
   "cell_type": "code",
   "execution_count": 20,
   "id": "487c9fb1-9f14-4501-a43c-776b4f479281",
   "metadata": {},
   "outputs": [
    {
     "name": "stdout",
     "output_type": "stream",
     "text": [
      "['mouse', 'computer', 'moniter', 'table', 'chair']\n"
     ]
    }
   ],
   "source": [
    "list_of_things_2 = things.split(' ') # with argument\n",
    "print(list_of_things_2)"
   ]
  },
  {
   "cell_type": "code",
   "execution_count": 15,
   "id": "cb06be39-8df3-4439-b59d-3496cf203666",
   "metadata": {},
   "outputs": [
    {
     "data": {
      "text/plain": [
       "list"
      ]
     },
     "execution_count": 15,
     "metadata": {},
     "output_type": "execute_result"
    }
   ],
   "source": [
    "type(list_of_things_2)"
   ]
  }
 ],
 "metadata": {
  "kernelspec": {
   "display_name": "Python 3 (ipykernel)",
   "language": "python",
   "name": "python3"
  },
  "language_info": {
   "codemirror_mode": {
    "name": "ipython",
    "version": 3
   },
   "file_extension": ".py",
   "mimetype": "text/x-python",
   "name": "python",
   "nbconvert_exporter": "python",
   "pygments_lexer": "ipython3",
   "version": "3.12.4"
  }
 },
 "nbformat": 4,
 "nbformat_minor": 5
}
