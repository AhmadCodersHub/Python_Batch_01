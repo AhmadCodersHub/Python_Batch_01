{
 "cells": [
  {
   "cell_type": "code",
   "execution_count": 1,
   "id": "18346579-ebb5-4e34-82fa-fb6e1388f9c4",
   "metadata": {},
   "outputs": [],
   "source": [
    "# mapping data\n",
    "\n",
    "# dict"
   ]
  },
  {
   "cell_type": "code",
   "execution_count": 17,
   "id": "dc93a84c-ad0b-45a1-afd7-df58fae69573",
   "metadata": {},
   "outputs": [
    {
     "name": "stdout",
     "output_type": "stream",
     "text": [
      "{'name': 'ali'}\n"
     ]
    }
   ],
   "source": [
    "person_1_details = {'name':'ali','class':'8th','roll no':18, 'grade':'A+'}\n",
    "print(person_1_details)\n",
    "# print(type(person_1_details))"
   ]
  },
  {
   "cell_type": "code",
   "execution_count": null,
   "id": "78ca37a2-ddc7-4775-ab6d-b73b6bd79021",
   "metadata": {},
   "outputs": [],
   "source": []
  },
  {
   "cell_type": "code",
   "execution_count": 13,
   "id": "3c7510c5-4ee9-4514-8e31-dd8d6d187a1c",
   "metadata": {},
   "outputs": [
    {
     "name": "stdout",
     "output_type": "stream",
     "text": [
      "{'room_1': 'class_1', 'roome_2': 'class_2'}\n"
     ]
    }
   ],
   "source": [
    "class_details = {'room_1':'class_1','roome_2':'class_2'}\n",
    "print(class_details)"
   ]
  },
  {
   "cell_type": "code",
   "execution_count": 15,
   "id": "199762d1-7b76-4ce1-baaf-8cb85a85184a",
   "metadata": {},
   "outputs": [
    {
     "name": "stdout",
     "output_type": "stream",
     "text": [
      "{1.0: 'one', 2: 'two'}\n"
     ]
    }
   ],
   "source": [
    "number_dict = {1:'one',2:'two'}\n",
    "print(number_dict)"
   ]
  }
 ],
 "metadata": {
  "kernelspec": {
   "display_name": "Python 3 (ipykernel)",
   "language": "python",
   "name": "python3"
  },
  "language_info": {
   "codemirror_mode": {
    "name": "ipython",
    "version": 3
   },
   "file_extension": ".py",
   "mimetype": "text/x-python",
   "name": "python",
   "nbconvert_exporter": "python",
   "pygments_lexer": "ipython3",
   "version": "3.12.4"
  }
 },
 "nbformat": 4,
 "nbformat_minor": 5
}
