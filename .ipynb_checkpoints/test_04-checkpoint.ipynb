{
 "cells": [
  {
   "cell_type": "code",
   "execution_count": 7,
   "id": "568d3447-e550-47fb-9c0a-eba9ef6cb0cc",
   "metadata": {},
   "outputs": [],
   "source": [
    "# case sensitive variables "
   ]
  },
  {
   "cell_type": "code",
   "execution_count": 5,
   "id": "46f9d386-b8bb-4892-a30f-cf5fbae7c9db",
   "metadata": {},
   "outputs": [
    {
     "name": "stdout",
     "output_type": "stream",
     "text": [
      "50\n"
     ]
    }
   ],
   "source": [
    "# age\n",
    "a = 50\n",
    "print(a)"
   ]
  },
  {
   "cell_type": "code",
   "execution_count": null,
   "id": "44d3af98-327a-472e-b02f-02a256fd4ae3",
   "metadata": {},
   "outputs": [],
   "source": [
    "age = 50\n",
    "print(age)"
   ]
  },
  {
   "cell_type": "code",
   "execution_count": null,
   "id": "a3d1ef78-97c3-421d-a0ec-cc84246fdbea",
   "metadata": {},
   "outputs": [],
   "source": []
  },
  {
   "cell_type": "code",
   "execution_count": 9,
   "id": "cb1cd85e-f7a7-4296-b45a-3abcb4418440",
   "metadata": {},
   "outputs": [],
   "source": [
    "car_1 = 'Honda-civics'\n",
    "car_2 = 'Honda-civics'\n",
    "car_3 = 'Honda-civics'\n",
    "car_4 = 'Honda-civics'"
   ]
  },
  {
   "cell_type": "code",
   "execution_count": 10,
   "id": "9074dcca-55b9-477f-8213-ca4609f56186",
   "metadata": {},
   "outputs": [],
   "source": [
    "car_1 = car_2 = car_3 = car_4 = 'Honda-civics'"
   ]
  },
  {
   "cell_type": "code",
   "execution_count": null,
   "id": "aa0e55c1-1a5c-47e9-998d-4e0620ad9163",
   "metadata": {},
   "outputs": [],
   "source": []
  },
  {
   "cell_type": "code",
   "execution_count": 11,
   "id": "85982b23-b9c2-4b36-b376-21a0da5c8c3f",
   "metadata": {},
   "outputs": [],
   "source": [
    "furit_1 = 'mango'\n",
    "furit_2 = 'banana'\n",
    "furit_3 = 'orange'\n",
    "furit_4 = 'apple'"
   ]
  },
  {
   "cell_type": "code",
   "execution_count": 13,
   "id": "48820099-988a-4897-9109-94de2ab9b78e",
   "metadata": {},
   "outputs": [
    {
     "name": "stdout",
     "output_type": "stream",
     "text": [
      "orange\n"
     ]
    }
   ],
   "source": [
    "furit_1, furit_2, furit_3, furit_4 = 'mango', 'banana', 'orange', 'apple'\n",
    "print(furit_3)"
   ]
  },
  {
   "cell_type": "code",
   "execution_count": null,
   "id": "c61b23b8-b35e-416c-9c00-7509f02eb80d",
   "metadata": {},
   "outputs": [],
   "source": []
  },
  {
   "cell_type": "code",
   "execution_count": 14,
   "id": "3703bc98-013c-40bc-ba9b-79c2316988a8",
   "metadata": {},
   "outputs": [],
   "source": [
    "# list "
   ]
  },
  {
   "cell_type": "code",
   "execution_count": 15,
   "id": "31e05c45-a718-4286-b062-522473971ac5",
   "metadata": {},
   "outputs": [],
   "source": [
    "student_list = ['ali','ahmad','hamza','hassan']"
   ]
  },
  {
   "cell_type": "code",
   "execution_count": 16,
   "id": "fe75a981-6609-404f-89c2-d81323111263",
   "metadata": {},
   "outputs": [
    {
     "name": "stdout",
     "output_type": "stream",
     "text": [
      "['ali', 'ahmad', 'hamza', 'hassan']\n"
     ]
    }
   ],
   "source": [
    "print(student_list)"
   ]
  },
  {
   "cell_type": "code",
   "execution_count": 17,
   "id": "bfeadc65-a157-4393-825e-3d49a24be47c",
   "metadata": {},
   "outputs": [
    {
     "data": {
      "text/plain": [
       "list"
      ]
     },
     "execution_count": 17,
     "metadata": {},
     "output_type": "execute_result"
    }
   ],
   "source": [
    "type(student_list)"
   ]
  },
  {
   "cell_type": "code",
   "execution_count": null,
   "id": "9ee42657-21ae-4168-9794-54f58a88d320",
   "metadata": {},
   "outputs": [],
   "source": []
  },
  {
   "cell_type": "code",
   "execution_count": 18,
   "id": "ed43c09e-acbd-489f-8616-b821bd7625e2",
   "metadata": {},
   "outputs": [
    {
     "name": "stdout",
     "output_type": "stream",
     "text": [
      "14.3\n"
     ]
    }
   ],
   "source": [
    "# float\n",
    "\n",
    "x = 14.300\n",
    "print(x)"
   ]
  },
  {
   "cell_type": "code",
   "execution_count": 19,
   "id": "2f03a37b-5542-4e96-afb8-29ab004e0579",
   "metadata": {},
   "outputs": [
    {
     "data": {
      "text/plain": [
       "float"
      ]
     },
     "execution_count": 19,
     "metadata": {},
     "output_type": "execute_result"
    }
   ],
   "source": [
    "type(x)"
   ]
  },
  {
   "cell_type": "code",
   "execution_count": 22,
   "id": "ff44b964-5827-48d7-b355-ba37a8c1a933",
   "metadata": {},
   "outputs": [
    {
     "name": "stdout",
     "output_type": "stream",
     "text": [
      "1j\n"
     ]
    }
   ],
   "source": [
    "# complex\n",
    "\n",
    "x = 1j\n",
    "print(x)"
   ]
  },
  {
   "cell_type": "code",
   "execution_count": null,
   "id": "2e7b53d8-ee9a-4d65-b62d-c53ebfe59ba2",
   "metadata": {},
   "outputs": [],
   "source": []
  },
  {
   "cell_type": "code",
   "execution_count": null,
   "id": "3482d5e6-852d-47f2-b451-9285dd1eee78",
   "metadata": {},
   "outputs": [],
   "source": []
  }
 ],
 "metadata": {
  "kernelspec": {
   "display_name": "Python 3 (ipykernel)",
   "language": "python",
   "name": "python3"
  },
  "language_info": {
   "codemirror_mode": {
    "name": "ipython",
    "version": 3
   },
   "file_extension": ".py",
   "mimetype": "text/x-python",
   "name": "python",
   "nbconvert_exporter": "python",
   "pygments_lexer": "ipython3",
   "version": "3.12.4"
  }
 },
 "nbformat": 4,
 "nbformat_minor": 5
}
