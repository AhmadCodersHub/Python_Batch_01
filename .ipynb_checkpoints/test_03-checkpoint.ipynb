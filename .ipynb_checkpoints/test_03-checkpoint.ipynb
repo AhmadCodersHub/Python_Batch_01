{
 "cells": [
  {
   "cell_type": "code",
   "execution_count": null,
   "id": "29bca547-3092-4f87-8384-6020ab9b833b",
   "metadata": {},
   "outputs": [],
   "source": []
  },
  {
   "cell_type": "code",
   "execution_count": 1,
   "id": "85558d15-b5e1-4d1a-aadb-ea272be5bbac",
   "metadata": {},
   "outputs": [],
   "source": [
    "std_1_grade = 70\n",
    "std_2_grade = 70\n",
    "std_3_grade = 70\n",
    "std_4_grade = 70\n",
    "std_5_grade = 70\n",
    "std_6_grade = 70"
   ]
  },
  {
   "cell_type": "code",
   "execution_count": 3,
   "id": "44dc2248-9f23-4d2d-9896-2d9068adc99e",
   "metadata": {},
   "outputs": [],
   "source": [
    "std_1_grade = std_2_grade = std_3_grade = std_4_grade = std_5_grade = std_6_grade = 70"
   ]
  },
  {
   "cell_type": "code",
   "execution_count": null,
   "id": "4bd153bd-b46c-4dc9-ae65-1865c5179199",
   "metadata": {},
   "outputs": [],
   "source": []
  },
  {
   "cell_type": "code",
   "execution_count": 4,
   "id": "e3819675-d23c-40ea-900d-49a4849e5b8f",
   "metadata": {},
   "outputs": [],
   "source": [
    "std_1_grade = 80\n",
    "std_2_grade = 20\n",
    "std_3_grade = 33\n",
    "std_4_grade = 50"
   ]
  },
  {
   "cell_type": "code",
   "execution_count": 6,
   "id": "9dd12eff-10f8-4cab-8254-0677ffff5b05",
   "metadata": {},
   "outputs": [
    {
     "ename": "SyntaxError",
     "evalue": "cannot assign to literal (1061274240.py, line 2)",
     "output_type": "error",
     "traceback": [
      "\u001b[1;36m  Cell \u001b[1;32mIn[6], line 2\u001b[1;36m\u001b[0m\n\u001b[1;33m    std_1_grade = std_2_grade = std_3_grade =  std_4_grade = 80 = 20 = 33 = 50\u001b[0m\n\u001b[1;37m                                                             ^\u001b[0m\n\u001b[1;31mSyntaxError\u001b[0m\u001b[1;31m:\u001b[0m cannot assign to literal\n"
     ]
    }
   ],
   "source": [
    "# areeba\n",
    "std_1_grade = std_2_grade = std_3_grade =  std_4_grade = 80 = 20 = 33 = 50"
   ]
  },
  {
   "cell_type": "code",
   "execution_count": null,
   "id": "c8fcfd37-80f8-43ea-8012-77b633979bee",
   "metadata": {},
   "outputs": [],
   "source": []
  },
  {
   "cell_type": "code",
   "execution_count": null,
   "id": "9cf2c9e4-aa2c-47d5-b42b-33107a6bd4be",
   "metadata": {},
   "outputs": [],
   "source": []
  },
  {
   "cell_type": "code",
   "execution_count": 7,
   "id": "c32d917c-407b-4762-9832-26748adc2c48",
   "metadata": {},
   "outputs": [],
   "source": [
    "# ayesha\n",
    "std_1_grade, std_2_grade, std_3_grade, std_4_grade = 80, 20,  33, 50"
   ]
  },
  {
   "cell_type": "code",
   "execution_count": 11,
   "id": "0be1d169-11a5-41a3-9782-171ea11b9be3",
   "metadata": {},
   "outputs": [
    {
     "name": "stdout",
     "output_type": "stream",
     "text": [
      "80\n"
     ]
    }
   ],
   "source": [
    "print(std_1_grade)"
   ]
  }
 ],
 "metadata": {
  "kernelspec": {
   "display_name": "Python 3 (ipykernel)",
   "language": "python",
   "name": "python3"
  },
  "language_info": {
   "codemirror_mode": {
    "name": "ipython",
    "version": 3
   },
   "file_extension": ".py",
   "mimetype": "text/x-python",
   "name": "python",
   "nbconvert_exporter": "python",
   "pygments_lexer": "ipython3",
   "version": "3.12.4"
  }
 },
 "nbformat": 4,
 "nbformat_minor": 5
}
