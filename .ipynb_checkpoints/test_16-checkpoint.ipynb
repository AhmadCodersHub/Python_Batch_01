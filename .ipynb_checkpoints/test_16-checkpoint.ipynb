{
 "cells": [
  {
   "cell_type": "code",
   "execution_count": 3,
   "id": "e5e24035-3b2f-448f-be2a-b1eaaa450954",
   "metadata": {},
   "outputs": [],
   "source": [
    "text = 'orange,apple,mango are furits.'\n",
    "\n",
    "\n",
    "# answer should be like this \n",
    "# print(answer)\n",
    "# output \n",
    "# 'Orange,Apple and Mango are furits.' "
   ]
  },
  {
   "cell_type": "code",
   "execution_count": 20,
   "id": "a6d10e7f-d449-4425-93ec-5ba9bb895460",
   "metadata": {},
   "outputs": [
    {
     "name": "stdout",
     "output_type": "stream",
     "text": [
      "Orange,Apple and Mango are furits.\n"
     ]
    }
   ],
   "source": [
    "split_text = text.split()\n",
    "first_part_tag = split_text[0].title()\n",
    "second_part_tag = split_text[1:]\n",
    "second_part = second_part_tag[0] + ' ' + second_part_tag[-1]\n",
    "first_part = first_part_tag.replace(',Mango',' and Mango')\n",
    "answer = first_part + ' ' + second_part\n",
    "print(answer) "
   ]
  },
  {
   "cell_type": "code",
   "execution_count": 9,
   "id": "3100f486-6061-4ea6-9ad9-9149478f2635",
   "metadata": {},
   "outputs": [
    {
     "data": {
      "text/plain": [
       "['orange,apple,mango', 'are', 'furits.']"
      ]
     },
     "execution_count": 9,
     "metadata": {},
     "output_type": "execute_result"
    }
   ],
   "source": [
    "split_text"
   ]
  },
  {
   "cell_type": "code",
   "execution_count": 1,
   "id": "2c9f52b2-e7bf-436f-a47c-2dc11cc3b3f5",
   "metadata": {},
   "outputs": [
    {
     "ename": "NameError",
     "evalue": "name 'random_text' is not defined",
     "output_type": "error",
     "traceback": [
      "\u001b[1;31m---------------------------------------------------------------------------\u001b[0m",
      "\u001b[1;31mNameError\u001b[0m                                 Traceback (most recent call last)",
      "Cell \u001b[1;32mIn[1], line 3\u001b[0m\n\u001b[0;32m      1\u001b[0m \u001b[38;5;66;03m# areeba\u001b[39;00m\n\u001b[1;32m----> 3\u001b[0m text \u001b[38;5;241m=\u001b[39m \u001b[43mrandom_text\u001b[49m\u001b[38;5;241m.\u001b[39msplit()\n\u001b[0;32m      4\u001b[0m \u001b[38;5;28mprint\u001b[39m(text)\n",
      "\u001b[1;31mNameError\u001b[0m: name 'random_text' is not defined"
     ]
    }
   ],
   "source": [
    "# areeba\n",
    "text = random_text.split()\n",
    "print(text) "
   ]
  },
  {
   "cell_type": "code",
   "execution_count": 4,
   "id": "ecaf2e29-c3e1-4858-b51e-16f58e23fe99",
   "metadata": {},
   "outputs": [
    {
     "name": "stdout",
     "output_type": "stream",
     "text": [
      "Orange,Apple,Mango Are Furits.\n"
     ]
    }
   ],
   "source": [
    "# ayesha\n",
    "text_1 = text.title()\n",
    "print(text_1)"
   ]
  }
 ],
 "metadata": {
  "kernelspec": {
   "display_name": "Python 3 (ipykernel)",
   "language": "python",
   "name": "python3"
  },
  "language_info": {
   "codemirror_mode": {
    "name": "ipython",
    "version": 3
   },
   "file_extension": ".py",
   "mimetype": "text/x-python",
   "name": "python",
   "nbconvert_exporter": "python",
   "pygments_lexer": "ipython3",
   "version": "3.12.4"
  }
 },
 "nbformat": 4,
 "nbformat_minor": 5
}
