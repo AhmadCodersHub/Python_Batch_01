{
 "cells": [
  {
   "cell_type": "code",
   "execution_count": 1,
   "id": "dd69075f-8e3a-44f4-b51a-04937dc30d49",
   "metadata": {},
   "outputs": [
    {
     "name": "stdout",
     "output_type": "stream",
     "text": [
      "True\n"
     ]
    }
   ],
   "source": [
    "message = 'Hello! How are you?'\n",
    "results = 'are' in message\n",
    "print(results)"
   ]
  },
  {
   "cell_type": "code",
   "execution_count": 18,
   "id": "838c290b-9c4b-418d-acd9-779ccc354882",
   "metadata": {},
   "outputs": [
    {
     "name": "stdout",
     "output_type": "stream",
     "text": [
      "8\n"
     ]
    }
   ],
   "source": [
    "# ayesha\n",
    "message_2 = 'Hello! .'\n",
    "\n",
    "# print(length(message_2))\n",
    "print(len(message_2))"
   ]
  },
  {
   "cell_type": "code",
   "execution_count": 3,
   "id": "7b4d14c6-78b7-4a37-84d7-adf33180d36d",
   "metadata": {},
   "outputs": [
    {
     "ename": "SyntaxError",
     "evalue": "cannot assign to function call here. Maybe you meant '==' instead of '='? (2667011886.py, line 2)",
     "output_type": "error",
     "traceback": [
      "\u001b[1;36m  Cell \u001b[1;32mIn[3], line 2\u001b[1;36m\u001b[0m\n\u001b[1;33m    print(length_word) = len(message_2)\u001b[0m\n\u001b[1;37m    ^\u001b[0m\n\u001b[1;31mSyntaxError\u001b[0m\u001b[1;31m:\u001b[0m cannot assign to function call here. Maybe you meant '==' instead of '='?\n"
     ]
    }
   ],
   "source": [
    "# areeba\n",
    "print(length_word) = len(message_2)\n",
    "length_word = len(message_2)\n",
    "print(length_word)"
   ]
  },
  {
   "cell_type": "code",
   "execution_count": 4,
   "id": "4a3d036e-b432-423b-8e9d-eed2746c03ea",
   "metadata": {},
   "outputs": [
    {
     "name": "stdout",
     "output_type": "stream",
     "text": [
      "7\n"
     ]
    }
   ],
   "source": [
    "length_word = len(message_2)\n",
    "print(length_word)"
   ]
  },
  {
   "cell_type": "code",
   "execution_count": null,
   "id": "4afc0be2-a4ef-4168-88a6-04d0cda249fa",
   "metadata": {},
   "outputs": [],
   "source": []
  },
  {
   "cell_type": "code",
   "execution_count": 7,
   "id": "2d999b3b-5b63-43f7-9fcf-1d8faf0bdd74",
   "metadata": {},
   "outputs": [
    {
     "name": "stdout",
     "output_type": "stream",
     "text": [
      "6\n"
     ]
    }
   ],
   "source": [
    "word = 'hello '\n",
    "\n",
    "print(len(word))"
   ]
  },
  {
   "cell_type": "code",
   "execution_count": null,
   "id": "35e38f2e-dcf1-4ff7-af64-bf66595ffca6",
   "metadata": {},
   "outputs": [],
   "source": [
    "# ayesha\n",
    "\n",
    "# 5"
   ]
  },
  {
   "cell_type": "code",
   "execution_count": 6,
   "id": "ccaffd34-bbc2-45cb-84c7-565d297dc34c",
   "metadata": {},
   "outputs": [],
   "source": [
    "# areeba\n",
    "\n",
    "# 5"
   ]
  },
  {
   "cell_type": "code",
   "execution_count": null,
   "id": "7c318e36-e8fc-469f-a466-1342b7616663",
   "metadata": {},
   "outputs": [],
   "source": []
  },
  {
   "cell_type": "code",
   "execution_count": 8,
   "id": "0c0ed259-59e5-4836-a2c3-67ea6f11006c",
   "metadata": {},
   "outputs": [
    {
     "name": "stdout",
     "output_type": "stream",
     "text": [
      "Hello! How are you? Everything Okay. Where you go?\n"
     ]
    }
   ],
   "source": [
    "string_line = 'Hello! How are you? Everything Okay. Where you go?'\n",
    "\n",
    "print(string_line)"
   ]
  },
  {
   "cell_type": "markdown",
   "id": "ae90b427-f609-4e3b-932d-e8f7b1f34a80",
   "metadata": {},
   "source": [
    "Hello! How are you?\n",
    "Everything Okay.\n",
    "Where you go?"
   ]
  },
  {
   "cell_type": "code",
   "execution_count": 9,
   "id": "26007751-7eba-4540-815e-cc8bf8360444",
   "metadata": {},
   "outputs": [
    {
     "name": "stdout",
     "output_type": "stream",
     "text": [
      "Hello! How are you?\n",
      "Everything Okay.\n",
      "Where you go?\n"
     ]
    }
   ],
   "source": [
    "# areeba\n",
    "\n",
    "string_line = '''Hello! How are you?\n",
    "Everything Okay.\n",
    "Where you go?'''\n",
    "\n",
    "print(string_line)"
   ]
  },
  {
   "cell_type": "code",
   "execution_count": null,
   "id": "63a383d1-2817-4465-aaec-e30e9539451a",
   "metadata": {},
   "outputs": [],
   "source": []
  },
  {
   "cell_type": "code",
   "execution_count": 12,
   "id": "0f140861-cd46-4df0-8e73-4fc6b2d0bb80",
   "metadata": {},
   "outputs": [
    {
     "name": "stdout",
     "output_type": "stream",
     "text": [
      "Hello! How are you?\n",
      " Everything Okay.\n",
      "Where you go?\n"
     ]
    }
   ],
   "source": [
    "# ayesha\n",
    "string_line = 'Hello! How are you?\\n Everything Okay.\\nWhere you go?'\n",
    "print(string_line)"
   ]
  },
  {
   "cell_type": "code",
   "execution_count": null,
   "id": "65e49c82-516e-48b0-beb3-9c1a92f2d24e",
   "metadata": {},
   "outputs": [],
   "source": []
  },
  {
   "cell_type": "code",
   "execution_count": null,
   "id": "36956b1f-ae17-460a-b933-c8aadd049345",
   "metadata": {},
   "outputs": [],
   "source": []
  }
 ],
 "metadata": {
  "kernelspec": {
   "display_name": "Python 3 (ipykernel)",
   "language": "python",
   "name": "python3"
  },
  "language_info": {
   "codemirror_mode": {
    "name": "ipython",
    "version": 3
   },
   "file_extension": ".py",
   "mimetype": "text/x-python",
   "name": "python",
   "nbconvert_exporter": "python",
   "pygments_lexer": "ipython3",
   "version": "3.12.4"
  }
 },
 "nbformat": 4,
 "nbformat_minor": 5
}
