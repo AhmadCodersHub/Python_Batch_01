{
 "cells": [
  {
   "cell_type": "code",
   "execution_count": 8,
   "id": "235f8a41-5d76-4191-b460-fcc878f9002a",
   "metadata": {},
   "outputs": [],
   "source": [
    "# Python - Variable Names"
   ]
  },
  {
   "cell_type": "code",
   "execution_count": 10,
   "id": "6a53d48f-1604-4de1-b2c3-c7acd2414e1b",
   "metadata": {},
   "outputs": [
    {
     "name": "stdout",
     "output_type": "stream",
     "text": [
      "Ali\n"
     ]
    }
   ],
   "source": [
    "name = 'Ali'\n",
    "print(name)"
   ]
  },
  {
   "cell_type": "code",
   "execution_count": 12,
   "id": "bbcd2d3d-37e0-44f3-8bac-52a4b09a4e38",
   "metadata": {},
   "outputs": [
    {
     "name": "stdout",
     "output_type": "stream",
     "text": [
      "Ali\n"
     ]
    }
   ],
   "source": [
    "Name = 'Ali'\n",
    "print(Name)"
   ]
  },
  {
   "cell_type": "code",
   "execution_count": 13,
   "id": "a6efbde5-211f-4a55-b6e0-21f3630f44be",
   "metadata": {},
   "outputs": [
    {
     "name": "stdout",
     "output_type": "stream",
     "text": [
      "Ali\n"
     ]
    }
   ],
   "source": [
    "_name = 'Ali'\n",
    "print(_name)"
   ]
  },
  {
   "cell_type": "code",
   "execution_count": 14,
   "id": "5bf41da9-ed75-4f01-b158-507ec2200f6d",
   "metadata": {},
   "outputs": [
    {
     "ename": "SyntaxError",
     "evalue": "invalid decimal literal (2218299160.py, line 1)",
     "output_type": "error",
     "traceback": [
      "\u001b[1;36m  Cell \u001b[1;32mIn[14], line 1\u001b[1;36m\u001b[0m\n\u001b[1;33m    1name = 'Ali'\u001b[0m\n\u001b[1;37m    ^\u001b[0m\n\u001b[1;31mSyntaxError\u001b[0m\u001b[1;31m:\u001b[0m invalid decimal literal\n"
     ]
    }
   ],
   "source": [
    "1name = 'Ali'"
   ]
  },
  {
   "cell_type": "code",
   "execution_count": 15,
   "id": "c119cab0-1697-4d72-be6b-c68a648d9a94",
   "metadata": {},
   "outputs": [
    {
     "name": "stdout",
     "output_type": "stream",
     "text": [
      "this is a car\n",
      "this is a book\n"
     ]
    }
   ],
   "source": [
    "Text_1 = 'this is a car'\n",
    "Text_2 = 'this is a book'\n",
    "print(Text_1)\n",
    "print(Text_2)"
   ]
  },
  {
   "cell_type": "code",
   "execution_count": 16,
   "id": "775c9e79-0b9e-40a7-92aa-ea72cb565821",
   "metadata": {},
   "outputs": [
    {
     "ename": "SyntaxError",
     "evalue": "invalid syntax (641792568.py, line 1)",
     "output_type": "error",
     "traceback": [
      "\u001b[1;36m  Cell \u001b[1;32mIn[16], line 1\u001b[1;36m\u001b[0m\n\u001b[1;33m    and = 12343\u001b[0m\n\u001b[1;37m    ^\u001b[0m\n\u001b[1;31mSyntaxError\u001b[0m\u001b[1;31m:\u001b[0m invalid syntax\n"
     ]
    }
   ],
   "source": [
    "and = 12343"
   ]
  },
  {
   "cell_type": "code",
   "execution_count": 17,
   "id": "27a0579a-53b5-4834-9b50-df687d77353c",
   "metadata": {},
   "outputs": [],
   "source": [
    "And = 12343"
   ]
  }
 ],
 "metadata": {
  "kernelspec": {
   "display_name": "Python 3 (ipykernel)",
   "language": "python",
   "name": "python3"
  },
  "language_info": {
   "codemirror_mode": {
    "name": "ipython",
    "version": 3
   },
   "file_extension": ".py",
   "mimetype": "text/x-python",
   "name": "python",
   "nbconvert_exporter": "python",
   "pygments_lexer": "ipython3",
   "version": "3.12.4"
  }
 },
 "nbformat": 4,
 "nbformat_minor": 5
}
