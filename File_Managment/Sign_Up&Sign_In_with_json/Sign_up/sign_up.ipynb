{
 "cells": [
  {
   "cell_type": "code",
   "execution_count": 1,
   "metadata": {},
   "outputs": [],
   "source": [
    "import json"
   ]
  },
  {
   "cell_type": "code",
   "execution_count": 19,
   "metadata": {},
   "outputs": [],
   "source": [
    "# data = {\n",
    "#     'all_data':[\n",
    "#         {\n",
    "#             'name':'admin',\n",
    "#             'email':'admi123@gmail.com',\n",
    "#             'password':'admin123'\n",
    "#         },\n",
    "#     ]\n",
    "# }"
   ]
  },
  {
   "cell_type": "code",
   "execution_count": 18,
   "metadata": {},
   "outputs": [],
   "source": [
    "# with open('data.json','w') as f:\n",
    "#     json.dump(fp=f,obj=data,indent=4)"
   ]
  },
  {
   "cell_type": "code",
   "execution_count": 2,
   "metadata": {},
   "outputs": [],
   "source": [
    "def read_data():\n",
    "    with open('data.json','r') as f:\n",
    "        json_resp = json.load(f)\n",
    "        all_data = json_resp.get('all_data',[])\n",
    "        return all_data"
   ]
  },
  {
   "cell_type": "code",
   "execution_count": 20,
   "metadata": {},
   "outputs": [],
   "source": []
  },
  {
   "cell_type": "code",
   "execution_count": 3,
   "metadata": {},
   "outputs": [],
   "source": [
    "user_name = 'Raza'\n",
    "email = 'raza123@gmail.com'\n",
    "password = 'raza123'"
   ]
  },
  {
   "cell_type": "code",
   "execution_count": 7,
   "metadata": {},
   "outputs": [
    {
     "name": "stdout",
     "output_type": "stream",
     "text": [
      "Email already exists!\n"
     ]
    }
   ],
   "source": [
    "all_data = read_data()\n",
    "all_emails = [data.get('email') for data in all_data]\n",
    "\n",
    "if email in all_emails:\n",
    "    print('Email already exists!')\n",
    "else:\n",
    "    previous_data = read_data()\n",
    "    data = {\n",
    "        'name':user_name,\n",
    "        'email':email,\n",
    "        'password':password\n",
    "    }\n",
    "    previous_data.append(data)\n",
    "    with open('data.json','w') as f:\n",
    "        json.dump(fp=f,obj={'all_data':previous_data},indent=4)\n",
    "    \n",
    "    print('Sign Up Successfully!')\n",
    "\n"
   ]
  },
  {
   "cell_type": "code",
   "execution_count": 8,
   "metadata": {},
   "outputs": [],
   "source": [
    "email = \"raza123@gmail.com\"\n",
    "password = \"raza123\""
   ]
  },
  {
   "cell_type": "code",
   "execution_count": 5,
   "metadata": {},
   "outputs": [],
   "source": [
    "all_data = read_data()"
   ]
  },
  {
   "cell_type": "code",
   "execution_count": 10,
   "metadata": {},
   "outputs": [
    {
     "name": "stdout",
     "output_type": "stream",
     "text": [
      "Login Successfully! Welcome Raza\n"
     ]
    }
   ],
   "source": [
    "for data in all_data:\n",
    "    name = data.get('name')\n",
    "    if data.get('email') == email and data.get('password') == password:\n",
    "        print('Login Successfully! Welcome',name)\n",
    "        break\n",
    "else:\n",
    "    print('Invalid Credentials!')"
   ]
  }
 ],
 "metadata": {
  "kernelspec": {
   "display_name": "Python 3",
   "language": "python",
   "name": "python3"
  },
  "language_info": {
   "codemirror_mode": {
    "name": "ipython",
    "version": 3
   },
   "file_extension": ".py",
   "mimetype": "text/x-python",
   "name": "python",
   "nbconvert_exporter": "python",
   "pygments_lexer": "ipython3",
   "version": "3.12.4"
  }
 },
 "nbformat": 4,
 "nbformat_minor": 2
}
