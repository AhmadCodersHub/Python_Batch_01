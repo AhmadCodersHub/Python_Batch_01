{
 "cells": [
  {
   "cell_type": "code",
   "execution_count": 4,
   "metadata": {},
   "outputs": [],
   "source": [
    "import csv"
   ]
  },
  {
   "cell_type": "code",
   "execution_count": 3,
   "metadata": {},
   "outputs": [],
   "source": [
    "name = 'Ali Raza'\n",
    "email = 'ali123@gmail.com'\n",
    "password = 'ali123@'\n",
    "# name = 'Raza'\n",
    "# email = 'raza123@gmail.com'\n",
    "# password = 'ali123@'"
   ]
  },
  {
   "cell_type": "code",
   "execution_count": 12,
   "metadata": {},
   "outputs": [
    {
     "data": {
      "text/plain": [
       "['Email',\n",
       " 'raza123@gmail.com',\n",
       " 'ali123@gmail.com',\n",
       " 'ahmad123@gmail.com',\n",
       " 'hamza123@gmail.com',\n",
       " 'ayesha123gmail.com']"
      ]
     },
     "execution_count": 12,
     "metadata": {},
     "output_type": "execute_result"
    }
   ],
   "source": [
    "with open('data.csv','r') as f:\n",
    "    csv_reader = f.readlines()\n",
    "    all_previous_emails = [row.strip().split(',')[1] for row in csv_reader]\n",
    "all_previous_emails"
   ]
  },
  {
   "cell_type": "code",
   "execution_count": 15,
   "metadata": {},
   "outputs": [
    {
     "name": "stdout",
     "output_type": "stream",
     "text": [
      "[Error] email(ali123@gmail.com) Already Taken!\n"
     ]
    }
   ],
   "source": [
    "if email in all_previous_emails:\n",
    "    print(f'[Error] email({email}) Already Taken!')\n",
    "else:\n",
    "    new_user = [name,email,password]\n",
    "    with open('data.csv','a',newline='') as f:\n",
    "        csv_writer = csv.writer(f)\n",
    "        csv_writer.writerow(new_user)\n",
    "    print(f'[INFO] Congratulations ({name}) Successfully Sign Up!')"
   ]
  },
  {
   "cell_type": "code",
   "execution_count": null,
   "metadata": {},
   "outputs": [],
   "source": []
  },
  {
   "cell_type": "code",
   "execution_count": null,
   "metadata": {},
   "outputs": [],
   "source": []
  },
  {
   "cell_type": "code",
   "execution_count": null,
   "metadata": {},
   "outputs": [],
   "source": []
  },
  {
   "cell_type": "code",
   "execution_count": null,
   "metadata": {},
   "outputs": [],
   "source": []
  },
  {
   "cell_type": "code",
   "execution_count": null,
   "metadata": {},
   "outputs": [],
   "source": []
  }
 ],
 "metadata": {
  "kernelspec": {
   "display_name": "Python 3",
   "language": "python",
   "name": "python3"
  },
  "language_info": {
   "codemirror_mode": {
    "name": "ipython",
    "version": 3
   },
   "file_extension": ".py",
   "mimetype": "text/x-python",
   "name": "python",
   "nbconvert_exporter": "python",
   "pygments_lexer": "ipython3",
   "version": "3.12.4"
  }
 },
 "nbformat": 4,
 "nbformat_minor": 2
}
