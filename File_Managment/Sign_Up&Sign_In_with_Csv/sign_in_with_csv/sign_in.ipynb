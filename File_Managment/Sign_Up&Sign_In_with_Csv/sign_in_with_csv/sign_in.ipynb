{
 "cells": [
  {
   "cell_type": "code",
   "execution_count": 3,
   "metadata": {},
   "outputs": [],
   "source": [
    "import csv"
   ]
  },
  {
   "cell_type": "code",
   "execution_count": 12,
   "metadata": {},
   "outputs": [],
   "source": [
    "email = 'hamzaa123@gmail.com'\n",
    "password = 'hamza123'"
   ]
  },
  {
   "cell_type": "code",
   "execution_count": 6,
   "metadata": {},
   "outputs": [
    {
     "data": {
      "text/plain": [
       "[['Name', 'Email', 'Password'],\n",
       " ['Raza', 'raza123@gmail.com', 'raza123'],\n",
       " ['Ali Raza', 'ali123@gmail.com', 'ali123@'],\n",
       " ['ahmad', 'ahmad123@gmail.com', 'ahmad123'],\n",
       " ['Hamaza', 'hamza123@gmail.com', 'hamza123'],\n",
       " ['Ayesha', 'ayesha123gmail.com', 'ayesha123']]"
      ]
     },
     "execution_count": 6,
     "metadata": {},
     "output_type": "execute_result"
    }
   ],
   "source": [
    "with open('data.csv','r') as f:\n",
    "    reader = csv.reader(f)\n",
    "    all_data = [row for row in reader]\n",
    "all_data"
   ]
  },
  {
   "cell_type": "code",
   "execution_count": 15,
   "metadata": {},
   "outputs": [
    {
     "name": "stdout",
     "output_type": "stream",
     "text": [
      "Login Failed\n"
     ]
    }
   ],
   "source": [
    "for row in all_data:\n",
    "    save_name = row[0]\n",
    "    save_email = row[1]\n",
    "    save_password = row[2]\n",
    "    if save_email == email and save_password == password:\n",
    "        print('Login Successful name:',save_name)\n",
    "        break\n",
    "else:\n",
    "    print('Login Failed')"
   ]
  },
  {
   "cell_type": "code",
   "execution_count": null,
   "metadata": {},
   "outputs": [],
   "source": []
  }
 ],
 "metadata": {
  "kernelspec": {
   "display_name": "Python 3",
   "language": "python",
   "name": "python3"
  },
  "language_info": {
   "codemirror_mode": {
    "name": "ipython",
    "version": 3
   },
   "file_extension": ".py",
   "mimetype": "text/x-python",
   "name": "python",
   "nbconvert_exporter": "python",
   "pygments_lexer": "ipython3",
   "version": "3.12.4"
  }
 },
 "nbformat": 4,
 "nbformat_minor": 2
}
