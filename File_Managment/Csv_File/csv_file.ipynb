{
 "cells": [
  {
   "cell_type": "code",
   "execution_count": 15,
   "metadata": {},
   "outputs": [],
   "source": [
    "import csv"
   ]
  },
  {
   "cell_type": "markdown",
   "metadata": {},
   "source": [
    "#### read the csv"
   ]
  },
  {
   "cell_type": "code",
   "execution_count": 4,
   "metadata": {},
   "outputs": [],
   "source": [
    "with open(file='data.csv',mode='r') as file:\n",
    "    reader = csv.reader(file)\n",
    "    all_data = list(reader)"
   ]
  },
  {
   "cell_type": "code",
   "execution_count": 8,
   "metadata": {},
   "outputs": [],
   "source": [
    "# with open(file='data.csv',mode='r') as file:\n",
    "#     reader = csv.reader(file)\n",
    "#     all_data = [row for row in reader]"
   ]
  },
  {
   "cell_type": "markdown",
   "metadata": {},
   "source": [
    "#### write the csv"
   ]
  },
  {
   "cell_type": "code",
   "execution_count": 8,
   "metadata": {},
   "outputs": [
    {
     "data": {
      "text/plain": [
       "[['UserName', 'Gender', 'Email', 'Password'],\n",
       " ['Ali', 'Male', 'ali123@gmail.com', 'ali123@'],\n",
       " ['Hadir', 'Male', 'hadir123@gmmail.com', 'hadir123@'],\n",
       " ['Raza', 'Male', 'raza123@gmail.come', 'raza123@']]"
      ]
     },
     "execution_count": 8,
     "metadata": {},
     "output_type": "execute_result"
    }
   ],
   "source": [
    "all_data = [['UserName', 'Gender', 'Email', 'Password'],\n",
    " ['Ali', 'Male', 'ali123@gmail.com', 'ali123@'],\n",
    " ['Hadir', 'Male', 'hadir123@gmmail.com', 'hadir123@'],\n",
    " ['Raza', 'Male', 'raza123@gmail.come', 'raza123@']]\n",
    "\n",
    "all_data"
   ]
  },
  {
   "cell_type": "code",
   "execution_count": 26,
   "metadata": {},
   "outputs": [],
   "source": [
    "#### create file \n",
    "# open(file='data.csv',mode='w',newline='').close()"
   ]
  },
  {
   "cell_type": "code",
   "execution_count": 12,
   "metadata": {},
   "outputs": [],
   "source": [
    "def save_data(data):\n",
    "    with open(file='data.csv',mode='a',newline='') as file:\n",
    "        writer = csv.writer(file)\n",
    "        writer.writerow(data)"
   ]
  },
  {
   "cell_type": "code",
   "execution_count": 14,
   "metadata": {},
   "outputs": [
    {
     "name": "stdout",
     "output_type": "stream",
     "text": [
      "['UserName', 'Gender', 'Email', 'Password']\n",
      "['Ali', 'Male', 'ali123@gmail.com', 'ali123@']\n",
      "['Hadir', 'Male', 'hadir123@gmmail.com', 'hadir123@']\n",
      "['Raza', 'Male', 'raza123@gmail.come', 'raza123@']\n"
     ]
    }
   ],
   "source": [
    "for data in all_data:\n",
    "    print(data)\n",
    "    save_data(data)"
   ]
  },
  {
   "cell_type": "code",
   "execution_count": null,
   "metadata": {},
   "outputs": [],
   "source": []
  }
 ],
 "metadata": {
  "kernelspec": {
   "display_name": "Python 3",
   "language": "python",
   "name": "python3"
  },
  "language_info": {
   "codemirror_mode": {
    "name": "ipython",
    "version": 3
   },
   "file_extension": ".py",
   "mimetype": "text/x-python",
   "name": "python",
   "nbconvert_exporter": "python",
   "pygments_lexer": "ipython3",
   "version": "3.12.4"
  }
 },
 "nbformat": 4,
 "nbformat_minor": 2
}
